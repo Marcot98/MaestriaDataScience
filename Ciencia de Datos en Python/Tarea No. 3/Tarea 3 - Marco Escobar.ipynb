{
 "cells": [
  {
   "cell_type": "markdown",
   "metadata": {},
   "source": [
    ">># **Ciencia de Datos en Python**\n",
    "### Hoja de Trabajo #3 - Diccionarios, Sets y Programacion Orientada a Objetos \n",
    "###### *Marco Tulio Escobar Muñoz*"
   ]
  },
  {
   "cell_type": "code",
   "execution_count": null,
   "metadata": {},
   "outputs": [],
   "source": [
    "class regresion():\n",
    "    def __init__(self, x, y):\n",
    "        self.beta0 = #Calcular beta0 utilizando x & y\n",
    "        self.beta1 = #Calcular beta1 utilizando x & y\n",
    "        self.x = #lista de valores de x\n",
    "        self.y = #lista de valores de y\n",
    "        \n",
    "    def predict(self, val):\n",
    "    \n",
    "    def predictN(self, vals):\n",
    "    \n",
    "    def r2(self):\n",
    "    \n",
    "    def r(self):\n",
    "    \n",
    "    def getAllParams(self):\n",
    "    \n",
    "    @classmethod\n",
    "    def from_file(cls, path):"
   ]
  }
 ],
 "metadata": {
  "kernelspec": {
   "display_name": "Python 3",
   "language": "python",
   "name": "python3"
  },
  "language_info": {
   "codemirror_mode": {
    "name": "ipython",
    "version": 3
   },
   "file_extension": ".py",
   "mimetype": "text/x-python",
   "name": "python",
   "nbconvert_exporter": "python",
   "pygments_lexer": "ipython3",
   "version": "3.8.5"
  }
 },
 "nbformat": 4,
 "nbformat_minor": 4
}
