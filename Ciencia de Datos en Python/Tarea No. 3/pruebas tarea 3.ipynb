{
 "cells": [
  {
   "cell_type": "code",
   "execution_count": 8,
   "metadata": {},
   "outputs": [],
   "source": [
    "#Datos:\n",
    "x = [1,2,3,4,5,6,7,8,9,10,11,12,13,14,15]\n",
    "y = [1,2,2,4,5,4,6,4,6,7,9,10,11,12,10]\n"
   ]
  },
  {
   "cell_type": "code",
   "execution_count": 11,
   "metadata": {},
   "outputs": [
    {
     "data": {
      "text/plain": [
       "[1, 2, 3, 4, 5, 6, 7, 8, 9, 10, 11, 12, 13, 14, 15]"
      ]
     },
     "execution_count": 11,
     "metadata": {},
     "output_type": "execute_result"
    }
   ],
   "source": [
    "x"
   ]
  },
  {
   "cell_type": "code",
   "execution_count": 12,
   "metadata": {},
   "outputs": [
    {
     "data": {
      "text/plain": [
       "[1, 2, 2, 4, 5, 4, 6, 4, 6, 7, 9, 10, 11, 12, 10]"
      ]
     },
     "execution_count": 12,
     "metadata": {},
     "output_type": "execute_result"
    }
   ],
   "source": [
    "y"
   ]
  },
  {
   "cell_type": "code",
   "execution_count": 5,
   "metadata": {},
   "outputs": [
    {
     "data": {
      "text/plain": [
       "15"
      ]
     },
     "execution_count": 5,
     "metadata": {},
     "output_type": "execute_result"
    }
   ],
   "source": [
    "n =len(x)\n",
    "#sumx = sum(x)\n",
    "#sumy = sum(y)\n",
    "#sumx2 = sum(x*x)\n",
    "#sumy2 = sum(y*y)\n",
    "#sumaxy = sum(x*y)\n",
    "#promx= sum(x)/n\n",
    "#promy= sum(y)/n\n",
    "#m = (sumx*sumy - n* sumxy) / (sumx**2 - n *sumx2)\n",
    "#b = promy - m*promx"
   ]
  },
  {
   "cell_type": "code",
   "execution_count": 13,
   "metadata": {},
   "outputs": [],
   "source": [
    "sumx2 = []\n",
    "\n",
    "for i in range(len(x)):\n",
    "    sumx2.append(x[i] * x[i])"
   ]
  },
  {
   "cell_type": "code",
   "execution_count": 14,
   "metadata": {},
   "outputs": [
    {
     "data": {
      "text/plain": [
       "[1, 4, 9, 16, 25, 36, 49, 64, 81, 100, 121, 144, 169, 196, 225]"
      ]
     },
     "execution_count": 14,
     "metadata": {},
     "output_type": "execute_result"
    }
   ],
   "source": [
    "sumx2"
   ]
  },
  {
   "cell_type": "code",
   "execution_count": 15,
   "metadata": {},
   "outputs": [],
   "source": [
    "sumy2 = []\n",
    "\n",
    "for i in range(len(y)):\n",
    "    sumy2.append(y[i] * y[i])"
   ]
  },
  {
   "cell_type": "code",
   "execution_count": 16,
   "metadata": {},
   "outputs": [
    {
     "data": {
      "text/plain": [
       "[1, 4, 4, 16, 25, 16, 36, 16, 36, 49, 81, 100, 121, 144, 100]"
      ]
     },
     "execution_count": 16,
     "metadata": {},
     "output_type": "execute_result"
    }
   ],
   "source": [
    "sumy2"
   ]
  },
  {
   "cell_type": "code",
   "execution_count": 17,
   "metadata": {},
   "outputs": [],
   "source": [
    "sumaxy = []\n",
    "\n",
    "for i in range(len(x)):\n",
    "    sumaxy.append(x[i] * y[i])"
   ]
  },
  {
   "cell_type": "code",
   "execution_count": 18,
   "metadata": {},
   "outputs": [
    {
     "data": {
      "text/plain": [
       "[1, 4, 6, 16, 25, 24, 42, 32, 54, 70, 99, 120, 143, 168, 150]"
      ]
     },
     "execution_count": 18,
     "metadata": {},
     "output_type": "execute_result"
    }
   ],
   "source": [
    "sumaxy"
   ]
  },
  {
   "cell_type": "code",
   "execution_count": 19,
   "metadata": {},
   "outputs": [],
   "source": [
    "sumx = []\n",
    "\n",
    "for i in range(len(x)):\n",
    "    sumx.append(x[i] + x[i])"
   ]
  },
  {
   "cell_type": "code",
   "execution_count": 20,
   "metadata": {},
   "outputs": [
    {
     "data": {
      "text/plain": [
       "[2, 4, 6, 8, 10, 12, 14, 16, 18, 20, 22, 24, 26, 28, 30]"
      ]
     },
     "execution_count": 20,
     "metadata": {},
     "output_type": "execute_result"
    }
   ],
   "source": [
    "sumx"
   ]
  },
  {
   "cell_type": "code",
   "execution_count": 21,
   "metadata": {},
   "outputs": [],
   "source": [
    "sumy = []\n",
    "\n",
    "for i in range(len(y)):\n",
    "    sumy.append(y[i] + y[i])"
   ]
  },
  {
   "cell_type": "code",
   "execution_count": 22,
   "metadata": {},
   "outputs": [
    {
     "data": {
      "text/plain": [
       "[2, 4, 4, 8, 10, 8, 12, 8, 12, 14, 18, 20, 22, 24, 20]"
      ]
     },
     "execution_count": 22,
     "metadata": {},
     "output_type": "execute_result"
    }
   ],
   "source": [
    "sumy"
   ]
  },
  {
   "cell_type": "code",
   "execution_count": 25,
   "metadata": {},
   "outputs": [
    {
     "data": {
      "text/plain": [
       "8.0"
      ]
     },
     "execution_count": 25,
     "metadata": {},
     "output_type": "execute_result"
    }
   ],
   "source": [
    "promx = sum(x)/n\n",
    "promx"
   ]
  },
  {
   "cell_type": "code",
   "execution_count": 26,
   "metadata": {},
   "outputs": [
    {
     "data": {
      "text/plain": [
       "6.2"
      ]
     },
     "execution_count": 26,
     "metadata": {},
     "output_type": "execute_result"
    }
   ],
   "source": [
    "promy= sum(y)/n\n",
    "promy"
   ]
  },
  {
   "cell_type": "code",
   "execution_count": 27,
   "metadata": {},
   "outputs": [
    {
     "ename": "TypeError",
     "evalue": "can't multiply sequence by non-int of type 'list'",
     "output_type": "error",
     "traceback": [
      "\u001b[1;31m---------------------------------------------------------------------------\u001b[0m",
      "\u001b[1;31mTypeError\u001b[0m                                 Traceback (most recent call last)",
      "\u001b[1;32m<ipython-input-27-65e5e596f564>\u001b[0m in \u001b[0;36m<module>\u001b[1;34m\u001b[0m\n\u001b[1;32m----> 1\u001b[1;33m \u001b[0mbeta0\u001b[0m \u001b[1;33m=\u001b[0m \u001b[1;33m(\u001b[0m\u001b[0mn\u001b[0m\u001b[1;33m*\u001b[0m\u001b[0msumaxy\u001b[0m \u001b[1;33m-\u001b[0m \u001b[0msumx\u001b[0m\u001b[1;33m*\u001b[0m\u001b[0msumy\u001b[0m\u001b[1;33m)\u001b[0m\u001b[1;33m/\u001b[0m\u001b[1;33m(\u001b[0m\u001b[0mn\u001b[0m\u001b[1;33m*\u001b[0m\u001b[0msumx\u001b[0m\u001b[1;33m**\u001b[0m\u001b[1;36m2\u001b[0m\u001b[1;33m-\u001b[0m\u001b[1;33m(\u001b[0m\u001b[0msumx\u001b[0m\u001b[1;33m)\u001b[0m\u001b[1;33m**\u001b[0m\u001b[1;36m2\u001b[0m\u001b[1;33m)\u001b[0m\u001b[1;33m\u001b[0m\u001b[1;33m\u001b[0m\u001b[0m\n\u001b[0m",
      "\u001b[1;31mTypeError\u001b[0m: can't multiply sequence by non-int of type 'list'"
     ]
    }
   ],
   "source": [
    "beta0 = (n*sumaxy - sumx*sumy)/(n*sumx**2-sumx2)"
   ]
  },
  {
   "cell_type": "code",
   "execution_count": 30,
   "metadata": {},
   "outputs": [],
   "source": [
    "multixy = []\n",
    "\n",
    "for i in range(len(sumx)):\n",
    "    multixy.append(sumx[i] * sumy[i])"
   ]
  },
  {
   "cell_type": "code",
   "execution_count": 31,
   "metadata": {},
   "outputs": [
    {
     "data": {
      "text/plain": [
       "[4, 16, 24, 64, 100, 96, 168, 128, 216, 280, 396, 480, 572, 672, 600]"
      ]
     },
     "execution_count": 31,
     "metadata": {},
     "output_type": "execute_result"
    }
   ],
   "source": [
    "multixy"
   ]
  },
  {
   "cell_type": "code",
   "execution_count": 46,
   "metadata": {},
   "outputs": [],
   "source": [
    "cuadrosumx = []\n",
    "\n",
    "for i in range(len(sumx)):\n",
    "    cuadrosumx.append(sumx[i] ** 2)"
   ]
  },
  {
   "cell_type": "code",
   "execution_count": 38,
   "metadata": {},
   "outputs": [
    {
     "data": {
      "text/plain": [
       "[4, 16, 36, 64, 100, 144, 196, 256, 324, 400, 484, 576, 676, 784, 900]"
      ]
     },
     "execution_count": 38,
     "metadata": {},
     "output_type": "execute_result"
    }
   ],
   "source": [
    "cuadrosumx"
   ]
  },
  {
   "cell_type": "code",
   "execution_count": 50,
   "metadata": {},
   "outputs": [],
   "source": [
    "#beta0 = (n*sumaxy - multixy)/(n*cuadrosumx-sumx2)\n",
    "beta0 = []\n",
    "multyNSumxy = []\n",
    "restaMultyNMultiSuXY = []\n",
    "multiNSumX2 = []\n",
    "restaMulNSumX2 = []\n",
    "\n",
    "\n",
    "#n*sumaxy\n",
    "for i in range(len(sumaxy)):\n",
    "    multyNSumxy.append(sumaxy[i] * n)\n",
    "\n",
    "#n*sumaxy - multixy\n",
    "for i in range(len(multyNSumxy)):\n",
    "    restaMultyNMultiSuXY.append(multyNSumxy[i] - multixy[i])\n",
    "\n",
    "# n*cuadrosumx\n",
    "for i in range(len(cuadrosumx)):\n",
    "    multiNSumX2.append(cuadrosumx[i] * n)\n",
    "\n",
    "#n*cuadrosumx-sumx2\n",
    "for i in range(len(multiNSumX2)):\n",
    "    restaMulNSumX2.append(multiNSumX2[i] - sumx2[i])\n",
    "\n",
    "#(n*sumaxy - multixy)/(n*cuadrosumx-sumx2)\n",
    "for i in range(len(multiNSumX2)):\n",
    "    beta0.append(restaMultyNMultiSuXY[i] / restaMulNSumX2[i])"
   ]
  },
  {
   "cell_type": "code",
   "execution_count": 51,
   "metadata": {},
   "outputs": [
    {
     "data": {
      "text/plain": [
       "[0.1864406779661017,\n",
       " 0.1864406779661017,\n",
       " 0.12429378531073447,\n",
       " 0.1864406779661017,\n",
       " 0.1864406779661017,\n",
       " 0.12429378531073447,\n",
       " 0.15980629539951574,\n",
       " 0.09322033898305085,\n",
       " 0.12429378531073447,\n",
       " 0.13050847457627118,\n",
       " 0.15254237288135594,\n",
       " 0.1553672316384181,\n",
       " 0.1577574967405476,\n",
       " 0.15980629539951574,\n",
       " 0.12429378531073447]"
      ]
     },
     "execution_count": 51,
     "metadata": {},
     "output_type": "execute_result"
    }
   ],
   "source": [
    "beta0"
   ]
  },
  {
   "cell_type": "code",
   "execution_count": 53,
   "metadata": {},
   "outputs": [],
   "source": [
    "#beta1 = (multiNSumX2*sumy - sumx*sumaxy)/(n*cuadrosumx-sumx2)\n",
    "beta1=[]\n",
    "bMultiSumy = []\n",
    "bMultiSxSxy = []\n",
    "bRestaMult = []\n",
    "\n",
    "#multiNSumX2*sumy\n",
    "for i in range(len(multiNSumX2)):\n",
    "    bMultiSumy.append(multiNSumX2[i] * sumy[i])\n",
    "\n",
    "#sumx*sumaxy\n",
    "for i in range(len(sumx)):\n",
    "    bMultiSxSxy.append(sumx[i] * sumaxy[i])\n",
    "    \n",
    "#multiNSumX2*sumy - sumx*sumaxy\n",
    "for i in range(len(bMultiSxSxy)):\n",
    "    bRestaMult.append(bMultiSumy[i] - bMultiSxSxy[i])\n",
    "\n",
    "#beta1 = (multiNSumX2*sumy - sumx*sumaxy)/(n*cuadrosumx-sumx2)\n",
    "for i in range(len(bRestaMult)):\n",
    "    beta1.append(bRestaMult[i] / restaMulNSumX2[i])"
   ]
  },
  {
   "cell_type": "code",
   "execution_count": 54,
   "metadata": {},
   "outputs": [
    {
     "data": {
      "text/plain": [
       "[2.0,\n",
       " 4.0,\n",
       " 4.0,\n",
       " 8.0,\n",
       " 10.0,\n",
       " 8.0,\n",
       " 12.0,\n",
       " 8.0,\n",
       " 12.0,\n",
       " 14.0,\n",
       " 18.0,\n",
       " 20.0,\n",
       " 22.0,\n",
       " 24.0,\n",
       " 20.0]"
      ]
     },
     "execution_count": 54,
     "metadata": {},
     "output_type": "execute_result"
    }
   ],
   "source": [
    "beta1"
   ]
  },
  {
   "cell_type": "code",
   "execution_count": 58,
   "metadata": {},
   "outputs": [],
   "source": [
    "#pre = beta0+beta1*val\n",
    "val = 3        \n",
    "sumBet = []\n",
    "for i in range(len(beta0)):\n",
    "    sumBet.append(beta0[i] + beta1[i])\n",
    "pre = sumBet*val"
   ]
  },
  {
   "cell_type": "code",
   "execution_count": 59,
   "metadata": {},
   "outputs": [
    {
     "data": {
      "text/plain": [
       "[2.1864406779661016,\n",
       " 4.186440677966102,\n",
       " 4.124293785310734,\n",
       " 8.186440677966102,\n",
       " 10.186440677966102,\n",
       " 8.124293785310735,\n",
       " 12.159806295399516,\n",
       " 8.09322033898305,\n",
       " 12.124293785310735,\n",
       " 14.13050847457627,\n",
       " 18.152542372881356,\n",
       " 20.15536723163842,\n",
       " 22.157757496740548,\n",
       " 24.159806295399516,\n",
       " 20.124293785310734,\n",
       " 2.1864406779661016,\n",
       " 4.186440677966102,\n",
       " 4.124293785310734,\n",
       " 8.186440677966102,\n",
       " 10.186440677966102,\n",
       " 8.124293785310735,\n",
       " 12.159806295399516,\n",
       " 8.09322033898305,\n",
       " 12.124293785310735,\n",
       " 14.13050847457627,\n",
       " 18.152542372881356,\n",
       " 20.15536723163842,\n",
       " 22.157757496740548,\n",
       " 24.159806295399516,\n",
       " 20.124293785310734,\n",
       " 2.1864406779661016,\n",
       " 4.186440677966102,\n",
       " 4.124293785310734,\n",
       " 8.186440677966102,\n",
       " 10.186440677966102,\n",
       " 8.124293785310735,\n",
       " 12.159806295399516,\n",
       " 8.09322033898305,\n",
       " 12.124293785310735,\n",
       " 14.13050847457627,\n",
       " 18.152542372881356,\n",
       " 20.15536723163842,\n",
       " 22.157757496740548,\n",
       " 24.159806295399516,\n",
       " 20.124293785310734]"
      ]
     },
     "execution_count": 59,
     "metadata": {},
     "output_type": "execute_result"
    }
   ],
   "source": [
    "pre"
   ]
  },
  {
   "cell_type": "code",
   "execution_count": 67,
   "metadata": {},
   "outputs": [],
   "source": [
    "import math\n",
    "raiz = []\n",
    "for i in range(len(beta0)):\n",
    "    raiz.append(math.sqrt(beta0[i]))"
   ]
  },
  {
   "cell_type": "code",
   "execution_count": 68,
   "metadata": {},
   "outputs": [
    {
     "data": {
      "text/plain": [
       "[0.4317877695883728,\n",
       " 0.4317877695883728,\n",
       " 0.35255323755531515,\n",
       " 0.4317877695883728,\n",
       " 0.4317877695883728,\n",
       " 0.35255323755531515,\n",
       " 0.39975779592087474,\n",
       " 0.3053200599093529,\n",
       " 0.35255323755531515,\n",
       " 0.36125956676089727,\n",
       " 0.39056673294247163,\n",
       " 0.3941665024306582,\n",
       " 0.3971869795707654,\n",
       " 0.39975779592087474,\n",
       " 0.35255323755531515]"
      ]
     },
     "execution_count": 68,
     "metadata": {},
     "output_type": "execute_result"
    }
   ],
   "source": [
    "raiz"
   ]
  },
  {
   "cell_type": "code",
   "execution_count": 1,
   "metadata": {},
   "outputs": [],
   "source": [
    "def from_file(path):\n",
    "        x = []\n",
    "        y = []\n",
    "        archivo = open(path)\n",
    "        for linea in archivo:\n",
    "            datos = linea.split(\",\").strip()\n",
    "            y.append(datos[0])\n",
    "            x.append(datos[1])\n",
    "        return x,y"
   ]
  },
  {
   "cell_type": "code",
   "execution_count": 37,
   "metadata": {},
   "outputs": [],
   "source": [
    "x = []\n",
    "y = []\n",
    "archivo = open('Advertising.csv')\n",
    "for linea in archivo:\n",
    "    datos = linea.split(\",\")\n",
    "    y.append(datos[0].strip())\n",
    "    x.append(datos[1].strip())\n",
    "x.pop(0)\n",
    "y.pop(0)\n",
    "for i in range(len(x)):\n",
    "    x[i] = float(x[i])\n",
    "    y[i] = float(y[i])"
   ]
  },
  {
   "cell_type": "code",
   "execution_count": 39,
   "metadata": {},
   "outputs": [
    {
     "data": {
      "text/plain": [
       "[22.1,\n",
       " 10.4,\n",
       " 9.3,\n",
       " 18.5,\n",
       " 12.9,\n",
       " 7.2,\n",
       " 11.8,\n",
       " 13.2,\n",
       " 4.8,\n",
       " 10.6,\n",
       " 8.6,\n",
       " 17.4,\n",
       " 9.2,\n",
       " 9.7,\n",
       " 19.0,\n",
       " 22.4,\n",
       " 12.5,\n",
       " 24.4,\n",
       " 11.3,\n",
       " 14.6,\n",
       " 18.0,\n",
       " 12.5,\n",
       " 5.6,\n",
       " 15.5,\n",
       " 9.7,\n",
       " 12.0,\n",
       " 15.0,\n",
       " 15.9,\n",
       " 18.9,\n",
       " 10.5,\n",
       " 21.4,\n",
       " 11.9,\n",
       " 9.6,\n",
       " 17.4,\n",
       " 9.5,\n",
       " 12.8,\n",
       " 25.4,\n",
       " 14.7,\n",
       " 10.1,\n",
       " 21.5,\n",
       " 16.6,\n",
       " 17.1,\n",
       " 20.7,\n",
       " 12.9,\n",
       " 8.5,\n",
       " 14.9,\n",
       " 10.6,\n",
       " 23.2,\n",
       " 14.8,\n",
       " 9.7,\n",
       " 11.4,\n",
       " 10.7,\n",
       " 22.6,\n",
       " 21.2,\n",
       " 20.2,\n",
       " 23.7,\n",
       " 5.5,\n",
       " 13.2,\n",
       " 23.8,\n",
       " 18.4,\n",
       " 8.1,\n",
       " 24.2,\n",
       " 15.7,\n",
       " 14.0,\n",
       " 18.0,\n",
       " 9.3,\n",
       " 9.5,\n",
       " 13.4,\n",
       " 18.9,\n",
       " 22.3,\n",
       " 18.3,\n",
       " 12.4,\n",
       " 8.8,\n",
       " 11.0,\n",
       " 17.0,\n",
       " 8.7,\n",
       " 6.9,\n",
       " 14.2,\n",
       " 5.3,\n",
       " 11.0,\n",
       " 11.8,\n",
       " 12.3,\n",
       " 11.3,\n",
       " 13.6,\n",
       " 21.7,\n",
       " 15.2,\n",
       " 12.0,\n",
       " 16.0,\n",
       " 12.9,\n",
       " 16.7,\n",
       " 11.2,\n",
       " 7.3,\n",
       " 19.4,\n",
       " 22.2,\n",
       " 11.5,\n",
       " 16.9,\n",
       " 11.7,\n",
       " 15.5,\n",
       " 25.4,\n",
       " 17.2,\n",
       " 11.7,\n",
       " 23.8,\n",
       " 14.8,\n",
       " 14.7,\n",
       " 20.7,\n",
       " 19.2,\n",
       " 7.2,\n",
       " 8.7,\n",
       " 5.3,\n",
       " 19.8,\n",
       " 13.4,\n",
       " 21.8,\n",
       " 14.1,\n",
       " 15.9,\n",
       " 14.6,\n",
       " 12.6,\n",
       " 12.2,\n",
       " 9.4,\n",
       " 15.9,\n",
       " 6.6,\n",
       " 15.5,\n",
       " 7.0,\n",
       " 11.6,\n",
       " 15.2,\n",
       " 19.7,\n",
       " 10.6,\n",
       " 6.6,\n",
       " 8.8,\n",
       " 24.7,\n",
       " 9.7,\n",
       " 1.6,\n",
       " 12.7,\n",
       " 5.7,\n",
       " 19.6,\n",
       " 10.8,\n",
       " 11.6,\n",
       " 9.5,\n",
       " 20.8,\n",
       " 9.6,\n",
       " 20.7,\n",
       " 10.9,\n",
       " 19.2,\n",
       " 20.1,\n",
       " 10.4,\n",
       " 11.4,\n",
       " 10.3,\n",
       " 13.2,\n",
       " 25.4,\n",
       " 10.9,\n",
       " 10.1,\n",
       " 16.1,\n",
       " 11.6,\n",
       " 16.6,\n",
       " 19.0,\n",
       " 15.6,\n",
       " 3.2,\n",
       " 15.3,\n",
       " 10.1,\n",
       " 7.3,\n",
       " 12.9,\n",
       " 14.4,\n",
       " 13.3,\n",
       " 14.9,\n",
       " 18.0,\n",
       " 11.9,\n",
       " 11.9,\n",
       " 8.0,\n",
       " 12.2,\n",
       " 17.1,\n",
       " 15.0,\n",
       " 8.4,\n",
       " 14.5,\n",
       " 7.6,\n",
       " 11.7,\n",
       " 11.5,\n",
       " 27.0,\n",
       " 20.2,\n",
       " 11.7,\n",
       " 11.8,\n",
       " 12.6,\n",
       " 10.5,\n",
       " 12.2,\n",
       " 8.7,\n",
       " 26.2,\n",
       " 17.6,\n",
       " 22.6,\n",
       " 10.3,\n",
       " 17.3,\n",
       " 15.9,\n",
       " 6.7,\n",
       " 10.8,\n",
       " 9.9,\n",
       " 5.9,\n",
       " 19.6,\n",
       " 17.3,\n",
       " 7.6,\n",
       " 9.7,\n",
       " 12.8,\n",
       " 25.5,\n",
       " 13.4]"
      ]
     },
     "execution_count": 39,
     "metadata": {},
     "output_type": "execute_result"
    }
   ],
   "source": [
    "y"
   ]
  },
  {
   "cell_type": "code",
   "execution_count": 29,
   "metadata": {},
   "outputs": [
    {
     "data": {
      "text/plain": [
       "'230.1'"
      ]
     },
     "execution_count": 29,
     "metadata": {},
     "output_type": "execute_result"
    }
   ],
   "source": []
  },
  {
   "cell_type": "code",
   "execution_count": 30,
   "metadata": {},
   "outputs": [
    {
     "data": {
      "text/plain": [
       "['X', '44.5', '17.2', '151.5']"
      ]
     },
     "execution_count": 30,
     "metadata": {},
     "output_type": "execute_result"
    }
   ],
   "source": [
    "x[0:4]"
   ]
  },
  {
   "cell_type": "code",
   "execution_count": null,
   "metadata": {},
   "outputs": [],
   "source": []
  }
 ],
 "metadata": {
  "kernelspec": {
   "display_name": "Python 3",
   "language": "python",
   "name": "python3"
  },
  "language_info": {
   "codemirror_mode": {
    "name": "ipython",
    "version": 3
   },
   "file_extension": ".py",
   "mimetype": "text/x-python",
   "name": "python",
   "nbconvert_exporter": "python",
   "pygments_lexer": "ipython3",
   "version": "3.8.5"
  }
 },
 "nbformat": 4,
 "nbformat_minor": 4
}
