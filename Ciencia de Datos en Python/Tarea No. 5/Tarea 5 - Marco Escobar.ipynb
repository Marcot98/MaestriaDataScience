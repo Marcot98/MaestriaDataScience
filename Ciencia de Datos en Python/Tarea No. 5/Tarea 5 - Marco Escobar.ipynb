{
 "cells": [
  {
   "cell_type": "markdown",
   "metadata": {},
   "source": [
    ">># **Ciencia de Datos en Python**\n",
    "### Hoja de Trabajo #3 - Numpy, Pandas y Vectorización\n",
    "###### *Marco Tulio Escobar Muñoz*"
   ]
  },
  {
   "cell_type": "code",
   "execution_count": 1,
   "metadata": {},
   "outputs": [],
   "source": [
    "import pandas as pd\n",
    "import numpy as np"
   ]
  },
  {
   "cell_type": "markdown",
   "metadata": {},
   "source": [
    "# Numpy"
   ]
  },
  {
   "cell_type": "markdown",
   "metadata": {},
   "source": [
    "## Ejercicio 1: Crear un conjunto de datos lineal\n",
    "\n",
    "Crear un conjunto de datos simples que consta de una sola caracteristica y una etiqueta de la siguiente manera:\n",
    "   1. Asigne una secuencia de números enteros del 6 al 20 (incluyendo el 20) a un arreglo de Numpy llamado caracteristica.\n",
    "   2. Asigne 15 valores a un arreglo de Numpy llamado etiqueta de manera que: etiqueta = (3) (caracteristica) + 4\n",
    "        \n",
    "por ejemplo, el primer valor de etiqueta debería ser: \n",
    "etiqueta = (3) (6) + 4 = 22 "
   ]
  },
  {
   "cell_type": "code",
   "execution_count": 11,
   "metadata": {},
   "outputs": [
    {
     "data": {
      "text/plain": [
       "array([ 6,  7,  8,  9, 10, 11, 12, 13, 14, 15, 16, 17, 18, 19, 20])"
      ]
     },
     "execution_count": 11,
     "metadata": {},
     "output_type": "execute_result"
    }
   ],
   "source": [
    "a = [6,7,8,9,10,11,12,13,14,15,16,17,18,19,20]\n",
    "caracteristica = np.array(a)\n",
    "type(caracteristica)\n",
    "caracteristica"
   ]
  },
  {
   "cell_type": "code",
   "execution_count": 10,
   "metadata": {},
   "outputs": [
    {
     "data": {
      "text/plain": [
       "array([22, 25, 28, 31, 34, 37, 40, 43, 46, 49, 52, 55, 58, 61, 64])"
      ]
     },
     "execution_count": 10,
     "metadata": {},
     "output_type": "execute_result"
    }
   ],
   "source": [
    "etiqueta = []\n",
    "for i in range(len(caracteristica)):\n",
    "    etiqueta.append((3)*(caracteristica[i]) + 4)\n",
    "etiqueta = np.array(etiqueta)\n",
    "etiqueta"
   ]
  },
  {
   "cell_type": "markdown",
   "metadata": {},
   "source": [
    "## Ejercicio 2: agregar ruido al conjunto de datos\n",
    "Inserte un ruido aleatorio en cada elemento de la matriz etiqueta que ya creó. Para ser más precisos, modifique cada valor asignado a etiqueta agregando un valor \"floating - point\" aleatorio diferente entre -2 y + 2\n",
    "\n",
    "No utilice broadcasting. En su lugar, cree un arreglo de ruido que tenga la misma dimensióno que etiqueta."
   ]
  },
  {
   "cell_type": "code",
   "execution_count": null,
   "metadata": {},
   "outputs": [],
   "source": []
  }
 ],
 "metadata": {
  "kernelspec": {
   "display_name": "Python 3",
   "language": "python",
   "name": "python3"
  },
  "language_info": {
   "codemirror_mode": {
    "name": "ipython",
    "version": 3
   },
   "file_extension": ".py",
   "mimetype": "text/x-python",
   "name": "python",
   "nbconvert_exporter": "python",
   "pygments_lexer": "ipython3",
   "version": "3.8.5"
  }
 },
 "nbformat": 4,
 "nbformat_minor": 4
}
