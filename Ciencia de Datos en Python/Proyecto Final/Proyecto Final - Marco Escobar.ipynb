{
 "cells": [
  {
   "cell_type": "markdown",
   "metadata": {},
   "source": [
    ">># **Ciencia de Datos en Python**\n",
    "### Proyecto Final\n",
    "###### *Marco Tulio Escobar Muñoz*"
   ]
  },
  {
   "cell_type": "code",
   "execution_count": 447,
   "metadata": {},
   "outputs": [],
   "source": [
    "import numpy as np\n",
    "import pandas as pd\n",
    "import matplotlib.pyplot as plt\n",
    "from seaborn import distplot\n",
    "import seaborn as sns\n",
    "from sklearn.model_selection import train_test_split\n",
    "\n",
    "class my_regresion():\n",
    "    def __init__(self, archivo):\n",
    "        self.beta0 = []\n",
    "        self.beta1 = []\n",
    "        self.x = [] \n",
    "        self.y = [] \n",
    "        self.yHat = [] \n",
    "        self.Error = [] \n",
    "        self.GradB0 = [] \n",
    "        self.GradB1 = []\n",
    "        self.ParB0 = []\n",
    "        self.ParB1 = []\n",
    "        self.A = 0 \n",
    "        self.B = 0\n",
    "        self.C = 0 \n",
    "        self.D = 0 \n",
    "        self.E = 0 \n",
    "        self.F = 0\n",
    "        self.diccionario = dict()\n",
    "        self.pdData = pd.DataFrame()\n",
    "        self.y = []\n",
    "        self.archivo = np.load(archivo)\n",
    "        self.dsEntrenamientoNan = []\n",
    "        self.flMedia = []\n",
    "        self.flValorMaximo = []\n",
    "        self.flValorMinimo = []\n",
    "        self.flRango = []\n",
    "        self.flDesviacionEstandar = []\n",
    "        self.epochs = 0\n",
    "        self.print_error = 0\n",
    "        self.learing_rate = 0.0\n",
    "        self.matriz = []\n",
    "        self.ArrVal = []\n",
    "        \n",
    "        #División de la Data entrenamiento y validación\n",
    "        self.long = len(self.archivo)\n",
    "        self.long80 = int(self.long * 0.80)\n",
    "        self.long81 = int(self.long * 0.80) + 1\n",
    "        self.long20 = self.long * 0.20\n",
    "        self.dsEntrenamiento = self.archivo[0:self.long81]\n",
    "        self.dsValidacion = self.archivo[self.long80:]\n",
    "        \n",
    "        #Exploración de la Data\n",
    "    def GetExploraionData(self, dsDataSet):\n",
    "        self.dsEntrenamientoNan = dsDataSet\n",
    "        self.dsEntrenamientoNan[np.isnan(dsDataSet)] = 0\n",
    "        self.flMedia = np.nanmean(dsDataSet,axis=1)\n",
    "        self.flValorMaximo = np.nanmax(dsDataSet,axis=1)\n",
    "        self.flValorMinimo = np.nanmin(dsDataSet,axis=1)\n",
    "        self.flRango = np.ptp(dsDataSet,axis=1)\n",
    "        self.flDesviacionEstandar = np.nanstd(dsDataSet,axis=1)\n",
    "        \n",
    "        return self.flMedia, self.flValorMaximo, self.flValorMinimo, self.flRango, self.flDesviacionEstandar\n",
    "    \n",
    "    #Diagrama de Histograma sobre los Datos usando Seaborn\n",
    "    def GetHistogram(self, dsDataSet):\n",
    "        sns.set_theme()\n",
    "        distplot(dsDataSet, rug=True, hist=False)\n",
    "    \n",
    "    #Correlación de los Datos\n",
    "    \n",
    "    def DivArrCoe(self, dsDataSet):\n",
    "        #ρ = -1 Correlación perfecta negativa\n",
    "        #ρ = 0  No existe correlación\n",
    "        #ρ = +1 Correlación perfecta positiva\n",
    "        #self.A, self.B, self.C, self.D, self.E, self.F = np.hsplit(dsDataSet,6)\n",
    "        self.A = np.corrcoef(dsDataSet[:,0],dsDataSet[:,1])[1,0]\n",
    "        self.B = np.corrcoef(dsDataSet[:,0],dsDataSet[:,2])[1,0]\n",
    "        self.C = np.corrcoef(dsDataSet[:,0],dsDataSet[:,3])[1,0]\n",
    "        self.D = np.corrcoef(dsDataSet[:,0],dsDataSet[:,4])[1,0]\n",
    "        self.F = np.corrcoef(dsDataSet[:,0],dsDataSet[:,5])[1,0]\n",
    "        self.E = max(self.A,self.B,self.C,self.D,self.F)\n",
    "        if (self.E == self.A):\n",
    "            plt.plot()\n",
    "            plt.scatter(dsDataSet[:,0],dsDataSet[:,1])\n",
    "            plt.title('Coeficiente ' + \"{:.2f}\".format(self.A))\n",
    "            plt.show()\n",
    "        if (self.E == self.B):\n",
    "            plt.scatter(dsDataSet[:,0],dsDataSet[:,2])\n",
    "            plt.title('Coeficiente ' + \"{:.2f}\".format(self.B))\n",
    "            plt.show()\n",
    "        if (self.E == self.C):\n",
    "            plt.scatter(dsDataSet[:,0],dsDataSet[:,3])\n",
    "            plt.title('Coeficiente ' + \"{:.2f}\".format(self.C))\n",
    "            plt.show()\n",
    "        if (self.E == self.D):\n",
    "            plt.scatter(dsDataSet[:,0],dsDataSet[:,4])\n",
    "            plt.title('Coeficiente ' + \"{:.2f}\".format(self.D))\n",
    "            plt.show()\n",
    "        if (self.E == self.F):\n",
    "            plt.scatter(dsDataSet[:,0],dsDataSet[:,5])\n",
    "            plt.title('Coeficiente ' + \"{:.2f}\".format(self.F))\n",
    "            plt.show()\n",
    "        \n",
    "    def TrainingModel(self, depX, indY, intEpochs, intPrintError, fltLearningRate):\n",
    "        #inicializando variables\n",
    "        self.beta0 = []\n",
    "        self.beta1 = []\n",
    "        self.yHat = []\n",
    "        self.Error = []\n",
    "        self.GradB1 = []\n",
    "        self.GradB0 = []\n",
    "        \n",
    "        self.x = depX \n",
    "        self.y = indY \n",
    "        self.epochs = intEpochs\n",
    "        self.print_error = intPrintError\n",
    "        self.learning_rate = fltLearningRate\n",
    "        self.pdData =  pd.DataFrame(self.x)\n",
    "        self.pdData['1'] = 1\n",
    "                      \n",
    "        self.i = 0\n",
    "        while self.i <= self.epochs:\n",
    "            self.beta0.append(((len(self.x) * np.sum(self.x[self.i] * self.y[self.i])) - (np.sum(self.x[self.i])*np.sum(self.y[self.i]))) / ((len(self.x) * np.sum(self.x[self.i]**2)) - np.sum(self.x[self.i])**2))\n",
    "            self.beta1.append(((len(self.x) * np.sum(self.x[self.i]**2) * np.sum(self.y[self.i])) - (np.sum(self.x[self.i]) * np.sum(self.y[self.i] * self.x[self.i]))) / ((len(self.x) * np.sum(self.x[self.i]**2)) - np.sum(self.x[self.i])**2))\n",
    "            self.yHat.append((self.pdData[0][self.i] * self.beta0[self.i]) + (self.pdData['1'][self.i] * self.beta1[self.i]))    \n",
    "            self.Error.append((1 / (2 * len(self.x))) * (len(self.x) * (np.sum(self.y[self.i] - self.yHat[self.i])**2)))\n",
    "            self.GradB1.append(1 / len(self.x) * np.sum((self.yHat[self.i] - self.y[self.i]) * self.x[self.i]))\n",
    "            self.GradB0.append(1 / len(self.x) * np.sum((self.yHat[self.i] - self.y[self.i])))\n",
    "            if (len(my.ParB0) == 0 ):\n",
    "                self.ParB0.append(0 - self.learning_rate * self.GradB0[self.i])\n",
    "            else:\n",
    "                self.ParB0.append(self.ParB0[self.i-1] - self.learning_rate * self.GradB0[self.i])\n",
    "            if (len(my.ParB1) == 0 ):\n",
    "                self.ParB1.append(0 - self.learning_rate * self.GradB1[self.i])\n",
    "            else:    \n",
    "                self.ParB1.append(self.ParB1[self.i-1] - self.learning_rate * self.GradB1[self.i])\n",
    "            \n",
    "            self.diccionario[self.i] = {'Iteracion': self.i, 'Beta 0' : self.beta0[self.i] , 'Beta 1' : self.beta1[self.i], 'yHat': self.yHat[self.i], 'Error' : self.Error[self.i], 'Gradiante B0' : self.GradB0[self.i], 'Gradiante B1' : self.GradB1[self.i], 'Par B0' : self.ParB0[self.i], 'Par B1' : self.ParB1[self.i] }\n",
    "            #self.diccionario['Vector '+ str(self.i)] = {'Iteracion': self.i, 'Beta 0' : self.beta0 , 'Beta 1' : self.beta1, 'yHat': self.yHat[self.i], 'Error' : self.Error[self.i], 'Gradiante B0' : self.GradB0[self.i], 'Gradiante B1' : self.GradB1[self.i], 'Par B0' : self.ParB0[self.i], 'Par B1' : self.ParB1[self.i] }\n",
    "            self.i += 1\n",
    "            \n",
    "        return self.diccionario, self.Error \n",
    "    \n",
    "    def Graf(self, diccionario, error):\n",
    "        plt.plot(diccionario.keys(), error)\n",
    "        return\n",
    "    \n",
    "    def GrafIt(self, diccionario, IteraN):\n",
    "        self.n = n\n",
    "        self.dic2 = diccionario\n",
    "        self.dic3 = diccionario.values()\n",
    "        m = 0\n",
    "        for clave in self.dic2:\n",
    "            if (clave == m):\n",
    "                self.grafx.append(clave)\n",
    "            \n",
    "                self.dec\n",
    "                self.grafx = self.dic2[0].keys()\n",
    "            \n",
    "            m += self.n  \n",
    "    \n",
    "    \n",
    "    def Sklear(self, X, Y, fltTrain):\n",
    "        from sklearn.model_selection import train_test_split\n",
    "        #Separa datos entrenamiento y prueba\n",
    "        X_train, X_test, y_train, y_test = train_test_split(self.x, self.y, test_size= fltTrain)\n",
    "        #Algoritmo a usar\n",
    "        lm = linear_model.LinearRegression()\n",
    "        #Entrenar el modelo\n",
    "        lm.fit(X_train, y_train)\n",
    "        #Realizo una predicción\n",
    "        Y_pred = lm.predict(X_test)\n",
    "        #Valor de la pendiente o coeficiente y\n",
    "        lm.coef\n",
    "        #Valor de la intersección o coeficiente x\n",
    "        lr.intercept\n",
    "        #Precisión del modelo\n",
    "        lr.score(X_train, y_train)\n",
    "            \n",
    "            \n",
    "    "
   ]
  },
  {
   "cell_type": "code",
   "execution_count": 448,
   "metadata": {},
   "outputs": [],
   "source": [
    "my = my_regresion(\"proyecto_training_data.npy\")"
   ]
  },
  {
   "cell_type": "code",
   "execution_count": 449,
   "metadata": {},
   "outputs": [
    {
     "data": {
      "text/plain": [
       "<bound method my_regresion.__init__ of <__main__.my_regresion object at 0x0000026293B642B0>>"
      ]
     },
     "execution_count": 449,
     "metadata": {},
     "output_type": "execute_result"
    }
   ],
   "source": [
    "my.__init__"
   ]
  },
  {
   "cell_type": "code",
   "execution_count": 450,
   "metadata": {},
   "outputs": [
    {
     "data": {
      "text/plain": [
       "{'beta0': [],\n",
       " 'beta1': [],\n",
       " 'x': [],\n",
       " 'y': [],\n",
       " 'yHat': [],\n",
       " 'Error': [],\n",
       " 'GradB0': [],\n",
       " 'GradB1': [],\n",
       " 'ParB0': [],\n",
       " 'ParB1': [],\n",
       " 'A': 0,\n",
       " 'B': 0,\n",
       " 'C': 0,\n",
       " 'D': 0,\n",
       " 'E': 0,\n",
       " 'F': 0,\n",
       " 'diccionario': {},\n",
       " 'pdData': Empty DataFrame\n",
       " Columns: []\n",
       " Index: [],\n",
       " 'archivo': array([[2.08500e+05, 7.00000e+00, 8.56000e+02, 8.00000e+00, 2.00300e+03,\n",
       "         6.50000e+01],\n",
       "        [1.81500e+05, 6.00000e+00, 1.26200e+03, 6.00000e+00, 1.97600e+03,\n",
       "         8.00000e+01],\n",
       "        [2.23500e+05, 7.00000e+00, 9.20000e+02, 6.00000e+00, 2.00100e+03,\n",
       "         6.80000e+01],\n",
       "        ...,\n",
       "        [2.66500e+05, 7.00000e+00, 1.18800e+03, 9.00000e+00, 1.94100e+03,\n",
       "         6.60000e+01],\n",
       "        [1.42125e+05, 5.00000e+00, 1.07800e+03, 5.00000e+00, 1.95000e+03,\n",
       "         6.80000e+01],\n",
       "        [1.47500e+05, 5.00000e+00, 1.25600e+03, 6.00000e+00, 1.96500e+03,\n",
       "         7.50000e+01]]),\n",
       " 'dsEntrenamientoNan': [],\n",
       " 'flMedia': [],\n",
       " 'flValorMaximo': [],\n",
       " 'flValorMinimo': [],\n",
       " 'flRango': [],\n",
       " 'flDesviacionEstandar': [],\n",
       " 'epochs': 0,\n",
       " 'print_error': 0,\n",
       " 'learing_rate': 0.0,\n",
       " 'matriz': [],\n",
       " 'ArrVal': [],\n",
       " 'long': 1460,\n",
       " 'long80': 1168,\n",
       " 'long81': 1169,\n",
       " 'long20': 292.0,\n",
       " 'dsEntrenamiento': array([[2.0850e+05, 7.0000e+00, 8.5600e+02, 8.0000e+00, 2.0030e+03,\n",
       "         6.5000e+01],\n",
       "        [1.8150e+05, 6.0000e+00, 1.2620e+03, 6.0000e+00, 1.9760e+03,\n",
       "         8.0000e+01],\n",
       "        [2.2350e+05, 7.0000e+00, 9.2000e+02, 6.0000e+00, 2.0010e+03,\n",
       "         6.8000e+01],\n",
       "        ...,\n",
       "        [2.4535e+05, 8.0000e+00, 1.6940e+03, 7.0000e+00, 2.0080e+03,\n",
       "         6.4000e+01],\n",
       "        [1.7300e+05, 6.0000e+00, 9.5900e+02, 7.0000e+00, 2.0000e+03,\n",
       "         5.8000e+01],\n",
       "        [2.3500e+05, 6.0000e+00, 1.2360e+03, 7.0000e+00, 1.9350e+03,\n",
       "         1.2000e+02]]),\n",
       " 'dsValidacion': array([[2.35000e+05, 6.00000e+00, 1.23600e+03, 7.00000e+00, 1.93500e+03,\n",
       "         1.20000e+02],\n",
       "        [6.25000e+05, 1.00000e+01, 1.83100e+03, 1.00000e+01, 1.99500e+03,\n",
       "         1.18000e+02],\n",
       "        [1.71000e+05, 6.00000e+00, 1.11800e+03, 6.00000e+00, 1.97700e+03,\n",
       "         7.60000e+01],\n",
       "        ...,\n",
       "        [2.66500e+05, 7.00000e+00, 1.18800e+03, 9.00000e+00, 1.94100e+03,\n",
       "         6.60000e+01],\n",
       "        [1.42125e+05, 5.00000e+00, 1.07800e+03, 5.00000e+00, 1.95000e+03,\n",
       "         6.80000e+01],\n",
       "        [1.47500e+05, 5.00000e+00, 1.25600e+03, 6.00000e+00, 1.96500e+03,\n",
       "         7.50000e+01]])}"
      ]
     },
     "execution_count": 450,
     "metadata": {},
     "output_type": "execute_result"
    }
   ],
   "source": [
    "my.__dict__"
   ]
  },
  {
   "cell_type": "code",
   "execution_count": 451,
   "metadata": {},
   "outputs": [
    {
     "data": {
      "text/plain": [
       "(array([35239.83333333, 30805.        , 37750.33333333, ...,\n",
       "        41521.83333333, 29338.33333333, 39717.33333333]),\n",
       " array([208500., 181500., 223500., ..., 245350., 173000., 235000.]),\n",
       " array([7., 6., 6., ..., 7., 6., 6.]),\n",
       " array([208493., 181494., 223494., ..., 245343., 172994., 234994.]),\n",
       " array([77487.55164846, 67396.91578255, 83072.83863106, ...,\n",
       "        91158.42669846, 64251.45434584, 87336.02445281]))"
      ]
     },
     "execution_count": 451,
     "metadata": {},
     "output_type": "execute_result"
    }
   ],
   "source": [
    "my.GetExploraionData(my.dsEntrenamiento)"
   ]
  },
  {
   "cell_type": "code",
   "execution_count": 452,
   "metadata": {},
   "outputs": [
    {
     "name": "stderr",
     "output_type": "stream",
     "text": [
      "D:\\Users\\Tulio\\anaconda3\\lib\\site-packages\\seaborn\\distributions.py:2551: FutureWarning: `distplot` is a deprecated function and will be removed in a future version. Please adapt your code to use either `displot` (a figure-level function with similar flexibility) or `kdeplot` (an axes-level function for kernel density plots).\n",
      "  warnings.warn(msg, FutureWarning)\n",
      "D:\\Users\\Tulio\\anaconda3\\lib\\site-packages\\seaborn\\distributions.py:2055: FutureWarning: The `axis` variable is no longer used and will be removed. Instead, assign variables directly to `x` or `y`.\n",
      "  warnings.warn(msg, FutureWarning)\n"
     ]
    },
    {
     "data": {
      "image/png": "[encoded data removed]",
      "text/plain": [
       "<Figure size 432x288 with 1 Axes>"
      ]
     },
     "metadata": {},
     "output_type": "display_data"
    }
   ],
   "source": [
    "my.GetHistogram(my.dsEntrenamiento)"
   ]
  },
  {
   "cell_type": "code",
   "execution_count": 453,
   "metadata": {},
   "outputs": [
    {
     "data": {
      "image/png": "[encoded data removed]",
      "text/plain": [
       "<Figure size 432x288 with 1 Axes>"
      ]
     },
     "metadata": {},
     "output_type": "display_data"
    }
   ],
   "source": [
    "my.DivArrCoe(my.dsEntrenamiento)"
   ]
  },
  {
   "cell_type": "code",
   "execution_count": 454,
   "metadata": {},
   "outputs": [
    {
     "data": {
      "text/plain": [
       "({0: {'Iteracion': 0,\n",
       "   'Beta 0': 3.3573141486810554e-05,\n",
       "   'Beta 1': 7.0,\n",
       "   'yHat': 14.0,\n",
       "   'Error': 24.5,\n",
       "   'Gradiante B0': 0.005988023952095808,\n",
       "   'Gradiante B1': 1248.502994011976,\n",
       "   'Par B0': -0.1497005988023952,\n",
       "   'Par B1': -31212.5748502994},\n",
       "  1: {'Iteracion': 1,\n",
       "   'Beta 0': 3.305785123966942e-05,\n",
       "   'Beta 1': 6.0,\n",
       "   'yHat': 12.0,\n",
       "   'Error': 18.0,\n",
       "   'Gradiante B0': 0.005132591958939264,\n",
       "   'Gradiante B1': 931.5654405474764,\n",
       "   'Par B0': -0.2780153977758768,\n",
       "   'Par B1': -54501.710863986315},\n",
       "  2: {'Iteracion': 2,\n",
       "   'Beta 0': 3.1319910514541384e-05,\n",
       "   'Beta 1': 7.0,\n",
       "   'yHat': 14.0,\n",
       "   'Error': 24.5,\n",
       "   'Gradiante B0': 0.005988023952095808,\n",
       "   'Gradiante B1': 1338.3233532934132,\n",
       "   'Par B0': -0.427715996578272,\n",
       "   'Par B1': -87959.79469632165},\n",
       "  3: {'Iteracion': 3,\n",
       "   'Beta 0': 5e-05,\n",
       "   'Beta 1': 7.0,\n",
       "   'yHat': 14.0,\n",
       "   'Error': 24.5,\n",
       "   'Gradiante B0': 0.005988023952095808,\n",
       "   'Gradiante B1': 838.3233532934131,\n",
       "   'Par B0': -0.5774165953806671,\n",
       "   'Par B1': -108917.87852865698},\n",
       "  4: {'Iteracion': 4,\n",
       "   'Beta 0': 3.2e-05,\n",
       "   'Beta 1': 8.0,\n",
       "   'yHat': 16.0,\n",
       "   'Error': 32.0,\n",
       "   'Gradiante B0': 0.006843455945252352,\n",
       "   'Gradiante B1': 1710.863986313088,\n",
       "   'Par B0': -0.748502994011976,\n",
       "   'Par B1': -151689.47818648416},\n",
       "  5: {'Iteracion': 5,\n",
       "   'Beta 0': 3.4965034965034965e-05,\n",
       "   'Beta 1': 5.0,\n",
       "   'yHat': 10.0,\n",
       "   'Error': 12.5,\n",
       "   'Gradiante B0': 0.00427715996578272,\n",
       "   'Gradiante B1': 611.6338751069289,\n",
       "   'Par B0': -0.855431993156544,\n",
       "   'Par B1': -166980.3250641574}},\n",
       " [24.5, 18.0, 24.5, 24.5, 32.0, 12.5])"
      ]
     },
     "execution_count": 454,
     "metadata": {},
     "output_type": "execute_result"
    }
   ],
   "source": [
    "my.TrainingModel(my.dsEntrenamiento[:,0], my.dsEntrenamiento[:,1], 5,10,25)"
   ]
  },
  {
   "cell_type": "code",
   "execution_count": 289,
   "metadata": {},
   "outputs": [
    {
     "name": "stdout",
     "output_type": "stream",
     "text": [
      "0\n",
      "1\n",
      "2\n"
     ]
    }
   ],
   "source": [
    "for clave in my.diccionario:\n",
    "    # Hacer algo con esa clave\n",
    "    print(clave)"
   ]
  },
  {
   "cell_type": "code",
   "execution_count": 443,
   "metadata": {},
   "outputs": [
    {
     "ename": "AttributeError",
     "evalue": "'dict_values' object has no attribute 'values'",
     "output_type": "error",
     "traceback": [
      "\u001b[1;31m---------------------------------------------------------------------------\u001b[0m",
      "\u001b[1;31mAttributeError\u001b[0m                            Traceback (most recent call last)",
      "\u001b[1;32m<ipython-input-443-14af6059533a>\u001b[0m in \u001b[0;36m<module>\u001b[1;34m\u001b[0m\n\u001b[1;32m----> 1\u001b[1;33m \u001b[0mdf\u001b[0m \u001b[1;33m=\u001b[0m \u001b[0mpd\u001b[0m\u001b[1;33m.\u001b[0m\u001b[0mDataFrame\u001b[0m\u001b[1;33m(\u001b[0m\u001b[1;33m[\u001b[0m\u001b[1;33m[\u001b[0m\u001b[0mvalues\u001b[0m\u001b[1;33m,\u001b[0m \u001b[0mdic\u001b[0m\u001b[1;33m[\u001b[0m\u001b[0mvalues\u001b[0m\u001b[1;33m]\u001b[0m\u001b[1;33m]\u001b[0m \u001b[1;32mfor\u001b[0m \u001b[0mkey\u001b[0m \u001b[1;32min\u001b[0m \u001b[0mdic\u001b[0m\u001b[1;33m.\u001b[0m\u001b[0mvalues\u001b[0m\u001b[1;33m(\u001b[0m\u001b[1;33m)\u001b[0m\u001b[1;33m]\u001b[0m\u001b[1;33m,\u001b[0m \u001b[0mcolumns\u001b[0m\u001b[1;33m=\u001b[0m\u001b[1;33m[\u001b[0m\u001b[1;34m'Iteracion'\u001b[0m\u001b[1;33m,\u001b[0m \u001b[1;34m'Beta 0'\u001b[0m\u001b[1;33m,\u001b[0m \u001b[1;34m'Beta 1'\u001b[0m\u001b[1;33m,\u001b[0m \u001b[1;34m'yHat'\u001b[0m\u001b[1;33m,\u001b[0m \u001b[1;34m'Error'\u001b[0m\u001b[1;33m,\u001b[0m \u001b[1;34m'Gradiante B0'\u001b[0m\u001b[1;33m,\u001b[0m \u001b[1;34m'Gradiante B1'\u001b[0m\u001b[1;33m,\u001b[0m \u001b[1;34m'Par B0'\u001b[0m\u001b[1;33m,\u001b[0m \u001b[1;34m'Par B1'\u001b[0m\u001b[1;33m]\u001b[0m\u001b[1;33m)\u001b[0m\u001b[1;33m\u001b[0m\u001b[1;33m\u001b[0m\u001b[0m\n\u001b[0m\u001b[0;32m      2\u001b[0m \u001b[0mdf\u001b[0m\u001b[1;33m\u001b[0m\u001b[1;33m\u001b[0m\u001b[0m\n",
      "\u001b[1;31mAttributeError\u001b[0m: 'dict_values' object has no attribute 'values'"
     ]
    }
   ],
   "source": [
    "df = pd.DataFrame([[values, dic[values]] for key in dic.values()], columns=['Iteracion', 'Beta 0', 'Beta 1', 'yHat', 'Error', 'Gradiante B0', 'Gradiante B1', 'Par B0', 'Par B1'])\n",
    "df"
   ]
  },
  {
   "cell_type": "code",
   "execution_count": 446,
   "metadata": {},
   "outputs": [],
   "source": [
    "dic = my.diccionario.values()\n",
    "for clave in dic:\n",
    "    clave\n"
   ]
  },
  {
   "cell_type": "code",
   "execution_count": null,
   "metadata": {},
   "outputs": [],
   "source": []
  }
 ],
 "metadata": {
  "kernelspec": {
   "display_name": "Python 3",
   "language": "python",
   "name": "python3"
  },
  "language_info": {
   "codemirror_mode": {
    "name": "ipython",
    "version": 3
   },
   "file_extension": ".py",
   "mimetype": "text/x-python",
   "name": "python",
   "nbconvert_exporter": "python",
   "pygments_lexer": "ipython3",
   "version": "3.8.5"
  }
 },
 "nbformat": 4,
 "nbformat_minor": 4
}
