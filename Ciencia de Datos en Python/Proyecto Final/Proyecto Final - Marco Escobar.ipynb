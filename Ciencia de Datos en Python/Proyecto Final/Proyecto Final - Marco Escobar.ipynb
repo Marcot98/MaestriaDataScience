{
 "cells": [
  {
   "cell_type": "markdown",
   "metadata": {},
   "source": [
    ">># **Ciencia de Datos en Python**\n",
    "### Proyecto Final\n",
    "###### *Marco Tulio Escobar Muñoz*"
   ]
  },
  {
   "cell_type": "code",
   "execution_count": null,
   "metadata": {},
   "outputs": [],
   "source": [
    "import numpy as np\n",
    "import panda as pd\n",
    "import matplotlib as mt\n",
    "import seaborn as sns\n",
    "import scikit-learn as sl\n",
    "\n",
    "class my_regresion(self, x, y):\n",
    "    def __init__():\n",
    "        self.beta0 = []\n",
    "        self.beta1 = []\n",
    "        self.x, self.y = [] \n",
    "        self.A, self.B, self.C, self.D, self.E, self.F = []\n",
    "        self.y = []\n",
    "        self.archivo = np.load(\"proyecto_training_data.npy\")\n",
    "        self.dsEntrenamiento = []\n",
    "        self.dsEntrenamientoNan = []\n",
    "        self.dsValidacion = []\n",
    "        self.flMedia = []\n",
    "        self.flValorMaximo = []\n",
    "        self.flValorMinimo = []\n",
    "        self.flRango = []\n",
    "        self.flDesviacionEstandar = []\n",
    "        self.long = 0\n",
    "        self.long81 = 0\n",
    "        self.long80 = 0\n",
    "        self.long20 = 0\n",
    "    \n",
    "    def GetDataSet(self):\n",
    "        self.long = len(self.archivo)\n",
    "        self.long81 = (long * 0.80) + 1\n",
    "        self.long80 = long * 0.80\n",
    "        self.long20 = long * 0.20\n",
    "        self.dsEntrenamiento = archivo[0:long81]\n",
    "        self.dsValidacion = archivo[long80:]\n",
    "        \n",
    "        return self.dsEntrenamiento, self.dsValidacion\n",
    "    \n",
    "    def GetExploraionData(self):\n",
    "        self.dsEntrenamientoNan = self.dsEntrenamiento\n",
    "        self.dsEntrenamientoNan[np.isnan(self.dsEntrenamientoNan)] = 0\n",
    "        self.flMedia = np.nanmean(self.dsEntrenamiento,axis=1)\n",
    "        self.flValorMaximo = np.nanmax(self.dsEntrenamiento,axis=1)\n",
    "        self.flValorMinimo = np.nanmin(self.dsEntrenamiento,axis=1)\n",
    "        self.flRango = np.ptp(self.dsEntrenamientoNan,axis=1)\n",
    "        self.flDesviacionEstandar = np.nanstd(self.dsEntrenamiento,axis=1)\n",
    "        \n",
    "        return self.flMedia, self.flValorMaximo, self.flValorMinimo, self.flRango, self.DesviacionEstandar\n",
    "    \n",
    "    def GetHistogram(self):\n",
    "        sns.set_theme()\n",
    "        rug=True, hist=False\n",
    "        distplot(self.dsEntrenamiento, rug=True, hist=False)\n",
    "    \n",
    "    def DivArrCoe(self):\n",
    "        self.A, self.B, self.C, self.D, self.E, self.F = np.hsplit(self.dsEntrenamiento,6)\n",
    "        \n",
    "        return self.A, self.B, self.C, self.D, self.E, self.F\n",
    "    "
   ]
  }
 ],
 "metadata": {
  "kernelspec": {
   "display_name": "Python 3",
   "language": "python",
   "name": "python3"
  },
  "language_info": {
   "codemirror_mode": {
    "name": "ipython",
    "version": 3
   },
   "file_extension": ".py",
   "mimetype": "text/x-python",
   "name": "python",
   "nbconvert_exporter": "python",
   "pygments_lexer": "ipython3",
   "version": "3.8.5"
  }
 },
 "nbformat": 4,
 "nbformat_minor": 4
}
