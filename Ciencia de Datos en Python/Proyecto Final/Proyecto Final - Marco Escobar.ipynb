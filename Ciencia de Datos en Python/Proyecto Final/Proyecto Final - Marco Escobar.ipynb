{
 "cells": [
  {
   "cell_type": "markdown",
   "metadata": {},
   "source": [
    ">># **Ciencia de Datos en Python**\n",
    "### Proyecto Final\n",
    "###### *Marco Tulio Escobar Muñoz*"
   ]
  },
  {
   "cell_type": "code",
   "execution_count": 147,
   "metadata": {},
   "outputs": [],
   "source": [
    "import numpy as np\n",
    "import pandas as pd\n",
    "import matplotlib.pyplot as plt\n",
    "from seaborn import distplot\n",
    "import seaborn as sns\n",
    "from sklearn.model_selection import train_test_split\n",
    "\n",
    "class my_regresion():\n",
    "    def __init__(self, archivo):\n",
    "        self.beta0 = []\n",
    "        self.beta1 = []\n",
    "        self.x = [] \n",
    "        self.y = [] \n",
    "        self.yHat = [] \n",
    "        self.Error = [] \n",
    "        self.GradB0 = [] \n",
    "        self.GradB1 = []\n",
    "        self.ParB0 = []\n",
    "        self.ParB1 = []\n",
    "        self.A = 0 \n",
    "        self.B = 0\n",
    "        self.C = 0 \n",
    "        self.D = 0 \n",
    "        self.E = 0 \n",
    "        self.F = 0\n",
    "        self.diccionario = dict()\n",
    "        self.pdData = pd.DataFrame()\n",
    "        self.y = []\n",
    "        self.archivo = np.load(archivo)\n",
    "        self.dsEntrenamientoNan = []\n",
    "        self.flMedia = []\n",
    "        self.flValorMaximo = []\n",
    "        self.flValorMinimo = []\n",
    "        self.flRango = []\n",
    "        self.flDesviacionEstandar = []\n",
    "        self.epochs = 0\n",
    "        self.print_error = 0\n",
    "        self.learing_rate = 0.0\n",
    "        self.matriz = []\n",
    "        self.ArrVal = []\n",
    "        \n",
    "        #División de la Data entrenamiento y validación\n",
    "        self.long = len(self.archivo)\n",
    "        self.long80 = int(self.long * 0.80)\n",
    "        self.long81 = int(self.long * 0.80) + 1\n",
    "        self.long20 = self.long * 0.20\n",
    "        self.dsEntrenamiento = self.archivo[0:self.long81]\n",
    "        self.dsValidacion = self.archivo[self.long80:]\n",
    "        \n",
    "        #Exploración de la Data\n",
    "    def GetExploraionData(self, dsDataSet):\n",
    "        self.dsEntrenamientoNan = dsDataSet\n",
    "        self.dsEntrenamientoNan[np.isnan(dsDataSet)] = 0\n",
    "        self.flMedia = np.nanmean(dsDataSet,axis=1)\n",
    "        self.flValorMaximo = np.nanmax(dsDataSet,axis=1)\n",
    "        self.flValorMinimo = np.nanmin(dsDataSet,axis=1)\n",
    "        self.flRango = np.ptp(dsDataSet,axis=1)\n",
    "        self.flDesviacionEstandar = np.nanstd(dsDataSet,axis=1)\n",
    "        \n",
    "        return self.flMedia, self.flValorMaximo, self.flValorMinimo, self.flRango, self.flDesviacionEstandar\n",
    "    \n",
    "    #Diagrama de Histograma sobre los Datos usando Seaborn\n",
    "    def GetHistogram(self, dsDataSet):\n",
    "        sns.set_theme()\n",
    "        distplot(dsDataSet, rug=True, hist=False)\n",
    "    \n",
    "    #Correlación de los Datos\n",
    "    \n",
    "    def DivArrCoe(self, dsDataSet):\n",
    "        #ρ = -1 Correlación perfecta negativa\n",
    "        #ρ = 0  No existe correlación\n",
    "        #ρ = +1 Correlación perfecta positiva\n",
    "        #self.A, self.B, self.C, self.D, self.E, self.F = np.hsplit(dsDataSet,6)\n",
    "        self.A = np.corrcoef(dsDataSet[:,0],dsDataSet[:,1])[1,0]\n",
    "        self.B = np.corrcoef(dsDataSet[:,0],dsDataSet[:,2])[1,0]\n",
    "        self.C = np.corrcoef(dsDataSet[:,0],dsDataSet[:,3])[1,0]\n",
    "        self.D = np.corrcoef(dsDataSet[:,0],dsDataSet[:,4])[1,0]\n",
    "        self.F = np.corrcoef(dsDataSet[:,0],dsDataSet[:,5])[1,0]\n",
    "        self.E = max(self.A,self.B,self.C,self.D,self.F)\n",
    "        if (self.E == self.A):\n",
    "            plt.plot()\n",
    "            plt.scatter(dsDataSet[:,0],dsDataSet[:,1])\n",
    "            plt.title('Coeficiente ' + \"{:.2f}\".format(self.A))\n",
    "            plt.show()\n",
    "        if (self.E == self.B):\n",
    "            plt.scatter(dsDataSet[:,0],dsDataSet[:,2])\n",
    "            plt.title('Coeficiente ' + \"{:.2f}\".format(self.B))\n",
    "            plt.show()\n",
    "        if (self.E == self.C):\n",
    "            plt.scatter(dsDataSet[:,0],dsDataSet[:,3])\n",
    "            plt.title('Coeficiente ' + \"{:.2f}\".format(self.C))\n",
    "            plt.show()\n",
    "        if (self.E == self.D):\n",
    "            plt.scatter(dsDataSet[:,0],dsDataSet[:,4])\n",
    "            plt.title('Coeficiente ' + \"{:.2f}\".format(self.D))\n",
    "            plt.show()\n",
    "        if (self.E == self.F):\n",
    "            plt.scatter(dsDataSet[:,0],dsDataSet[:,5])\n",
    "            plt.title('Coeficiente ' + \"{:.2f}\".format(self.F))\n",
    "            plt.show()\n",
    "        \n",
    "    def TrainingModel(self, depX, indY, intEpochs, intPrintError, fltLearningRate):\n",
    "        #inicializando variables\n",
    "        self.beta0 = []\n",
    "        self.beta1 = []\n",
    "        self.yHat = []\n",
    "        self.Error = []\n",
    "        self.GradB1 = []\n",
    "        self.GradB0 = []\n",
    "        \n",
    "        self.x = depX \n",
    "        self.y = indY \n",
    "        self.epochs = intEpochs\n",
    "        self.print_error = intPrintError\n",
    "        self.learning_rate = fltLearningRate\n",
    "        self.pdData =  pd.DataFrame(self.x)\n",
    "        self.pdData['1'] = 1\n",
    "                      \n",
    "        self.i = 0\n",
    "        while self.i <= self.epochs:\n",
    "            self.beta0.append(((len(self.x) * np.sum(self.x[self.i] * self.y[self.i])) - (np.sum(self.x[self.i])*np.sum(self.y[self.i]))) / ((len(self.x) * np.sum(self.x[self.i]**2)) - np.sum(self.x[self.i])**2))\n",
    "            self.beta1.append(((len(self.x) * np.sum(self.x[self.i]**2) * np.sum(self.y[self.i])) - (np.sum(self.x[self.i]) * np.sum(self.y[self.i] * self.x[self.i]))) / ((len(self.x) * np.sum(self.x[self.i]**2)) - np.sum(self.x[self.i])**2))\n",
    "            self.yHat.append((self.pdData[0][self.i] * self.beta0[self.i]) + (self.pdData['1'][self.i] * self.beta1[self.i]))    \n",
    "            self.Error.append((1 / (2 * len(self.x))) * (len(self.x) * (np.sum(self.y[self.i] - self.yHat[self.i])**2)))\n",
    "            self.GradB1.append(1 / len(self.x) * np.sum((self.yHat[self.i] - self.y[self.i]) * self.x[self.i]))\n",
    "            self.GradB0.append(1 / len(self.x) * np.sum((self.yHat[self.i] - self.y[self.i])))\n",
    "            if (len(my.ParB0) == 0 ):\n",
    "                self.ParB0.append(0 - self.learning_rate * self.GradB0[self.i])\n",
    "            else:\n",
    "                self.ParB0.append(self.ParB0[self.i-1] - self.learning_rate * self.GradB0[self.i])\n",
    "            if (len(my.ParB1) == 0 ):\n",
    "                self.ParB1.append(0 - self.learning_rate * self.GradB1[self.i])\n",
    "            else:    \n",
    "                self.ParB1.append(self.ParB1[self.i-1] - self.learning_rate * self.GradB1[self.i])\n",
    "            \n",
    "            #self.diccionario[self.i] = [['Iteracion', self.i], ['Beta 0' , self.beta0[self.i]] , ['Beta 1' , self.beta1[self.i]], ['yHat', self.yHat[self.i]], ['Error' , self.Error[self.i]], ['Gradiante B0' , self.GradB0[self.i]], ['Gradiante B1' , self.GradB1[self.i]], ['Par B0' , self.ParB0[self.i]], ['Par B1' , self.ParB1[self.i]]]\n",
    "            self.diccionario[self.i] = {'Iteracion':self.i, 'Beta 0':self.beta0[self.i], 'Beta 1':self.beta1[self.i], 'yHat':self.yHat[self.i], 'Error':self.Error[self.i], 'Gradiante B0':self.GradB0[self.i], 'Gradiante B1':self.GradB1[self.i], 'Par B0':self.ParB0[self.i], 'Par B1':self.ParB1[self.i]}\n",
    "            \n",
    "            self.i += 1\n",
    "            \n",
    "        return self.diccionario, self.Error \n",
    "    \n",
    "    def Graf(self, diccionario, error):\n",
    "        plt.plot(diccionario.keys(), error)\n",
    "        return\n",
    "    \n",
    "    def GrafIt(self, diccionario, IteraN):\n",
    "        self.n = n\n",
    "        self.dic2 = diccionario\n",
    "        self.grafx = []\n",
    "        self.gra\n",
    "        m = 0\n",
    "        for key in self.dic2:\n",
    "            if (clave == m):\n",
    "                self.grafx.append(clave)\n",
    "            \n",
    "                self.dec\n",
    "                self.grafx = self.dic2[0].keys()\n",
    "            \n",
    "            m += self.n  \n",
    "    \n",
    "    \n",
    "    def Sklear(self, X, Y, fltTrain):\n",
    "        from sklearn.model_selection import train_test_split\n",
    "        #Separa datos entrenamiento y prueba\n",
    "        X_train, X_test, y_train, y_test = train_test_split(self.x, self.y, test_size= fltTrain)\n",
    "        #Algoritmo a usar\n",
    "        lm = linear_model.LinearRegression()\n",
    "        #Entrenar el modelo\n",
    "        lm.fit(X_train, y_train)\n",
    "        #Realizo una predicción\n",
    "        Y_pred = lm.predict(X_test)\n",
    "        #Valor de la pendiente o coeficiente y\n",
    "        lm.coef\n",
    "        #Valor de la intersección o coeficiente x\n",
    "        lr.intercept\n",
    "        #Precisión del modelo\n",
    "        lr.score(X_train, y_train)\n",
    "            \n",
    "            \n",
    "    "
   ]
  },
  {
   "cell_type": "code",
   "execution_count": 148,
   "metadata": {},
   "outputs": [],
   "source": [
    "my = my_regresion(\"proyecto_training_data.npy\")"
   ]
  },
  {
   "cell_type": "code",
   "execution_count": 149,
   "metadata": {},
   "outputs": [
    {
     "data": {
      "text/plain": [
       "<bound method my_regresion.__init__ of <__main__.my_regresion object at 0x0000029592CCE550>>"
      ]
     },
     "execution_count": 149,
     "metadata": {},
     "output_type": "execute_result"
    }
   ],
   "source": [
    "my.__init__"
   ]
  },
  {
   "cell_type": "code",
   "execution_count": 150,
   "metadata": {},
   "outputs": [
    {
     "data": {
      "text/plain": [
       "{'beta0': [],\n",
       " 'beta1': [],\n",
       " 'x': [],\n",
       " 'y': [],\n",
       " 'yHat': [],\n",
       " 'Error': [],\n",
       " 'GradB0': [],\n",
       " 'GradB1': [],\n",
       " 'ParB0': [],\n",
       " 'ParB1': [],\n",
       " 'A': 0,\n",
       " 'B': 0,\n",
       " 'C': 0,\n",
       " 'D': 0,\n",
       " 'E': 0,\n",
       " 'F': 0,\n",
       " 'diccionario': {},\n",
       " 'pdData': Empty DataFrame\n",
       " Columns: []\n",
       " Index: [],\n",
       " 'archivo': array([[2.08500e+05, 7.00000e+00, 8.56000e+02, 8.00000e+00, 2.00300e+03,\n",
       "         6.50000e+01],\n",
       "        [1.81500e+05, 6.00000e+00, 1.26200e+03, 6.00000e+00, 1.97600e+03,\n",
       "         8.00000e+01],\n",
       "        [2.23500e+05, 7.00000e+00, 9.20000e+02, 6.00000e+00, 2.00100e+03,\n",
       "         6.80000e+01],\n",
       "        ...,\n",
       "        [2.66500e+05, 7.00000e+00, 1.18800e+03, 9.00000e+00, 1.94100e+03,\n",
       "         6.60000e+01],\n",
       "        [1.42125e+05, 5.00000e+00, 1.07800e+03, 5.00000e+00, 1.95000e+03,\n",
       "         6.80000e+01],\n",
       "        [1.47500e+05, 5.00000e+00, 1.25600e+03, 6.00000e+00, 1.96500e+03,\n",
       "         7.50000e+01]]),\n",
       " 'dsEntrenamientoNan': [],\n",
       " 'flMedia': [],\n",
       " 'flValorMaximo': [],\n",
       " 'flValorMinimo': [],\n",
       " 'flRango': [],\n",
       " 'flDesviacionEstandar': [],\n",
       " 'epochs': 0,\n",
       " 'print_error': 0,\n",
       " 'learing_rate': 0.0,\n",
       " 'matriz': [],\n",
       " 'ArrVal': [],\n",
       " 'long': 1460,\n",
       " 'long80': 1168,\n",
       " 'long81': 1169,\n",
       " 'long20': 292.0,\n",
       " 'dsEntrenamiento': array([[2.0850e+05, 7.0000e+00, 8.5600e+02, 8.0000e+00, 2.0030e+03,\n",
       "         6.5000e+01],\n",
       "        [1.8150e+05, 6.0000e+00, 1.2620e+03, 6.0000e+00, 1.9760e+03,\n",
       "         8.0000e+01],\n",
       "        [2.2350e+05, 7.0000e+00, 9.2000e+02, 6.0000e+00, 2.0010e+03,\n",
       "         6.8000e+01],\n",
       "        ...,\n",
       "        [2.4535e+05, 8.0000e+00, 1.6940e+03, 7.0000e+00, 2.0080e+03,\n",
       "         6.4000e+01],\n",
       "        [1.7300e+05, 6.0000e+00, 9.5900e+02, 7.0000e+00, 2.0000e+03,\n",
       "         5.8000e+01],\n",
       "        [2.3500e+05, 6.0000e+00, 1.2360e+03, 7.0000e+00, 1.9350e+03,\n",
       "         1.2000e+02]]),\n",
       " 'dsValidacion': array([[2.35000e+05, 6.00000e+00, 1.23600e+03, 7.00000e+00, 1.93500e+03,\n",
       "         1.20000e+02],\n",
       "        [6.25000e+05, 1.00000e+01, 1.83100e+03, 1.00000e+01, 1.99500e+03,\n",
       "         1.18000e+02],\n",
       "        [1.71000e+05, 6.00000e+00, 1.11800e+03, 6.00000e+00, 1.97700e+03,\n",
       "         7.60000e+01],\n",
       "        ...,\n",
       "        [2.66500e+05, 7.00000e+00, 1.18800e+03, 9.00000e+00, 1.94100e+03,\n",
       "         6.60000e+01],\n",
       "        [1.42125e+05, 5.00000e+00, 1.07800e+03, 5.00000e+00, 1.95000e+03,\n",
       "         6.80000e+01],\n",
       "        [1.47500e+05, 5.00000e+00, 1.25600e+03, 6.00000e+00, 1.96500e+03,\n",
       "         7.50000e+01]])}"
      ]
     },
     "execution_count": 150,
     "metadata": {},
     "output_type": "execute_result"
    }
   ],
   "source": [
    "my.__dict__"
   ]
  },
  {
   "cell_type": "code",
   "execution_count": 151,
   "metadata": {},
   "outputs": [
    {
     "data": {
      "text/plain": [
       "(array([35239.83333333, 30805.        , 37750.33333333, ...,\n",
       "        41521.83333333, 29338.33333333, 39717.33333333]),\n",
       " array([208500., 181500., 223500., ..., 245350., 173000., 235000.]),\n",
       " array([7., 6., 6., ..., 7., 6., 6.]),\n",
       " array([208493., 181494., 223494., ..., 245343., 172994., 234994.]),\n",
       " array([77487.55164846, 67396.91578255, 83072.83863106, ...,\n",
       "        91158.42669846, 64251.45434584, 87336.02445281]))"
      ]
     },
     "execution_count": 151,
     "metadata": {},
     "output_type": "execute_result"
    }
   ],
   "source": [
    "my.GetExploraionData(my.dsEntrenamiento)"
   ]
  },
  {
   "cell_type": "code",
   "execution_count": 152,
   "metadata": {},
   "outputs": [
    {
     "name": "stderr",
     "output_type": "stream",
     "text": [
      "D:\\Users\\Tulio\\anaconda3\\lib\\site-packages\\seaborn\\distributions.py:2551: FutureWarning: `distplot` is a deprecated function and will be removed in a future version. Please adapt your code to use either `displot` (a figure-level function with similar flexibility) or `kdeplot` (an axes-level function for kernel density plots).\n",
      "  warnings.warn(msg, FutureWarning)\n",
      "D:\\Users\\Tulio\\anaconda3\\lib\\site-packages\\seaborn\\distributions.py:2055: FutureWarning: The `axis` variable is no longer used and will be removed. Instead, assign variables directly to `x` or `y`.\n",
      "  warnings.warn(msg, FutureWarning)\n"
     ]
    },
    {
     "data": {
      "image/png": "[encoded data removed]",
      "text/plain": [
       "<Figure size 432x288 with 1 Axes>"
      ]
     },
     "metadata": {},
     "output_type": "display_data"
    }
   ],
   "source": [
    "my.GetHistogram(my.dsEntrenamiento)"
   ]
  },
  {
   "cell_type": "code",
   "execution_count": 153,
   "metadata": {},
   "outputs": [
    {
     "data": {
      "image/png": "[encoded data removed]",
      "text/plain": [
       "<Figure size 432x288 with 1 Axes>"
      ]
     },
     "metadata": {},
     "output_type": "display_data"
    }
   ],
   "source": [
    "my.DivArrCoe(my.dsEntrenamiento)"
   ]
  },
  {
   "cell_type": "code",
   "execution_count": 154,
   "metadata": {},
   "outputs": [
    {
     "data": {
      "text/plain": [
       "({0: {'Iteracion': 0,\n",
       "   'Beta 0': 3.3573141486810554e-05,\n",
       "   'Beta 1': 7.0,\n",
       "   'yHat': 14.0,\n",
       "   'Error': 24.5,\n",
       "   'Gradiante B0': 0.005988023952095808,\n",
       "   'Gradiante B1': 1248.502994011976,\n",
       "   'Par B0': -0.1497005988023952,\n",
       "   'Par B1': -31212.5748502994},\n",
       "  1: {'Iteracion': 1,\n",
       "   'Beta 0': 3.305785123966942e-05,\n",
       "   'Beta 1': 6.0,\n",
       "   'yHat': 12.0,\n",
       "   'Error': 18.0,\n",
       "   'Gradiante B0': 0.005132591958939264,\n",
       "   'Gradiante B1': 931.5654405474764,\n",
       "   'Par B0': -0.2780153977758768,\n",
       "   'Par B1': -54501.710863986315},\n",
       "  2: {'Iteracion': 2,\n",
       "   'Beta 0': 3.1319910514541384e-05,\n",
       "   'Beta 1': 7.0,\n",
       "   'yHat': 14.0,\n",
       "   'Error': 24.5,\n",
       "   'Gradiante B0': 0.005988023952095808,\n",
       "   'Gradiante B1': 1338.3233532934132,\n",
       "   'Par B0': -0.427715996578272,\n",
       "   'Par B1': -87959.79469632165},\n",
       "  3: {'Iteracion': 3,\n",
       "   'Beta 0': 5e-05,\n",
       "   'Beta 1': 7.0,\n",
       "   'yHat': 14.0,\n",
       "   'Error': 24.5,\n",
       "   'Gradiante B0': 0.005988023952095808,\n",
       "   'Gradiante B1': 838.3233532934131,\n",
       "   'Par B0': -0.5774165953806671,\n",
       "   'Par B1': -108917.87852865698}},\n",
       " [24.5, 18.0, 24.5, 24.5])"
      ]
     },
     "execution_count": 154,
     "metadata": {},
     "output_type": "execute_result"
    }
   ],
   "source": [
    "my.TrainingModel(my.dsEntrenamiento[:,0], my.dsEntrenamiento[:,1], 3,10,25)"
   ]
  },
  {
   "cell_type": "code",
   "execution_count": 155,
   "metadata": {},
   "outputs": [
    {
     "name": "stdout",
     "output_type": "stream",
     "text": [
      "0\n",
      "1\n",
      "2\n",
      "3\n"
     ]
    }
   ],
   "source": [
    "for clave in my.diccionario:\n",
    "    # Hacer algo con esa clave\n",
    "    print(clave)"
   ]
  },
  {
   "cell_type": "code",
   "execution_count": 156,
   "metadata": {},
   "outputs": [],
   "source": [
    "\n",
    "dic = my.diccionario.values()\n",
    "lista = []\n",
    "valor = []\n",
    "cc = []\n",
    "for clave in dic:\n",
    "    #print(clave)\n",
    "    cc = np.append(cc, np.array(clave))\n",
    "    pa = pd.Series(clave)\n",
    "    #df.append(clave, ignore_index=True)\n",
    "    #df = pd.DataFrame([clave for clave in dic.keys()], columns=['Iteracion'])\n",
    "    #df = pd.DataFrame([clave1 for clave1 in clave.keys()], columns=['Iteracion'])\n",
    "    #df['Iteracion'] = [value['Iteracion'] for value in clave.values()]\n",
    "    #for clave1 in clave:\n",
    "        #print(clave1)\n",
    "        #valor = clave[clave1]\n",
    "        #df[clave1] = 0\n",
    "        #df.loc[clave1] = df.append(valor)\n",
    "        #df = pd.DataFrame([clave1 for clave1 in clave.keys()], columns=['Iteracion'])\n",
    "        #df['Iteracion'] = [value['Iteracion'] for value in clave.values()]\n",
    "        #lista.append(valor)\n",
    "        \n",
    "        #print('.....')\n",
    "        #print(valor)\n",
    "        #print(lista)\n",
    "       \n",
    "    "
   ]
  },
  {
   "cell_type": "code",
   "execution_count": 157,
   "metadata": {},
   "outputs": [
    {
     "data": {
      "text/plain": [
       "dict_values([{'Iteracion': 0, 'Beta 0': 3.3573141486810554e-05, 'Beta 1': 7.0, 'yHat': 14.0, 'Error': 24.5, 'Gradiante B0': 0.005988023952095808, 'Gradiante B1': 1248.502994011976, 'Par B0': -0.1497005988023952, 'Par B1': -31212.5748502994}, {'Iteracion': 1, 'Beta 0': 3.305785123966942e-05, 'Beta 1': 6.0, 'yHat': 12.0, 'Error': 18.0, 'Gradiante B0': 0.005132591958939264, 'Gradiante B1': 931.5654405474764, 'Par B0': -0.2780153977758768, 'Par B1': -54501.710863986315}, {'Iteracion': 2, 'Beta 0': 3.1319910514541384e-05, 'Beta 1': 7.0, 'yHat': 14.0, 'Error': 24.5, 'Gradiante B0': 0.005988023952095808, 'Gradiante B1': 1338.3233532934132, 'Par B0': -0.427715996578272, 'Par B1': -87959.79469632165}, {'Iteracion': 3, 'Beta 0': 5e-05, 'Beta 1': 7.0, 'yHat': 14.0, 'Error': 24.5, 'Gradiante B0': 0.005988023952095808, 'Gradiante B1': 838.3233532934131, 'Par B0': -0.5774165953806671, 'Par B1': -108917.87852865698}])"
      ]
     },
     "execution_count": 157,
     "metadata": {},
     "output_type": "execute_result"
    }
   ],
   "source": [
    "dic"
   ]
  },
  {
   "cell_type": "code",
   "execution_count": 158,
   "metadata": {},
   "outputs": [
    {
     "data": {
      "text/html": [
       "<div>\n",
       "<style scoped>\n",
       "    .dataframe tbody tr th:only-of-type {\n",
       "        vertical-align: middle;\n",
       "    }\n",
       "\n",
       "    .dataframe tbody tr th {\n",
       "        vertical-align: top;\n",
       "    }\n",
       "\n",
       "    .dataframe thead th {\n",
       "        text-align: right;\n",
       "    }\n",
       "</style>\n",
       "<table border=\"1\" class=\"dataframe\">\n",
       "  <thead>\n",
       "    <tr style=\"text-align: right;\">\n",
       "      <th></th>\n",
       "      <th>Iteracion</th>\n",
       "    </tr>\n",
       "  </thead>\n",
       "  <tbody>\n",
       "    <tr>\n",
       "      <th>0</th>\n",
       "      <td>{'Iteracion': 0, 'Beta 0': 3.3573141486810554e...</td>\n",
       "    </tr>\n",
       "    <tr>\n",
       "      <th>1</th>\n",
       "      <td>{'Iteracion': 1, 'Beta 0': 3.305785123966942e-...</td>\n",
       "    </tr>\n",
       "    <tr>\n",
       "      <th>2</th>\n",
       "      <td>{'Iteracion': 2, 'Beta 0': 3.1319910514541384e...</td>\n",
       "    </tr>\n",
       "    <tr>\n",
       "      <th>3</th>\n",
       "      <td>{'Iteracion': 3, 'Beta 0': 5e-05, 'Beta 1': 7....</td>\n",
       "    </tr>\n",
       "  </tbody>\n",
       "</table>\n",
       "</div>"
      ],
      "text/plain": [
       "                                           Iteracion\n",
       "0  {'Iteracion': 0, 'Beta 0': 3.3573141486810554e...\n",
       "1  {'Iteracion': 1, 'Beta 0': 3.305785123966942e-...\n",
       "2  {'Iteracion': 2, 'Beta 0': 3.1319910514541384e...\n",
       "3  {'Iteracion': 3, 'Beta 0': 5e-05, 'Beta 1': 7...."
      ]
     },
     "execution_count": 158,
     "metadata": {},
     "output_type": "execute_result"
    }
   ],
   "source": [
    "df = pd.DataFrame(cc, columns = [\"Iteracion\"])\n",
    "df"
   ]
  },
  {
   "cell_type": "code",
   "execution_count": 159,
   "metadata": {},
   "outputs": [
    {
     "data": {
      "text/plain": [
       "array([{'Iteracion': 0, 'Beta 0': 3.3573141486810554e-05, 'Beta 1': 7.0, 'yHat': 14.0, 'Error': 24.5, 'Gradiante B0': 0.005988023952095808, 'Gradiante B1': 1248.502994011976, 'Par B0': -0.1497005988023952, 'Par B1': -31212.5748502994},\n",
       "       {'Iteracion': 1, 'Beta 0': 3.305785123966942e-05, 'Beta 1': 6.0, 'yHat': 12.0, 'Error': 18.0, 'Gradiante B0': 0.005132591958939264, 'Gradiante B1': 931.5654405474764, 'Par B0': -0.2780153977758768, 'Par B1': -54501.710863986315},\n",
       "       {'Iteracion': 2, 'Beta 0': 3.1319910514541384e-05, 'Beta 1': 7.0, 'yHat': 14.0, 'Error': 24.5, 'Gradiante B0': 0.005988023952095808, 'Gradiante B1': 1338.3233532934132, 'Par B0': -0.427715996578272, 'Par B1': -87959.79469632165},\n",
       "       {'Iteracion': 3, 'Beta 0': 5e-05, 'Beta 1': 7.0, 'yHat': 14.0, 'Error': 24.5, 'Gradiante B0': 0.005988023952095808, 'Gradiante B1': 838.3233532934131, 'Par B0': -0.5774165953806671, 'Par B1': -108917.87852865698}],\n",
       "      dtype=object)"
      ]
     },
     "execution_count": 159,
     "metadata": {},
     "output_type": "execute_result"
    }
   ],
   "source": [
    "cc"
   ]
  },
  {
   "cell_type": "code",
   "execution_count": 160,
   "metadata": {},
   "outputs": [
    {
     "data": {
      "text/plain": [
       "0    {'Iteracion': 0, 'Beta 0': 3.3573141486810554e...\n",
       "1    {'Iteracion': 1, 'Beta 0': 3.305785123966942e-...\n",
       "2    {'Iteracion': 2, 'Beta 0': 3.1319910514541384e...\n",
       "3    {'Iteracion': 3, 'Beta 0': 5e-05, 'Beta 1': 7....\n",
       "dtype: object"
      ]
     },
     "execution_count": 160,
     "metadata": {},
     "output_type": "execute_result"
    }
   ],
   "source": [
    "pd.Series(dic)"
   ]
  },
  {
   "cell_type": "code",
   "execution_count": 161,
   "metadata": {},
   "outputs": [
    {
     "data": {
      "text/plain": [
       "Iteracion            3.000000\n",
       "Beta 0               0.000050\n",
       "Beta 1               7.000000\n",
       "yHat                14.000000\n",
       "Error               24.500000\n",
       "Gradiante B0         0.005988\n",
       "Gradiante B1       838.323353\n",
       "Par B0              -0.577417\n",
       "Par B1         -108917.878529\n",
       "dtype: float64"
      ]
     },
     "execution_count": 161,
     "metadata": {},
     "output_type": "execute_result"
    }
   ],
   "source": [
    "pa"
   ]
  },
  {
   "cell_type": "code",
   "execution_count": 172,
   "metadata": {},
   "outputs": [
    {
     "data": {
      "text/html": [
       "<div>\n",
       "<style scoped>\n",
       "    .dataframe tbody tr th:only-of-type {\n",
       "        vertical-align: middle;\n",
       "    }\n",
       "\n",
       "    .dataframe tbody tr th {\n",
       "        vertical-align: top;\n",
       "    }\n",
       "\n",
       "    .dataframe thead th {\n",
       "        text-align: right;\n",
       "    }\n",
       "</style>\n",
       "<table border=\"1\" class=\"dataframe\">\n",
       "  <thead>\n",
       "    <tr style=\"text-align: right;\">\n",
       "      <th></th>\n",
       "      <th>Iteracion</th>\n",
       "      <th>Beta 0</th>\n",
       "      <th>Beta 1</th>\n",
       "      <th>yHat</th>\n",
       "      <th>Error</th>\n",
       "      <th>Gradiante B0</th>\n",
       "      <th>Gradiante B1</th>\n",
       "      <th>Par B0</th>\n",
       "      <th>Par B1</th>\n",
       "    </tr>\n",
       "  </thead>\n",
       "  <tbody>\n",
       "    <tr>\n",
       "      <th>0</th>\n",
       "      <td>0.0</td>\n",
       "      <td>0.000034</td>\n",
       "      <td>7.0</td>\n",
       "      <td>14.0</td>\n",
       "      <td>24.5</td>\n",
       "      <td>0.005988</td>\n",
       "      <td>1248.502994</td>\n",
       "      <td>-0.149701</td>\n",
       "      <td>-31212.574850</td>\n",
       "    </tr>\n",
       "    <tr>\n",
       "      <th>1</th>\n",
       "      <td>1.0</td>\n",
       "      <td>0.000033</td>\n",
       "      <td>6.0</td>\n",
       "      <td>12.0</td>\n",
       "      <td>18.0</td>\n",
       "      <td>0.005133</td>\n",
       "      <td>931.565441</td>\n",
       "      <td>-0.278015</td>\n",
       "      <td>-54501.710864</td>\n",
       "    </tr>\n",
       "    <tr>\n",
       "      <th>2</th>\n",
       "      <td>2.0</td>\n",
       "      <td>0.000031</td>\n",
       "      <td>7.0</td>\n",
       "      <td>14.0</td>\n",
       "      <td>24.5</td>\n",
       "      <td>0.005988</td>\n",
       "      <td>1338.323353</td>\n",
       "      <td>-0.427716</td>\n",
       "      <td>-87959.794696</td>\n",
       "    </tr>\n",
       "    <tr>\n",
       "      <th>3</th>\n",
       "      <td>3.0</td>\n",
       "      <td>0.000050</td>\n",
       "      <td>7.0</td>\n",
       "      <td>14.0</td>\n",
       "      <td>24.5</td>\n",
       "      <td>0.005988</td>\n",
       "      <td>838.323353</td>\n",
       "      <td>-0.577417</td>\n",
       "      <td>-108917.878529</td>\n",
       "    </tr>\n",
       "  </tbody>\n",
       "</table>\n",
       "</div>"
      ],
      "text/plain": [
       "   Iteracion    Beta 0  Beta 1  yHat  Error  Gradiante B0  Gradiante B1  \\\n",
       "0        0.0  0.000034     7.0  14.0   24.5      0.005988   1248.502994   \n",
       "1        1.0  0.000033     6.0  12.0   18.0      0.005133    931.565441   \n",
       "2        2.0  0.000031     7.0  14.0   24.5      0.005988   1338.323353   \n",
       "3        3.0  0.000050     7.0  14.0   24.5      0.005988    838.323353   \n",
       "\n",
       "     Par B0         Par B1  \n",
       "0 -0.149701  -31212.574850  \n",
       "1 -0.278015  -54501.710864  \n",
       "2 -0.427716  -87959.794696  \n",
       "3 -0.577417 -108917.878529  "
      ]
     },
     "execution_count": 172,
     "metadata": {},
     "output_type": "execute_result"
    }
   ],
   "source": [
    "data = pd.DataFrame(my.diccionario)\n",
    "data = data.T\n",
    "data"
   ]
  },
  {
   "cell_type": "code",
   "execution_count": 175,
   "metadata": {},
   "outputs": [
    {
     "data": {
      "text/plain": [
       "[<matplotlib.lines.Line2D at 0x29592cc8250>,\n",
       " <matplotlib.lines.Line2D at 0x29592cc81f0>,\n",
       " <matplotlib.lines.Line2D at 0x29592cc8df0>]"
      ]
     },
     "execution_count": 175,
     "metadata": {},
     "output_type": "execute_result"
    },
    {
     "data": {
      "image/png": "[encoded data removed]",
      "text/plain": [
       "<Figure size 432x288 with 1 Axes>"
      ]
     },
     "metadata": {},
     "output_type": "display_data"
    }
   ],
   "source": [
    "plt.plot(data['Iteracion'], data['Iteracion'], 'b', data['Iteracion'], data['Beta 0'], 'g', data['Iteracion'], data['Beta 1'], 'k',  )"
   ]
  },
  {
   "cell_type": "code",
   "execution_count": null,
   "metadata": {},
   "outputs": [],
   "source": []
  }
 ],
 "metadata": {
  "kernelspec": {
   "display_name": "Python 3",
   "language": "python",
   "name": "python3"
  },
  "language_info": {
   "codemirror_mode": {
    "name": "ipython",
    "version": 3
   },
   "file_extension": ".py",
   "mimetype": "text/x-python",
   "name": "python",
   "nbconvert_exporter": "python",
   "pygments_lexer": "ipython3",
   "version": "3.8.5"
  }
 },
 "nbformat": 4,
 "nbformat_minor": 4
}
