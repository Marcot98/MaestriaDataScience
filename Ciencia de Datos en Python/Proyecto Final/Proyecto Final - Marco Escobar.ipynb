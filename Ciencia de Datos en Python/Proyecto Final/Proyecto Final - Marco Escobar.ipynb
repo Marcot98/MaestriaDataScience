{
 "cells": [
  {
   "cell_type": "markdown",
   "metadata": {},
   "source": [
    ">># **Ciencia de Datos en Python**\n",
    "### Proyecto Final\n",
    "###### *Marco Tulio Escobar Muñoz*"
   ]
  },
  {
   "cell_type": "code",
   "execution_count": null,
   "metadata": {},
   "outputs": [],
   "source": [
    "import numpy as np\n",
    "import panda as pd\n",
    "import matplotlib as mt\n",
    "import seaborn as sb\n",
    "import scikit-learn as sl\n",
    "\n",
    "class my_regresion(self, x, y):\n",
    "    def __init__():\n",
    "        self.beta0 = []\n",
    "        self.beta1 = []\n",
    "        self.x = []\n",
    "        self.y = []\n",
    "        self.archivo = np.load(\"proyecto_training_data.npy\")\n",
    "        "
   ]
  }
 ],
 "metadata": {
  "kernelspec": {
   "display_name": "Python 3",
   "language": "python",
   "name": "python3"
  },
  "language_info": {
   "codemirror_mode": {
    "name": "ipython",
    "version": 3
   },
   "file_extension": ".py",
   "mimetype": "text/x-python",
   "name": "python",
   "nbconvert_exporter": "python",
   "pygments_lexer": "ipython3",
   "version": "3.8.5"
  }
 },
 "nbformat": 4,
 "nbformat_minor": 4
}
