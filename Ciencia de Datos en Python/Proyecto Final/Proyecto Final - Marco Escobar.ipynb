{
 "cells": [
  {
   "cell_type": "markdown",
   "metadata": {},
   "source": [
    ">># **Ciencia de Datos en Python**\n",
    "### Proyecto Final\n",
    "###### *Marco Tulio Escobar Muñoz*"
   ]
  },
  {
   "cell_type": "code",
   "execution_count": null,
   "metadata": {},
   "outputs": [],
   "source": [
    "import numpy as np\n",
    "import panda as pd\n",
    "import matplotlib as mt\n",
    "import seaborn as sns\n",
    "import scikit-learn as sl\n",
    "\n",
    "class my_regresion(self, x, y):\n",
    "    def __init__():\n",
    "        self.beta0 = []\n",
    "        self.beta1 = []\n",
    "        self.x = []\n",
    "        self.y = []\n",
    "        self.archivo = np.load(\"proyecto_training_data.npy\")\n",
    "        self.dsEntrenamiento = []\n",
    "        self.dsEntrenamientoNan = []\n",
    "        self.dsValidacion = []\n",
    "        self.flMedia = float\n",
    "        self.flValorMaximo = float\n",
    "        self.flValorMinimo = float\n",
    "        self.flRango = float\n",
    "        self.flDesviacionEstandar = float\n",
    "    \n",
    "    def GetDataSet(self):\n",
    "        long = len(self.archivo)\n",
    "        long81 = (long * 0.80) + 1\n",
    "        long80 = long * 0.80\n",
    "        long20 = long * 0.20\n",
    "        self.dsEntrenamiento = archivo[0:long81]\n",
    "        self.dsValidacion = archivo[long80:]\n",
    "        \n",
    "        return self.dsEntrenamiento, self.dsValidacion\n",
    "    \n",
    "    def GetExploraionData(self):\n",
    "        self.dsEntrenamientoNan = self.dsEntrenamiento\n",
    "        self.dsEntrenamientoNan[np.isnan(self.dsEntrenamientoNan)] = 0\n",
    "        self.flMedia = np.nanmean(self.dsEntrenamiento)\n",
    "        self.flValorMaximo = np.nanmax(self.dsEntrenamiento)\n",
    "        self.flValorMinimo = np.nanmin(self.dsEntrenamiento)\n",
    "        self.flRango = np.ptp(self.dsEntrenamientoNan)\n",
    "        self.flDesviacionEstandar = np.nanstd(self.dsEntrenamiento)\n",
    "        \n",
    "        return self.flMedia, self.flValorMaximo, self.flValorMinimo, self.flRango, self.DesviacionEstandar"
   ]
  }
 ],
 "metadata": {
  "kernelspec": {
   "display_name": "Python 3",
   "language": "python",
   "name": "python3"
  },
  "language_info": {
   "codemirror_mode": {
    "name": "ipython",
    "version": 3
   },
   "file_extension": ".py",
   "mimetype": "text/x-python",
   "name": "python",
   "nbconvert_exporter": "python",
   "pygments_lexer": "ipython3",
   "version": "3.8.5"
  }
 },
 "nbformat": 4,
 "nbformat_minor": 4
}
