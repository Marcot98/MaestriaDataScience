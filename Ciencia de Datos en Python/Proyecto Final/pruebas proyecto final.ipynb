{
 "cells": [
  {
   "cell_type": "code",
   "execution_count": 1,
   "metadata": {},
   "outputs": [
    {
     "data": {
      "text/plain": [
       "array([[2.08500e+05, 7.00000e+00, 8.56000e+02, 8.00000e+00, 2.00300e+03,\n",
       "        6.50000e+01],\n",
       "       [1.81500e+05, 6.00000e+00, 1.26200e+03, 6.00000e+00, 1.97600e+03,\n",
       "        8.00000e+01],\n",
       "       [2.23500e+05, 7.00000e+00, 9.20000e+02, 6.00000e+00, 2.00100e+03,\n",
       "        6.80000e+01],\n",
       "       ...,\n",
       "       [2.66500e+05, 7.00000e+00, 1.18800e+03, 9.00000e+00, 1.94100e+03,\n",
       "        6.60000e+01],\n",
       "       [1.42125e+05, 5.00000e+00, 1.07800e+03, 5.00000e+00, 1.95000e+03,\n",
       "        6.80000e+01],\n",
       "       [1.47500e+05, 5.00000e+00, 1.25600e+03, 6.00000e+00, 1.96500e+03,\n",
       "        7.50000e+01]])"
      ]
     },
     "execution_count": 1,
     "metadata": {},
     "output_type": "execute_result"
    }
   ],
   "source": [
    "import numpy as np\n",
    "\n",
    "A = np.load(\"proyecto_training_data.npy\")\n",
    "A"
   ]
  },
  {
   "cell_type": "code",
   "execution_count": 2,
   "metadata": {},
   "outputs": [
    {
     "data": {
      "text/plain": [
       "1460"
      ]
     },
     "execution_count": 2,
     "metadata": {},
     "output_type": "execute_result"
    }
   ],
   "source": [
    "len(A)"
   ]
  },
  {
   "cell_type": "code",
   "execution_count": 3,
   "metadata": {},
   "outputs": [
    {
     "data": {
      "text/plain": [
       "1168.0"
      ]
     },
     "execution_count": 3,
     "metadata": {},
     "output_type": "execute_result"
    }
   ],
   "source": [
    "len(A)*0.80"
   ]
  },
  {
   "cell_type": "code",
   "execution_count": 5,
   "metadata": {},
   "outputs": [
    {
     "data": {
      "text/plain": [
       "array([[2.35000e+05, 6.00000e+00, 1.23600e+03, 7.00000e+00, 1.93500e+03,\n",
       "        1.20000e+02],\n",
       "       [6.25000e+05, 1.00000e+01, 1.83100e+03, 1.00000e+01, 1.99500e+03,\n",
       "        1.18000e+02],\n",
       "       [1.71000e+05, 6.00000e+00, 1.11800e+03, 6.00000e+00, 1.97700e+03,\n",
       "        7.60000e+01],\n",
       "       ...,\n",
       "       [2.66500e+05, 7.00000e+00, 1.18800e+03, 9.00000e+00, 1.94100e+03,\n",
       "        6.60000e+01],\n",
       "       [1.42125e+05, 5.00000e+00, 1.07800e+03, 5.00000e+00, 1.95000e+03,\n",
       "        6.80000e+01],\n",
       "       [1.47500e+05, 5.00000e+00, 1.25600e+03, 6.00000e+00, 1.96500e+03,\n",
       "        7.50000e+01]])"
      ]
     },
     "execution_count": 5,
     "metadata": {},
     "output_type": "execute_result"
    }
   ],
   "source": [
    "A[1168:1460]"
   ]
  },
  {
   "cell_type": "code",
   "execution_count": 6,
   "metadata": {},
   "outputs": [
    {
     "data": {
      "text/plain": [
       "292"
      ]
     },
     "execution_count": 6,
     "metadata": {},
     "output_type": "execute_result"
    }
   ],
   "source": [
    "len(A[1168:1460])"
   ]
  },
  {
   "cell_type": "code",
   "execution_count": 7,
   "metadata": {},
   "outputs": [
    {
     "data": {
      "text/plain": [
       "1460"
      ]
     },
     "execution_count": 7,
     "metadata": {},
     "output_type": "execute_result"
    }
   ],
   "source": [
    "1168+292"
   ]
  },
  {
   "cell_type": "code",
   "execution_count": 11,
   "metadata": {},
   "outputs": [
    {
     "data": {
      "text/plain": [
       "1168"
      ]
     },
     "execution_count": 11,
     "metadata": {},
     "output_type": "execute_result"
    }
   ],
   "source": [
    "len(A[:1168])"
   ]
  },
  {
   "cell_type": "code",
   "execution_count": 10,
   "metadata": {},
   "outputs": [
    {
     "data": {
      "text/plain": [
       "1168.0"
      ]
     },
     "execution_count": 10,
     "metadata": {},
     "output_type": "execute_result"
    }
   ],
   "source": [
    "len(A)*0.80"
   ]
  },
  {
   "cell_type": "code",
   "execution_count": 13,
   "metadata": {},
   "outputs": [
    {
     "data": {
      "text/plain": [
       "array([[2.35000e+05, 6.00000e+00, 1.23600e+03, 7.00000e+00, 1.93500e+03,\n",
       "        1.20000e+02],\n",
       "       [6.25000e+05, 1.00000e+01, 1.83100e+03, 1.00000e+01, 1.99500e+03,\n",
       "        1.18000e+02],\n",
       "       [1.71000e+05, 6.00000e+00, 1.11800e+03, 6.00000e+00, 1.97700e+03,\n",
       "        7.60000e+01],\n",
       "       ...,\n",
       "       [2.66500e+05, 7.00000e+00, 1.18800e+03, 9.00000e+00, 1.94100e+03,\n",
       "        6.60000e+01],\n",
       "       [1.42125e+05, 5.00000e+00, 1.07800e+03, 5.00000e+00, 1.95000e+03,\n",
       "        6.80000e+01],\n",
       "       [1.47500e+05, 5.00000e+00, 1.25600e+03, 6.00000e+00, 1.96500e+03,\n",
       "        7.50000e+01]])"
      ]
     },
     "execution_count": 13,
     "metadata": {},
     "output_type": "execute_result"
    }
   ],
   "source": [
    "A[1168:]"
   ]
  },
  {
   "cell_type": "code",
   "execution_count": 6,
   "metadata": {},
   "outputs": [
    {
     "data": {
      "text/plain": [
       "array([35239.83333333, 30805.        , 37750.33333333, ...,\n",
       "       44951.83333333, 24205.16666667, 25134.5       ])"
      ]
     },
     "execution_count": 6,
     "metadata": {},
     "output_type": "execute_result"
    }
   ],
   "source": [
    "np.nanmean(A, axis=1)"
   ]
  },
  {
   "cell_type": "code",
   "execution_count": 19,
   "metadata": {},
   "outputs": [
    {
     "ename": "AttributeError",
     "evalue": "'numpy.ndarray' object has no attribute 'nan'",
     "output_type": "error",
     "traceback": [
      "\u001b[1;31m---------------------------------------------------------------------------\u001b[0m",
      "\u001b[1;31mAttributeError\u001b[0m                            Traceback (most recent call last)",
      "\u001b[1;32m<ipython-input-19-3a9c667b6f24>\u001b[0m in \u001b[0;36m<module>\u001b[1;34m\u001b[0m\n\u001b[0;32m      1\u001b[0m \u001b[1;32mimport\u001b[0m \u001b[0mpandas\u001b[0m \u001b[1;32mas\u001b[0m \u001b[0mpd\u001b[0m\u001b[1;33m\u001b[0m\u001b[1;33m\u001b[0m\u001b[0m\n\u001b[1;32m----> 2\u001b[1;33m \u001b[0mB\u001b[0m \u001b[1;33m=\u001b[0m \u001b[0mA\u001b[0m\u001b[1;33m.\u001b[0m\u001b[0mnan\u001b[0m\u001b[1;33m\u001b[0m\u001b[1;33m\u001b[0m\u001b[0m\n\u001b[0m\u001b[0;32m      3\u001b[0m \u001b[0mB\u001b[0m\u001b[1;33m\u001b[0m\u001b[1;33m\u001b[0m\u001b[0m\n",
      "\u001b[1;31mAttributeError\u001b[0m: 'numpy.ndarray' object has no attribute 'nan'"
     ]
    }
   ],
   "source": [
    "import pandas as pd\n",
    "B = A.nan\n",
    "B"
   ]
  },
  {
   "cell_type": "code",
   "execution_count": 21,
   "metadata": {},
   "outputs": [
    {
     "data": {
      "text/plain": [
       "array([[False, False, False, False, False, False],\n",
       "       [False, False, False, False, False, False],\n",
       "       [False, False, False, False, False, False],\n",
       "       ...,\n",
       "       [False, False, False, False, False, False],\n",
       "       [False, False, False, False, False, False],\n",
       "       [False, False, False, False, False, False]])"
      ]
     },
     "execution_count": 21,
     "metadata": {},
     "output_type": "execute_result"
    }
   ],
   "source": [
    "np.isnan(A)"
   ]
  },
  {
   "cell_type": "code",
   "execution_count": 7,
   "metadata": {},
   "outputs": [
    {
     "data": {
      "text/plain": [
       "array([208500., 181500., 223500., ..., 266500., 142125., 147500.])"
      ]
     },
     "execution_count": 7,
     "metadata": {},
     "output_type": "execute_result"
    }
   ],
   "source": [
    "np.nanmax(A, axis=1)"
   ]
  },
  {
   "cell_type": "code",
   "execution_count": 8,
   "metadata": {},
   "outputs": [
    {
     "data": {
      "text/plain": [
       "array([7., 6., 6., ..., 7., 5., 5.])"
      ]
     },
     "execution_count": 8,
     "metadata": {},
     "output_type": "execute_result"
    }
   ],
   "source": [
    "np.nanmin(A, axis=1)"
   ]
  },
  {
   "cell_type": "code",
   "execution_count": 9,
   "metadata": {},
   "outputs": [
    {
     "data": {
      "text/plain": [
       "array([77487.55164846, 67396.91578255, 83072.83863106, ...,\n",
       "       99081.97733092, 52740.15598958, 54728.47507697])"
      ]
     },
     "execution_count": 9,
     "metadata": {},
     "output_type": "execute_result"
    }
   ],
   "source": [
    "np.std(A, axis=1)"
   ]
  },
  {
   "cell_type": "code",
   "execution_count": 10,
   "metadata": {},
   "outputs": [
    {
     "data": {
      "text/plain": [
       "array([77487.55164846, 67396.91578255, 83072.83863106, ...,\n",
       "       99081.97733092, 52740.15598958, 54728.47507697])"
      ]
     },
     "execution_count": 10,
     "metadata": {},
     "output_type": "execute_result"
    }
   ],
   "source": [
    "np.nanstd(A, axis=1)"
   ]
  },
  {
   "cell_type": "code",
   "execution_count": 11,
   "metadata": {},
   "outputs": [
    {
     "data": {
      "text/plain": [
       "array([208493., 181494., 223494., ..., 266493., 142120., 147495.])"
      ]
     },
     "execution_count": 11,
     "metadata": {},
     "output_type": "execute_result"
    }
   ],
   "source": [
    "np.ptp(A, axis=1)"
   ]
  },
  {
   "cell_type": "code",
   "execution_count": 27,
   "metadata": {},
   "outputs": [
    {
     "ename": "AttributeError",
     "evalue": "module 'numpy' has no attribute 'nanptp'",
     "output_type": "error",
     "traceback": [
      "\u001b[1;31m---------------------------------------------------------------------------\u001b[0m",
      "\u001b[1;31mAttributeError\u001b[0m                            Traceback (most recent call last)",
      "\u001b[1;32m<ipython-input-27-917551f952b3>\u001b[0m in \u001b[0;36m<module>\u001b[1;34m\u001b[0m\n\u001b[1;32m----> 1\u001b[1;33m \u001b[0mnp\u001b[0m\u001b[1;33m.\u001b[0m\u001b[0mnanptp\u001b[0m\u001b[1;33m(\u001b[0m\u001b[0mA\u001b[0m\u001b[1;33m)\u001b[0m\u001b[1;33m\u001b[0m\u001b[1;33m\u001b[0m\u001b[0m\n\u001b[0m",
      "\u001b[1;32mD:\\Users\\Tulio\\anaconda3\\lib\\site-packages\\numpy\\__init__.py\u001b[0m in \u001b[0;36m__getattr__\u001b[1;34m(attr)\u001b[0m\n\u001b[0;32m    212\u001b[0m                 \u001b[1;32mreturn\u001b[0m \u001b[0mTester\u001b[0m\u001b[1;33m\u001b[0m\u001b[1;33m\u001b[0m\u001b[0m\n\u001b[0;32m    213\u001b[0m             \u001b[1;32melse\u001b[0m\u001b[1;33m:\u001b[0m\u001b[1;33m\u001b[0m\u001b[1;33m\u001b[0m\u001b[0m\n\u001b[1;32m--> 214\u001b[1;33m                 raise AttributeError(\"module {!r} has no attribute \"\n\u001b[0m\u001b[0;32m    215\u001b[0m                                      \"{!r}\".format(__name__, attr))\n\u001b[0;32m    216\u001b[0m \u001b[1;33m\u001b[0m\u001b[0m\n",
      "\u001b[1;31mAttributeError\u001b[0m: module 'numpy' has no attribute 'nanptp'"
     ]
    }
   ],
   "source": [
    "np.nanptp(A)"
   ]
  },
  {
   "cell_type": "code",
   "execution_count": 28,
   "metadata": {},
   "outputs": [
    {
     "name": "stdout",
     "output_type": "stream",
     "text": [
      "Object `np.nanptp` not found.\n"
     ]
    }
   ],
   "source": [
    "np.nanptp?"
   ]
  },
  {
   "cell_type": "code",
   "execution_count": 29,
   "metadata": {},
   "outputs": [
    {
     "data": {
      "text/plain": [
       "\u001b[1;31mSignature:\u001b[0m \u001b[0mnp\u001b[0m\u001b[1;33m.\u001b[0m\u001b[0mptp\u001b[0m\u001b[1;33m(\u001b[0m\u001b[0ma\u001b[0m\u001b[1;33m,\u001b[0m \u001b[0maxis\u001b[0m\u001b[1;33m=\u001b[0m\u001b[1;32mNone\u001b[0m\u001b[1;33m,\u001b[0m \u001b[0mout\u001b[0m\u001b[1;33m=\u001b[0m\u001b[1;32mNone\u001b[0m\u001b[1;33m,\u001b[0m \u001b[0mkeepdims\u001b[0m\u001b[1;33m=\u001b[0m\u001b[1;33m<\u001b[0m\u001b[0mno\u001b[0m \u001b[0mvalue\u001b[0m\u001b[1;33m>\u001b[0m\u001b[1;33m)\u001b[0m\u001b[1;33m\u001b[0m\u001b[1;33m\u001b[0m\u001b[0m\n",
       "\u001b[1;31mDocstring:\u001b[0m\n",
       "Range of values (maximum - minimum) along an axis.\n",
       "\n",
       "The name of the function comes from the acronym for 'peak to peak'.\n",
       "\n",
       ".. warning::\n",
       "    `ptp` preserves the data type of the array. This means the\n",
       "    return value for an input of signed integers with n bits\n",
       "    (e.g. `np.int8`, `np.int16`, etc) is also a signed integer\n",
       "    with n bits.  In that case, peak-to-peak values greater than\n",
       "    ``2**(n-1)-1`` will be returned as negative values. An example\n",
       "    with a work-around is shown below.\n",
       "\n",
       "Parameters\n",
       "----------\n",
       "a : array_like\n",
       "    Input values.\n",
       "axis : None or int or tuple of ints, optional\n",
       "    Axis along which to find the peaks.  By default, flatten the\n",
       "    array.  `axis` may be negative, in\n",
       "    which case it counts from the last to the first axis.\n",
       "\n",
       "    .. versionadded:: 1.15.0\n",
       "\n",
       "    If this is a tuple of ints, a reduction is performed on multiple\n",
       "    axes, instead of a single axis or all the axes as before.\n",
       "out : array_like\n",
       "    Alternative output array in which to place the result. It must\n",
       "    have the same shape and buffer length as the expected output,\n",
       "    but the type of the output values will be cast if necessary.\n",
       "\n",
       "keepdims : bool, optional\n",
       "    If this is set to True, the axes which are reduced are left\n",
       "    in the result as dimensions with size one. With this option,\n",
       "    the result will broadcast correctly against the input array.\n",
       "\n",
       "    If the default value is passed, then `keepdims` will not be\n",
       "    passed through to the `ptp` method of sub-classes of\n",
       "    `ndarray`, however any non-default value will be.  If the\n",
       "    sub-class' method does not implement `keepdims` any\n",
       "    exceptions will be raised.\n",
       "\n",
       "Returns\n",
       "-------\n",
       "ptp : ndarray\n",
       "    A new array holding the result, unless `out` was\n",
       "    specified, in which case a reference to `out` is returned.\n",
       "\n",
       "Examples\n",
       "--------\n",
       ">>> x = np.array([[4, 9, 2, 10],\n",
       "...               [6, 9, 7, 12]])\n",
       "\n",
       ">>> np.ptp(x, axis=1)\n",
       "array([8, 6])\n",
       "\n",
       ">>> np.ptp(x, axis=0)\n",
       "array([2, 0, 5, 2])\n",
       "\n",
       ">>> np.ptp(x)\n",
       "10\n",
       "\n",
       "This example shows that a negative value can be returned when\n",
       "the input is an array of signed integers.\n",
       "\n",
       ">>> y = np.array([[1, 127],\n",
       "...               [0, 127],\n",
       "...               [-1, 127],\n",
       "...               [-2, 127]], dtype=np.int8)\n",
       ">>> np.ptp(y, axis=1)\n",
       "array([ 126,  127, -128, -127], dtype=int8)\n",
       "\n",
       "A work-around is to use the `view()` method to view the result as\n",
       "unsigned integers with the same bit width:\n",
       "\n",
       ">>> np.ptp(y, axis=1).view(np.uint8)\n",
       "array([126, 127, 128, 129], dtype=uint8)\n",
       "\u001b[1;31mFile:\u001b[0m      d:\\users\\tulio\\anaconda3\\lib\\site-packages\\numpy\\core\\fromnumeric.py\n",
       "\u001b[1;31mType:\u001b[0m      function\n"
      ]
     },
     "metadata": {},
     "output_type": "display_data"
    }
   ],
   "source": [
    "np.ptp?"
   ]
  },
  {
   "cell_type": "code",
   "execution_count": 30,
   "metadata": {},
   "outputs": [
    {
     "data": {
      "text/plain": [
       "array([[2.08500e+05, 7.00000e+00, 8.56000e+02, 8.00000e+00, 2.00300e+03,\n",
       "        6.50000e+01],\n",
       "       [1.81500e+05, 6.00000e+00, 1.26200e+03, 6.00000e+00, 1.97600e+03,\n",
       "        8.00000e+01],\n",
       "       [2.23500e+05, 7.00000e+00, 9.20000e+02, 6.00000e+00, 2.00100e+03,\n",
       "        6.80000e+01],\n",
       "       ...,\n",
       "       [2.66500e+05, 7.00000e+00, 1.18800e+03, 9.00000e+00, 1.94100e+03,\n",
       "        6.60000e+01],\n",
       "       [1.42125e+05, 5.00000e+00, 1.07800e+03, 5.00000e+00, 1.95000e+03,\n",
       "        6.80000e+01],\n",
       "       [1.47500e+05, 5.00000e+00, 1.25600e+03, 6.00000e+00, 1.96500e+03,\n",
       "        7.50000e+01]])"
      ]
     },
     "execution_count": 30,
     "metadata": {},
     "output_type": "execute_result"
    }
   ],
   "source": [
    "A[np.isnan(A)] = 0\n",
    "A"
   ]
  },
  {
   "cell_type": "code",
   "execution_count": 31,
   "metadata": {},
   "outputs": [
    {
     "data": {
      "text/plain": [
       "755000.0"
      ]
     },
     "execution_count": 31,
     "metadata": {},
     "output_type": "execute_result"
    }
   ],
   "source": [
    "np.ptp(A)"
   ]
  },
  {
   "cell_type": "code",
   "execution_count": 26,
   "metadata": {},
   "outputs": [
    {
     "data": {
      "text/plain": [
       "array([[2.085e+05, 7.000e+00, 8.560e+02, 8.000e+00, 2.003e+03, 6.500e+01],\n",
       "       [1.815e+05, 6.000e+00, 1.262e+03, 6.000e+00, 1.976e+03, 8.000e+01],\n",
       "       [2.235e+05, 7.000e+00, 9.200e+02, 6.000e+00, 2.001e+03, 6.800e+01]])"
      ]
     },
     "execution_count": 26,
     "metadata": {},
     "output_type": "execute_result"
    }
   ],
   "source": [
    "C = np.array([[2.08500e+05, 7.00000e+00, 8.56000e+02, 8.00000e+00, 2.00300e+03, 6.50000e+01], [1.81500e+05, 6.00000e+00, 1.26200e+03, 6.00000e+00, 1.97600e+03,8.00000e+01],[2.23500e+05, 7.00000e+00, 9.20000e+02, 6.00000e+00, 2.00100e+03, 6.80000e+01]])\n",
    "C"
   ]
  },
  {
   "cell_type": "code",
   "execution_count": 5,
   "metadata": {},
   "outputs": [
    {
     "name": "stdout",
     "output_type": "stream",
     "text": [
      "[[2.085e+05 7.000e+00 8.560e+02 8.000e+00 2.003e+03 6.500e+01]\n",
      " [1.815e+05 6.000e+00 1.262e+03 6.000e+00 1.976e+03 8.000e+01]\n",
      " [2.235e+05 7.000e+00 9.200e+02 6.000e+00 2.001e+03 6.800e+01]]\n",
      "[[2.085e+05 7.000e+00 8.560e+02 8.000e+00 2.003e+03 6.500e+01]\n",
      " [1.815e+05 6.000e+00 1.262e+03 6.000e+00 1.976e+03 8.000e+01]\n",
      " [2.235e+05 7.000e+00 9.200e+02 6.000e+00 2.001e+03 6.800e+01]]\n",
      "[[2.085e+05 7.000e+00 8.560e+02 8.000e+00 2.003e+03 6.500e+01]\n",
      " [1.815e+05 6.000e+00 1.262e+03 6.000e+00 1.976e+03 8.000e+01]\n",
      " [2.235e+05 7.000e+00 9.200e+02 6.000e+00 2.001e+03 6.800e+01]]\n",
      "[[2.085e+05 7.000e+00 8.560e+02 8.000e+00 2.003e+03 6.500e+01]\n",
      " [1.815e+05 6.000e+00 1.262e+03 6.000e+00 1.976e+03 8.000e+01]\n",
      " [2.235e+05 7.000e+00 9.200e+02 6.000e+00 2.001e+03 6.800e+01]]\n",
      "[[2.085e+05 7.000e+00 8.560e+02 8.000e+00 2.003e+03 6.500e+01]\n",
      " [1.815e+05 6.000e+00 1.262e+03 6.000e+00 1.976e+03 8.000e+01]\n",
      " [2.235e+05 7.000e+00 9.200e+02 6.000e+00 2.001e+03 6.800e+01]]\n",
      "[[2.085e+05 7.000e+00 8.560e+02 8.000e+00 2.003e+03 6.500e+01]\n",
      " [1.815e+05 6.000e+00 1.262e+03 6.000e+00 1.976e+03 8.000e+01]\n",
      " [2.235e+05 7.000e+00 9.200e+02 6.000e+00 2.001e+03 6.800e+01]]\n",
      "[[2.085e+05 7.000e+00 8.560e+02 8.000e+00 2.003e+03 6.500e+01]\n",
      " [1.815e+05 6.000e+00 1.262e+03 6.000e+00 1.976e+03 8.000e+01]\n",
      " [2.235e+05 7.000e+00 9.200e+02 6.000e+00 2.001e+03 6.800e+01]]\n",
      "[[2.085e+05 7.000e+00 8.560e+02 8.000e+00 2.003e+03 6.500e+01]\n",
      " [1.815e+05 6.000e+00 1.262e+03 6.000e+00 1.976e+03 8.000e+01]\n",
      " [2.235e+05 7.000e+00 9.200e+02 6.000e+00 2.001e+03 6.800e+01]]\n",
      "[[2.085e+05 7.000e+00 8.560e+02 8.000e+00 2.003e+03 6.500e+01]\n",
      " [1.815e+05 6.000e+00 1.262e+03 6.000e+00 1.976e+03 8.000e+01]\n",
      " [2.235e+05 7.000e+00 9.200e+02 6.000e+00 2.001e+03 6.800e+01]]\n",
      "[[2.085e+05 7.000e+00 8.560e+02 8.000e+00 2.003e+03 6.500e+01]\n",
      " [1.815e+05 6.000e+00 1.262e+03 6.000e+00 1.976e+03 8.000e+01]\n",
      " [2.235e+05 7.000e+00 9.200e+02 6.000e+00 2.001e+03 6.800e+01]]\n",
      "[[2.085e+05 7.000e+00 8.560e+02 8.000e+00 2.003e+03 6.500e+01]\n",
      " [1.815e+05 6.000e+00 1.262e+03 6.000e+00 1.976e+03 8.000e+01]\n",
      " [2.235e+05 7.000e+00 9.200e+02 6.000e+00 2.001e+03 6.800e+01]]\n",
      "[[2.085e+05 7.000e+00 8.560e+02 8.000e+00 2.003e+03 6.500e+01]\n",
      " [1.815e+05 6.000e+00 1.262e+03 6.000e+00 1.976e+03 8.000e+01]\n",
      " [2.235e+05 7.000e+00 9.200e+02 6.000e+00 2.001e+03 6.800e+01]]\n",
      "[[2.085e+05 7.000e+00 8.560e+02 8.000e+00 2.003e+03 6.500e+01]\n",
      " [1.815e+05 6.000e+00 1.262e+03 6.000e+00 1.976e+03 8.000e+01]\n",
      " [2.235e+05 7.000e+00 9.200e+02 6.000e+00 2.001e+03 6.800e+01]]\n",
      "[[2.085e+05 7.000e+00 8.560e+02 8.000e+00 2.003e+03 6.500e+01]\n",
      " [1.815e+05 6.000e+00 1.262e+03 6.000e+00 1.976e+03 8.000e+01]\n",
      " [2.235e+05 7.000e+00 9.200e+02 6.000e+00 2.001e+03 6.800e+01]]\n",
      "[[2.085e+05 7.000e+00 8.560e+02 8.000e+00 2.003e+03 6.500e+01]\n",
      " [1.815e+05 6.000e+00 1.262e+03 6.000e+00 1.976e+03 8.000e+01]\n",
      " [2.235e+05 7.000e+00 9.200e+02 6.000e+00 2.001e+03 6.800e+01]]\n",
      "[[2.085e+05 7.000e+00 8.560e+02 8.000e+00 2.003e+03 6.500e+01]\n",
      " [1.815e+05 6.000e+00 1.262e+03 6.000e+00 1.976e+03 8.000e+01]\n",
      " [2.235e+05 7.000e+00 9.200e+02 6.000e+00 2.001e+03 6.800e+01]]\n",
      "[[2.085e+05 7.000e+00 8.560e+02 8.000e+00 2.003e+03 6.500e+01]\n",
      " [1.815e+05 6.000e+00 1.262e+03 6.000e+00 1.976e+03 8.000e+01]\n",
      " [2.235e+05 7.000e+00 9.200e+02 6.000e+00 2.001e+03 6.800e+01]]\n",
      "[[2.085e+05 7.000e+00 8.560e+02 8.000e+00 2.003e+03 6.500e+01]\n",
      " [1.815e+05 6.000e+00 1.262e+03 6.000e+00 1.976e+03 8.000e+01]\n",
      " [2.235e+05 7.000e+00 9.200e+02 6.000e+00 2.001e+03 6.800e+01]]\n"
     ]
    }
   ],
   "source": [
    "for elemento in np.nditer(C):\n",
    "    print(C)"
   ]
  },
  {
   "cell_type": "code",
   "execution_count": 13,
   "metadata": {},
   "outputs": [
    {
     "data": {
      "text/plain": [
       "dtype('float64')"
      ]
     },
     "execution_count": 13,
     "metadata": {},
     "output_type": "execute_result"
    }
   ],
   "source": [
    "A.dtype"
   ]
  },
  {
   "cell_type": "code",
   "execution_count": 14,
   "metadata": {},
   "outputs": [
    {
     "data": {
      "text/plain": [
       "(1460, 6)"
      ]
     },
     "execution_count": 14,
     "metadata": {},
     "output_type": "execute_result"
    }
   ],
   "source": [
    "A.shape"
   ]
  },
  {
   "cell_type": "code",
   "execution_count": 15,
   "metadata": {},
   "outputs": [
    {
     "ename": "IndexError",
     "evalue": "only integers, slices (`:`), ellipsis (`...`), numpy.newaxis (`None`) and integer or boolean arrays are valid indices",
     "output_type": "error",
     "traceback": [
      "\u001b[1;31m---------------------------------------------------------------------------\u001b[0m",
      "\u001b[1;31mIndexError\u001b[0m                                Traceback (most recent call last)",
      "\u001b[1;32m<ipython-input-15-0dc227989eca>\u001b[0m in \u001b[0;36m<module>\u001b[1;34m\u001b[0m\n\u001b[0;32m      1\u001b[0m \u001b[1;32mimport\u001b[0m \u001b[0mmatplotlib\u001b[0m\u001b[1;33m.\u001b[0m\u001b[0mpyplot\u001b[0m \u001b[1;32mas\u001b[0m \u001b[0mplt\u001b[0m\u001b[1;33m\u001b[0m\u001b[1;33m\u001b[0m\u001b[0m\n\u001b[1;32m----> 2\u001b[1;33m \u001b[0mplt\u001b[0m\u001b[1;33m.\u001b[0m\u001b[0mscatter\u001b[0m\u001b[1;33m(\u001b[0m\u001b[0mA\u001b[0m\u001b[1;33m[\u001b[0m\u001b[1;34m'Y'\u001b[0m\u001b[1;33m]\u001b[0m\u001b[1;33m,\u001b[0m \u001b[0mA\u001b[0m\u001b[1;33m[\u001b[0m\u001b[1;34m'X'\u001b[0m\u001b[1;33m]\u001b[0m\u001b[1;33m)\u001b[0m\u001b[1;33m\u001b[0m\u001b[1;33m\u001b[0m\u001b[0m\n\u001b[0m\u001b[0;32m      3\u001b[0m \u001b[0mplt\u001b[0m\u001b[1;33m.\u001b[0m\u001b[0mxlabel\u001b[0m\u001b[1;33m(\u001b[0m\u001b[1;34m\"x\"\u001b[0m\u001b[1;33m)\u001b[0m\u001b[1;33m\u001b[0m\u001b[1;33m\u001b[0m\u001b[0m\n\u001b[0;32m      4\u001b[0m \u001b[0mplt\u001b[0m\u001b[1;33m.\u001b[0m\u001b[0mylabel\u001b[0m\u001b[1;33m(\u001b[0m\u001b[1;34m\"y\"\u001b[0m\u001b[1;33m)\u001b[0m\u001b[1;33m\u001b[0m\u001b[1;33m\u001b[0m\u001b[0m\n\u001b[0;32m      5\u001b[0m \u001b[0mplt\u001b[0m\u001b[1;33m.\u001b[0m\u001b[0mshow\u001b[0m\u001b[1;33m(\u001b[0m\u001b[1;33m)\u001b[0m\u001b[1;33m\u001b[0m\u001b[1;33m\u001b[0m\u001b[0m\n",
      "\u001b[1;31mIndexError\u001b[0m: only integers, slices (`:`), ellipsis (`...`), numpy.newaxis (`None`) and integer or boolean arrays are valid indices"
     ]
    }
   ],
   "source": [
    "import matplotlib.pyplot as plt\n",
    "plt.scatter(A['Y'], A['X'])\n",
    "plt.xlabel(\"x\")\n",
    "plt.ylabel(\"y\")\n",
    "plt.show()"
   ]
  },
  {
   "cell_type": "code",
   "execution_count": 6,
   "metadata": {},
   "outputs": [
    {
     "data": {
      "text/html": [
       "<div>\n",
       "<style scoped>\n",
       "    .dataframe tbody tr th:only-of-type {\n",
       "        vertical-align: middle;\n",
       "    }\n",
       "\n",
       "    .dataframe tbody tr th {\n",
       "        vertical-align: top;\n",
       "    }\n",
       "\n",
       "    .dataframe thead th {\n",
       "        text-align: right;\n",
       "    }\n",
       "</style>\n",
       "<table border=\"1\" class=\"dataframe\">\n",
       "  <thead>\n",
       "    <tr style=\"text-align: right;\">\n",
       "      <th></th>\n",
       "      <th>total_bill</th>\n",
       "      <th>tip</th>\n",
       "      <th>sex</th>\n",
       "      <th>smoker</th>\n",
       "      <th>day</th>\n",
       "      <th>time</th>\n",
       "      <th>size</th>\n",
       "    </tr>\n",
       "  </thead>\n",
       "  <tbody>\n",
       "    <tr>\n",
       "      <th>0</th>\n",
       "      <td>16.99</td>\n",
       "      <td>1.01</td>\n",
       "      <td>Female</td>\n",
       "      <td>No</td>\n",
       "      <td>Sun</td>\n",
       "      <td>Dinner</td>\n",
       "      <td>2</td>\n",
       "    </tr>\n",
       "    <tr>\n",
       "      <th>1</th>\n",
       "      <td>10.34</td>\n",
       "      <td>1.66</td>\n",
       "      <td>Male</td>\n",
       "      <td>No</td>\n",
       "      <td>Sun</td>\n",
       "      <td>Dinner</td>\n",
       "      <td>3</td>\n",
       "    </tr>\n",
       "    <tr>\n",
       "      <th>2</th>\n",
       "      <td>21.01</td>\n",
       "      <td>3.50</td>\n",
       "      <td>Male</td>\n",
       "      <td>No</td>\n",
       "      <td>Sun</td>\n",
       "      <td>Dinner</td>\n",
       "      <td>3</td>\n",
       "    </tr>\n",
       "    <tr>\n",
       "      <th>3</th>\n",
       "      <td>23.68</td>\n",
       "      <td>3.31</td>\n",
       "      <td>Male</td>\n",
       "      <td>No</td>\n",
       "      <td>Sun</td>\n",
       "      <td>Dinner</td>\n",
       "      <td>2</td>\n",
       "    </tr>\n",
       "    <tr>\n",
       "      <th>4</th>\n",
       "      <td>24.59</td>\n",
       "      <td>3.61</td>\n",
       "      <td>Female</td>\n",
       "      <td>No</td>\n",
       "      <td>Sun</td>\n",
       "      <td>Dinner</td>\n",
       "      <td>4</td>\n",
       "    </tr>\n",
       "  </tbody>\n",
       "</table>\n",
       "</div>"
      ],
      "text/plain": [
       "   total_bill   tip     sex smoker  day    time  size\n",
       "0       16.99  1.01  Female     No  Sun  Dinner     2\n",
       "1       10.34  1.66    Male     No  Sun  Dinner     3\n",
       "2       21.01  3.50    Male     No  Sun  Dinner     3\n",
       "3       23.68  3.31    Male     No  Sun  Dinner     2\n",
       "4       24.59  3.61  Female     No  Sun  Dinner     4"
      ]
     },
     "execution_count": 6,
     "metadata": {},
     "output_type": "execute_result"
    }
   ],
   "source": [
    "from seaborn import load_dataset\n",
    "tipos = load_dataset(\"tips\")\n",
    "tipos.head()"
   ]
  },
  {
   "cell_type": "code",
   "execution_count": 7,
   "metadata": {},
   "outputs": [
    {
     "name": "stderr",
     "output_type": "stream",
     "text": [
      "D:\\Users\\Tulio\\anaconda3\\lib\\site-packages\\seaborn\\_decorators.py:36: FutureWarning: Pass the following variables as keyword args: x, y. From version 0.12, the only valid positional argument will be `data`, and passing other arguments without an explicit keyword will result in an error or misinterpretation.\n",
      "  warnings.warn(\n"
     ]
    },
    {
     "data": {
      "text/plain": [
       "<seaborn.axisgrid.FacetGrid at 0x20ef36b3fd0>"
      ]
     },
     "execution_count": 7,
     "metadata": {},
     "output_type": "execute_result"
    },
    {
     "data": {
      "image/png": "[encoded data removed]",
      "text/plain": [
       "<Figure size 360x360 with 1 Axes>"
      ]
     },
     "metadata": {
      "needs_background": "light"
     },
     "output_type": "display_data"
    }
   ],
   "source": [
    "from seaborn import lmplot\n",
    "lmplot('total_bill','tip',data=tipos, fit_reg=False)"
   ]
  },
  {
   "cell_type": "code",
   "execution_count": 9,
   "metadata": {},
   "outputs": [
    {
     "name": "stderr",
     "output_type": "stream",
     "text": [
      "D:\\Users\\Tulio\\anaconda3\\lib\\site-packages\\seaborn\\distributions.py:2551: FutureWarning: `distplot` is a deprecated function and will be removed in a future version. Please adapt your code to use either `displot` (a figure-level function with similar flexibility) or `histplot` (an axes-level function for histograms).\n",
      "  warnings.warn(msg, FutureWarning)\n"
     ]
    },
    {
     "data": {
      "text/plain": [
       "<AxesSubplot:xlabel='total_bill', ylabel='Density'>"
      ]
     },
     "execution_count": 9,
     "metadata": {},
     "output_type": "execute_result"
    },
    {
     "data": {
      "image/png": "[encoded data removed]",
      "text/plain": [
       "<Figure size 432x288 with 1 Axes>"
      ]
     },
     "metadata": {
      "needs_background": "light"
     },
     "output_type": "display_data"
    }
   ],
   "source": [
    "from seaborn import distplot\n",
    "distplot(tipos.total_bill)"
   ]
  },
  {
   "cell_type": "code",
   "execution_count": 11,
   "metadata": {},
   "outputs": [
    {
     "name": "stderr",
     "output_type": "stream",
     "text": [
      "D:\\Users\\Tulio\\anaconda3\\lib\\site-packages\\seaborn\\distributions.py:2551: FutureWarning: `distplot` is a deprecated function and will be removed in a future version. Please adapt your code to use either `displot` (a figure-level function with similar flexibility) or `histplot` (an axes-level function for histograms).\n",
      "  warnings.warn(msg, FutureWarning)\n"
     ]
    },
    {
     "data": {
      "text/plain": [
       "<AxesSubplot:ylabel='Density'>"
      ]
     },
     "execution_count": 11,
     "metadata": {},
     "output_type": "execute_result"
    },
    {
     "data": {
      "image/png": "[encoded data removed]",
      "text/plain": [
       "<Figure size 432x288 with 1 Axes>"
      ]
     },
     "metadata": {
      "needs_background": "light"
     },
     "output_type": "display_data"
    }
   ],
   "source": [
    "from seaborn import distplot\n",
    "distplot(A)"
   ]
  },
  {
   "cell_type": "code",
   "execution_count": 12,
   "metadata": {},
   "outputs": [
    {
     "name": "stderr",
     "output_type": "stream",
     "text": [
      "D:\\Users\\Tulio\\anaconda3\\lib\\site-packages\\seaborn\\distributions.py:2551: FutureWarning: `distplot` is a deprecated function and will be removed in a future version. Please adapt your code to use either `displot` (a figure-level function with similar flexibility) or `histplot` (an axes-level function for histograms).\n",
      "  warnings.warn(msg, FutureWarning)\n"
     ]
    },
    {
     "data": {
      "text/plain": [
       "<AxesSubplot:>"
      ]
     },
     "execution_count": 12,
     "metadata": {},
     "output_type": "execute_result"
    },
    {
     "data": {
      "image/png": "[encoded data removed]",
      "text/plain": [
       "<Figure size 432x288 with 1 Axes>"
      ]
     },
     "metadata": {
      "needs_background": "light"
     },
     "output_type": "display_data"
    }
   ],
   "source": [
    "distplot(A, kde=False)"
   ]
  },
  {
   "cell_type": "code",
   "execution_count": 13,
   "metadata": {},
   "outputs": [
    {
     "name": "stderr",
     "output_type": "stream",
     "text": [
      "D:\\Users\\Tulio\\anaconda3\\lib\\site-packages\\seaborn\\distributions.py:2551: FutureWarning: `distplot` is a deprecated function and will be removed in a future version. Please adapt your code to use either `displot` (a figure-level function with similar flexibility) or `kdeplot` (an axes-level function for kernel density plots).\n",
      "  warnings.warn(msg, FutureWarning)\n",
      "D:\\Users\\Tulio\\anaconda3\\lib\\site-packages\\seaborn\\distributions.py:2055: FutureWarning: The `axis` variable is no longer used and will be removed. Instead, assign variables directly to `x` or `y`.\n",
      "  warnings.warn(msg, FutureWarning)\n"
     ]
    },
    {
     "data": {
      "text/plain": [
       "<AxesSubplot:ylabel='Density'>"
      ]
     },
     "execution_count": 13,
     "metadata": {},
     "output_type": "execute_result"
    },
    {
     "data": {
      "image/png": "[encoded data removed]",
      "text/plain": [
       "<Figure size 432x288 with 1 Axes>"
      ]
     },
     "metadata": {
      "needs_background": "light"
     },
     "output_type": "display_data"
    }
   ],
   "source": [
    "distplot(A, rug=True, hist=False)"
   ]
  },
  {
   "cell_type": "code",
   "execution_count": 14,
   "metadata": {},
   "outputs": [
    {
     "name": "stderr",
     "output_type": "stream",
     "text": [
      "D:\\Users\\Tulio\\anaconda3\\lib\\site-packages\\seaborn\\distributions.py:2551: FutureWarning: `distplot` is a deprecated function and will be removed in a future version. Please adapt your code to use either `displot` (a figure-level function with similar flexibility) or `histplot` (an axes-level function for histograms).\n",
      "  warnings.warn(msg, FutureWarning)\n",
      "D:\\Users\\Tulio\\anaconda3\\lib\\site-packages\\seaborn\\distributions.py:1649: FutureWarning: The `vertical` parameter is deprecated and will be removed in a future version. Assign the data to the `y` variable instead.\n",
      "  warnings.warn(msg, FutureWarning)\n"
     ]
    },
    {
     "data": {
      "text/plain": [
       "<AxesSubplot:xlabel='Density'>"
      ]
     },
     "execution_count": 14,
     "metadata": {},
     "output_type": "execute_result"
    },
    {
     "data": {
      "image/png": "[encoded data removed]",
      "text/plain": [
       "<Figure size 432x288 with 1 Axes>"
      ]
     },
     "metadata": {
      "needs_background": "light"
     },
     "output_type": "display_data"
    }
   ],
   "source": [
    "distplot(A, vertical=True)"
   ]
  },
  {
   "cell_type": "code",
   "execution_count": 17,
   "metadata": {},
   "outputs": [
    {
     "name": "stderr",
     "output_type": "stream",
     "text": [
      "D:\\Users\\Tulio\\anaconda3\\lib\\site-packages\\seaborn\\distributions.py:2551: FutureWarning: `distplot` is a deprecated function and will be removed in a future version. Please adapt your code to use either `displot` (a figure-level function with similar flexibility) or `kdeplot` (an axes-level function for kernel density plots).\n",
      "  warnings.warn(msg, FutureWarning)\n"
     ]
    },
    {
     "data": {
      "text/plain": [
       "<AxesSubplot:xlabel='total_bill', ylabel='Density'>"
      ]
     },
     "execution_count": 17,
     "metadata": {},
     "output_type": "execute_result"
    },
    {
     "data": {
      "image/png": "[encoded data removed]",
      "text/plain": [
       "<Figure size 432x288 with 1 Axes>"
      ]
     },
     "metadata": {
      "needs_background": "light"
     },
     "output_type": "display_data"
    }
   ],
   "source": [
    "distplot(tipos.total_bill, hist=False)"
   ]
  },
  {
   "cell_type": "code",
   "execution_count": 18,
   "metadata": {},
   "outputs": [
    {
     "name": "stderr",
     "output_type": "stream",
     "text": [
      "D:\\Users\\Tulio\\anaconda3\\lib\\site-packages\\seaborn\\distributions.py:2551: FutureWarning: `distplot` is a deprecated function and will be removed in a future version. Please adapt your code to use either `displot` (a figure-level function with similar flexibility) or `kdeplot` (an axes-level function for kernel density plots).\n",
      "  warnings.warn(msg, FutureWarning)\n"
     ]
    },
    {
     "data": {
      "text/plain": [
       "<AxesSubplot:ylabel='Density'>"
      ]
     },
     "execution_count": 18,
     "metadata": {},
     "output_type": "execute_result"
    },
    {
     "data": {
      "image/png": "[encoded data removed]",
      "text/plain": [
       "<Figure size 432x288 with 1 Axes>"
      ]
     },
     "metadata": {
      "needs_background": "light"
     },
     "output_type": "display_data"
    }
   ],
   "source": [
    "distplot(A, hist=False)"
   ]
  },
  {
   "cell_type": "code",
   "execution_count": 19,
   "metadata": {},
   "outputs": [
    {
     "name": "stderr",
     "output_type": "stream",
     "text": [
      "D:\\Users\\Tulio\\anaconda3\\lib\\site-packages\\seaborn\\distributions.py:2551: FutureWarning: `distplot` is a deprecated function and will be removed in a future version. Please adapt your code to use either `displot` (a figure-level function with similar flexibility) or `histplot` (an axes-level function for histograms).\n",
      "  warnings.warn(msg, FutureWarning)\n"
     ]
    },
    {
     "data": {
      "image/png": "[encoded data removed]",
      "text/plain": [
       "<Figure size 432x288 with 1 Axes>"
      ]
     },
     "metadata": {},
     "output_type": "display_data"
    }
   ],
   "source": [
    "import seaborn as sns, numpy as np\n",
    "\n",
    "sns.set_theme(); np.random.seed(0)\n",
    "\n",
    "x = np.random.randn(100)\n",
    "\n",
    "ax = sns.distplot(x)"
   ]
  },
  {
   "cell_type": "code",
   "execution_count": 23,
   "metadata": {},
   "outputs": [
    {
     "name": "stderr",
     "output_type": "stream",
     "text": [
      "D:\\Users\\Tulio\\anaconda3\\lib\\site-packages\\seaborn\\distributions.py:2551: FutureWarning: `distplot` is a deprecated function and will be removed in a future version. Please adapt your code to use either `displot` (a figure-level function with similar flexibility) or `histplot` (an axes-level function for histograms).\n",
      "  warnings.warn(msg, FutureWarning)\n"
     ]
    },
    {
     "data": {
      "text/plain": [
       "<AxesSubplot:ylabel='Density'>"
      ]
     },
     "execution_count": 23,
     "metadata": {},
     "output_type": "execute_result"
    },
    {
     "data": {
      "image/png": "[encoded data removed]",
      "text/plain": [
       "<Figure size 432x288 with 1 Axes>"
      ]
     },
     "metadata": {},
     "output_type": "display_data"
    }
   ],
   "source": [
    "sns.set_theme()\n",
    "distplot(A[:1168])"
   ]
  },
  {
   "cell_type": "code",
   "execution_count": 22,
   "metadata": {},
   "outputs": [
    {
     "name": "stderr",
     "output_type": "stream",
     "text": [
      "D:\\Users\\Tulio\\anaconda3\\lib\\site-packages\\seaborn\\distributions.py:2551: FutureWarning: `distplot` is a deprecated function and will be removed in a future version. Please adapt your code to use either `displot` (a figure-level function with similar flexibility) or `histplot` (an axes-level function for histograms).\n",
      "  warnings.warn(msg, FutureWarning)\n"
     ]
    },
    {
     "data": {
      "text/plain": [
       "<AxesSubplot:ylabel='Density'>"
      ]
     },
     "execution_count": 22,
     "metadata": {},
     "output_type": "execute_result"
    },
    {
     "data": {
      "image/png": "[encoded data removed]",
      "text/plain": [
       "<Figure size 432x288 with 1 Axes>"
      ]
     },
     "metadata": {},
     "output_type": "display_data"
    }
   ],
   "source": [
    "sns.set_theme()\n",
    "distplot(A)"
   ]
  },
  {
   "cell_type": "code",
   "execution_count": 24,
   "metadata": {},
   "outputs": [
    {
     "name": "stderr",
     "output_type": "stream",
     "text": [
      "D:\\Users\\Tulio\\anaconda3\\lib\\site-packages\\seaborn\\distributions.py:2551: FutureWarning: `distplot` is a deprecated function and will be removed in a future version. Please adapt your code to use either `displot` (a figure-level function with similar flexibility) or `histplot` (an axes-level function for histograms).\n",
      "  warnings.warn(msg, FutureWarning)\n"
     ]
    },
    {
     "data": {
      "text/plain": [
       "<AxesSubplot:ylabel='Density'>"
      ]
     },
     "execution_count": 24,
     "metadata": {},
     "output_type": "execute_result"
    },
    {
     "data": {
      "image/png": "[encoded data removed]",
      "text/plain": [
       "<Figure size 432x288 with 1 Axes>"
      ]
     },
     "metadata": {},
     "output_type": "display_data"
    }
   ],
   "source": [
    "sns.set_theme()\n",
    "distplot(A[1168:])"
   ]
  },
  {
   "cell_type": "code",
   "execution_count": 32,
   "metadata": {},
   "outputs": [
    {
     "data": {
      "text/plain": [
       "array([[2.085e+05, 7.000e+00, 8.560e+02, 8.000e+00, 2.003e+03, 6.500e+01],\n",
       "       [1.815e+05, 6.000e+00, 1.262e+03, 6.000e+00, 1.976e+03, 8.000e+01],\n",
       "       [2.235e+05, 7.000e+00, 9.200e+02, 6.000e+00, 2.001e+03, 6.800e+01]])"
      ]
     },
     "execution_count": 32,
     "metadata": {},
     "output_type": "execute_result"
    }
   ],
   "source": [
    "C"
   ]
  },
  {
   "cell_type": "code",
   "execution_count": 38,
   "metadata": {},
   "outputs": [
    {
     "data": {
      "text/plain": [
       "[array([[208500.],\n",
       "        [181500.],\n",
       "        [223500.]]),\n",
       " array([[7.],\n",
       "        [6.],\n",
       "        [7.]]),\n",
       " array([[ 856.],\n",
       "        [1262.],\n",
       "        [ 920.]]),\n",
       " array([[8.],\n",
       "        [6.],\n",
       "        [6.]]),\n",
       " array([[2003.],\n",
       "        [1976.],\n",
       "        [2001.]]),\n",
       " array([[65.],\n",
       "        [80.],\n",
       "        [68.]])]"
      ]
     },
     "execution_count": 38,
     "metadata": {},
     "output_type": "execute_result"
    }
   ],
   "source": [
    "np.hsplit(C,6)"
   ]
  },
  {
   "cell_type": "code",
   "execution_count": 39,
   "metadata": {},
   "outputs": [],
   "source": [
    "D,E,F,G,H,I = np.hsplit(C,6)"
   ]
  },
  {
   "cell_type": "code",
   "execution_count": 44,
   "metadata": {},
   "outputs": [
    {
     "data": {
      "text/plain": [
       "dtype('float64')"
      ]
     },
     "execution_count": 44,
     "metadata": {},
     "output_type": "execute_result"
    }
   ],
   "source": [
    "D.dtype"
   ]
  },
  {
   "cell_type": "code",
   "execution_count": 52,
   "metadata": {},
   "outputs": [
    {
     "data": {
      "text/plain": [
       "array([[1.        , 0.99999627, 0.99999979],\n",
       "       [0.99999627, 1.        , 0.99999577],\n",
       "       [0.99999979, 0.99999577, 1.        ]])"
      ]
     },
     "execution_count": 52,
     "metadata": {},
     "output_type": "execute_result"
    }
   ],
   "source": [
    "coeDE = np.corrcoef(C)\n",
    "coeDE"
   ]
  },
  {
   "cell_type": "code",
   "execution_count": 55,
   "metadata": {},
   "outputs": [
    {
     "data": {
      "image/png": "[encoded data removed]",
      "text/plain": [
       "<Figure size 864x216 with 3 Axes>"
      ]
     },
     "metadata": {},
     "output_type": "display_data"
    }
   ],
   "source": [
    "import numpy as np\n",
    "import matplotlib.pyplot as plt\n",
    "rho = np.corrcoef(x)\n",
    "\n",
    "fig, ax = plt.subplots(nrows=1, ncols=3, figsize=(12, 3))\n",
    "for i in [0,1,2]:\n",
    "    ax[i].scatter(x[0,],x[1+i,])\n",
    "    ax[i].title.set_text('Correlation = ' + \"{:.2f}\".format(rho[0,i+1]))\n",
    "    ax[i].set(xlabel=\"x\",ylabel=\"y\")\n",
    "fig.subplots_adjust(wspace=.4)    \n",
    "plt.show()"
   ]
  },
  {
   "cell_type": "code",
   "execution_count": 49,
   "metadata": {},
   "outputs": [
    {
     "data": {
      "text/plain": [
       "array([[2.085e+05, 7.000e+00, 8.560e+02, 8.000e+00, 2.003e+03, 6.500e+01],\n",
       "       [1.815e+05, 6.000e+00, 1.262e+03, 6.000e+00, 1.976e+03, 8.000e+01],\n",
       "       [2.235e+05, 7.000e+00, 9.200e+02, 6.000e+00, 2.001e+03, 6.800e+01]])"
      ]
     },
     "execution_count": 49,
     "metadata": {},
     "output_type": "execute_result"
    }
   ],
   "source": [
    "C"
   ]
  },
  {
   "cell_type": "code",
   "execution_count": 56,
   "metadata": {},
   "outputs": [
    {
     "data": {
      "text/plain": [
       "array([[ 7.77702411e-01,  2.37541220e-01,  8.24278533e-01,\n",
       "         9.65749198e-01,  9.72601114e-01,  4.53449247e-01,\n",
       "         6.09042463e-01,  7.75526515e-01,  6.41613345e-01,\n",
       "         7.22018230e-01,  3.50365241e-02,  2.98449471e-01,\n",
       "         5.85124919e-02,  8.57060943e-01,  3.72854028e-01,\n",
       "         6.79847952e-01,  2.56279949e-01,  3.47581215e-01,\n",
       "         9.41277008e-03,  3.58333783e-01,  9.49094182e-01,\n",
       "         2.17899009e-01,  3.19391366e-01,  9.17772386e-01,\n",
       "         3.19036664e-02,  6.50845370e-02,  6.29828999e-01,\n",
       "         8.73813443e-01,  8.71573230e-03,  7.46577237e-01,\n",
       "         8.12841171e-01,  7.57174462e-02,  6.56455335e-01,\n",
       "         5.09262200e-01,  4.79883391e-01,  9.55574145e-01,\n",
       "         1.20335695e-05,  2.46978701e-01,  7.12232678e-01,\n",
       "         3.24582050e-01,  2.76996356e-01,  6.95445453e-01,\n",
       "         9.18551748e-01,  2.44475702e-01,  4.58085817e-01,\n",
       "         2.52992683e-01,  3.79333291e-01,  6.04538829e-01,\n",
       "         7.72378760e-01,  6.79174968e-02,  6.86085079e-01,\n",
       "         5.48260097e-01,  1.37986053e-01,  9.87532192e-02,\n",
       "         2.45559105e-01,  1.51786663e-01,  9.25994479e-01,\n",
       "         6.80105016e-01,  2.37658922e-01,  5.68885253e-01,\n",
       "         5.56632051e-01,  7.27372109e-02,  8.39708510e-01,\n",
       "         4.05319493e-01,  1.44870989e-01,  1.90920059e-01,\n",
       "         4.90640137e-01,  7.12024374e-01,  9.84938458e-01,\n",
       "         8.74786502e-01,  4.99041684e-01,  1.06779994e-01,\n",
       "         9.13212807e-01,  3.64915961e-01,  2.26587877e-01,\n",
       "         8.72431862e-01,  1.36358352e-01,  2.36380160e-01,\n",
       "         5.95399245e-01,  5.63922609e-01,  9.58934732e-01,\n",
       "         4.53239333e-01,  1.28958075e-01,  7.60567677e-01,\n",
       "         2.01634075e-01,  1.75729863e-01,  4.37118013e-01,\n",
       "         3.40260803e-01,  9.67253109e-01,  1.43026077e-01,\n",
       "         8.44558533e-01,  6.69406140e-01,  1.09304908e-01,\n",
       "         8.82535400e-02,  9.66462041e-01,  1.94297485e-01,\n",
       "         8.19000600e-02,  2.69384695e-01,  6.50130518e-01,\n",
       "         5.46777245e-01],\n",
       "       [ 2.55540482e+00,  1.47508244e+00,  2.64855707e+00,\n",
       "         2.93149840e+00,  2.94520223e+00,  1.90689849e+00,\n",
       "         2.21808493e+00,  2.55105303e+00,  2.28322669e+00,\n",
       "         2.44403646e+00,  1.07007305e+00,  1.59689894e+00,\n",
       "         1.11702498e+00,  2.71412189e+00,  1.74570806e+00,\n",
       "         2.35969590e+00,  1.51255990e+00,  1.69516243e+00,\n",
       "         1.01882554e+00,  1.71666757e+00,  2.89818836e+00,\n",
       "         1.43579802e+00,  1.63878273e+00,  2.83554477e+00,\n",
       "         1.06380733e+00,  1.13016907e+00,  2.25965800e+00,\n",
       "         2.74762689e+00,  1.01743146e+00,  2.49315447e+00,\n",
       "         2.62568234e+00,  1.15143489e+00,  2.31291067e+00,\n",
       "         2.01852440e+00,  1.95976678e+00,  2.91114829e+00,\n",
       "         1.00002407e+00,  1.49395740e+00,  2.42446536e+00,\n",
       "         1.64916410e+00,  1.55399271e+00,  2.39089091e+00,\n",
       "         2.83710350e+00,  1.48895140e+00,  1.91617163e+00,\n",
       "         1.50598537e+00,  1.75866658e+00,  2.20907766e+00,\n",
       "         2.54475752e+00,  1.13583499e+00,  2.37217016e+00,\n",
       "         2.09652019e+00,  1.27597211e+00,  1.19750644e+00,\n",
       "         1.49111821e+00,  1.30357333e+00,  2.85198896e+00,\n",
       "         2.36021003e+00,  1.47531784e+00,  2.13777051e+00,\n",
       "         2.11326410e+00,  1.14547442e+00,  2.67941702e+00,\n",
       "         1.81063899e+00,  1.28974198e+00,  1.38184012e+00,\n",
       "         1.98128027e+00,  2.42404875e+00,  2.96987692e+00,\n",
       "         2.74957300e+00,  1.99808337e+00,  1.21355999e+00,\n",
       "         2.82642561e+00,  1.72983192e+00,  1.45317575e+00,\n",
       "         2.74486372e+00,  1.27271670e+00,  1.47276032e+00,\n",
       "         2.19079849e+00,  2.12784522e+00,  2.91786946e+00,\n",
       "         1.90647867e+00,  1.25791615e+00,  2.52113535e+00,\n",
       "         1.40326815e+00,  1.35145973e+00,  1.87423603e+00,\n",
       "         1.68052161e+00,  2.93450622e+00,  1.28605215e+00,\n",
       "         2.68911707e+00,  2.33881228e+00,  1.21860982e+00,\n",
       "         1.17650708e+00,  2.93292408e+00,  1.38859497e+00,\n",
       "         1.16380012e+00,  1.53876939e+00,  2.30026104e+00,\n",
       "         2.09355449e+00],\n",
       "       [-5.55404821e-01,  5.24917560e-01, -6.48557065e-01,\n",
       "        -9.31498396e-01, -9.45202228e-01,  9.31015052e-02,\n",
       "        -2.18084926e-01, -5.51053029e-01, -2.83226690e-01,\n",
       "        -4.44036459e-01,  9.29926952e-01,  4.03101058e-01,\n",
       "         8.82975016e-01, -7.14121885e-01,  2.54291944e-01,\n",
       "        -3.59695903e-01,  4.87440101e-01,  3.04837570e-01,\n",
       "         9.81174460e-01,  2.83332435e-01, -8.98188363e-01,\n",
       "         5.64201982e-01,  3.61217267e-01, -8.35544772e-01,\n",
       "         9.36192667e-01,  8.69830926e-01, -2.59657998e-01,\n",
       "        -7.47626887e-01,  9.82568535e-01, -4.93154474e-01,\n",
       "        -6.25682342e-01,  8.48565108e-01, -3.12910669e-01,\n",
       "        -1.85244002e-02,  4.02332170e-02, -9.11148290e-01,\n",
       "         9.99975933e-01,  5.06042598e-01, -4.24465356e-01,\n",
       "         3.50835900e-01,  4.46007287e-01, -3.90890905e-01,\n",
       "        -8.37103496e-01,  5.11048596e-01,  8.38283654e-02,\n",
       "         4.94014634e-01,  2.41333417e-01, -2.09077657e-01,\n",
       "        -5.44757519e-01,  8.64165006e-01, -3.72170158e-01,\n",
       "        -9.65201948e-02,  7.24027894e-01,  8.02493562e-01,\n",
       "         5.08881789e-01,  6.96426675e-01, -8.51988959e-01,\n",
       "        -3.60210031e-01,  5.24682156e-01, -1.37770505e-01,\n",
       "        -1.13264103e-01,  8.54525578e-01, -6.79417021e-01,\n",
       "         1.89361015e-01,  7.10258022e-01,  6.18159883e-01,\n",
       "         1.87197259e-02, -4.24048748e-01, -9.69876915e-01,\n",
       "        -7.49573003e-01,  1.91663220e-03,  7.86440012e-01,\n",
       "        -8.26425614e-01,  2.70168078e-01,  5.46824246e-01,\n",
       "        -7.44863725e-01,  7.27283296e-01,  5.27239680e-01,\n",
       "        -1.90798491e-01, -1.27845218e-01, -9.17869464e-01,\n",
       "         9.35213336e-02,  7.42083851e-01, -5.21135354e-01,\n",
       "         5.96731850e-01,  6.48540274e-01,  1.25763975e-01,\n",
       "         3.19478394e-01, -9.34506217e-01,  7.13947846e-01,\n",
       "        -6.89117066e-01, -3.38812280e-01,  7.81390184e-01,\n",
       "         8.23492920e-01, -9.32924083e-01,  6.11405030e-01,\n",
       "         8.36199880e-01,  4.61230609e-01, -3.00261036e-01,\n",
       "        -9.35544907e-02],\n",
       "       [-1.78500568e+00, -1.32398010e+00, -3.11436967e-01,\n",
       "         2.64375493e+00, -1.56242886e+00,  2.39697392e+00,\n",
       "        -1.16299902e+00,  2.68678512e+00,  5.54257716e-02,\n",
       "        -2.89691246e-01,  3.44498633e+00, -2.55625643e+00,\n",
       "        -1.30588106e+00,  3.18749641e+00,  3.29773315e+00,\n",
       "         1.62340016e+00, -5.56134582e+00,  3.16589517e+00,\n",
       "         2.04625178e+00, -1.58547623e-02, -4.83617204e+00,\n",
       "         3.49271697e+00,  6.24772537e+00,  2.50341188e+00,\n",
       "         4.99095077e+00, -9.72551803e-01,  1.55483785e+00,\n",
       "        -9.53169437e-01, -2.36152061e+00, -3.98203626e-02,\n",
       "        -1.73403434e+00, -1.23840576e+00, -1.31290559e+00,\n",
       "        -2.41861141e-01,  1.24565837e-01,  1.38031823e+00,\n",
       "        -2.74200847e+00,  1.95151288e+00, -4.45526426e+00,\n",
       "         1.16707658e+00,  1.24259857e+00, -5.95954266e+00,\n",
       "        -2.33635140e-02,  4.26953833e+00,  2.35159354e+00,\n",
       "        -4.82895942e-01, -6.39730225e-01,  1.87607947e+00,\n",
       "         1.46261378e+00,  3.45191656e+00,  1.43126734e+00,\n",
       "         3.71551460e+00,  2.20202100e+00, -1.29378170e+00,\n",
       "        -2.05100608e+00, -5.80967760e-01,  2.22597594e+00,\n",
       "        -1.60339944e+00,  3.67538250e+00, -3.61719236e+00,\n",
       "         2.07257766e-01, -1.79707779e+00,  1.93863616e+00,\n",
       "         1.41037097e+00,  5.44899426e-01, -2.71051310e+00,\n",
       "        -1.64747117e+00, -9.81897496e-01,  3.97884738e+00,\n",
       "        -9.31391171e-01,  2.50350306e+00,  3.75995539e+00,\n",
       "        -1.53342924e+00, -5.49328549e-01, -5.62060129e+00,\n",
       "        -2.09386991e-01,  3.13997626e+00, -1.83990938e+00,\n",
       "         2.05408459e+00,  3.36571144e+00,  2.08009536e+00,\n",
       "        -3.14604312e-01,  1.68500561e+00, -1.02612517e+00,\n",
       "        -2.57780966e-01,  8.16023740e+00, -5.25029698e-01,\n",
       "        -1.05870931e+00,  1.46471079e+00,  1.83350847e+00,\n",
       "         3.26411503e+00, -1.27965434e+00, -2.16397153e+00,\n",
       "        -1.93309702e+00,  3.24211479e+00,  4.22704460e+00,\n",
       "        -1.27243132e+00, -5.32478703e-01,  9.23062762e-01,\n",
       "        -1.87711940e+00]])"
      ]
     },
     "execution_count": 56,
     "metadata": {},
     "output_type": "execute_result"
    }
   ],
   "source": [
    "seed = 13\n",
    "rand = np.random.RandomState(seed)\n",
    "\n",
    "x = rand.uniform(0,1,100)\n",
    "x = np.vstack((x,x*2+1))\n",
    "x = np.vstack((x,-x[0,]*2+1))\n",
    "x = np.vstack((x,rand.normal(1,3,100)))\n",
    "x"
   ]
  },
  {
   "cell_type": "code",
   "execution_count": 54,
   "metadata": {},
   "outputs": [
    {
     "name": "stdout",
     "output_type": "stream",
     "text": [
      "[[ 1.  -0.7]\n",
      " [-0.7  1. ]]\n"
     ]
    }
   ],
   "source": [
    "x_simple = np.array([-2, -1, 0, 1, 2])\n",
    "y_simple = np.array([4, 1, 3, 2, 0])\n",
    "my_rho = np.corrcoef(x_simple, y_simple)\n",
    "\n",
    "print(my_rho)"
   ]
  },
  {
   "cell_type": "code",
   "execution_count": 58,
   "metadata": {},
   "outputs": [
    {
     "data": {
      "image/png": "[encoded data removed]",
      "text/plain": [
       "<Figure size 864x216 with 3 Axes>"
      ]
     },
     "metadata": {},
     "output_type": "display_data"
    }
   ],
   "source": [
    "rho1 = np.corrcoef(A)\n",
    "\n",
    "fig1, ax1 = plt.subplots(nrows=1, ncols=3, figsize=(12, 3))\n",
    "for i in [0,1,2]:\n",
    "    ax1[i].scatter(A[0,],A[1+i,])\n",
    "    ax1[i].title.set_text('Correlation = ' + \"{:.2f}\".format(rho1[0,i+1]))\n",
    "    ax1[i].set(xlabel=\"x\",ylabel=\"y\")\n",
    "fig1.subplots_adjust(wspace=.4)    \n",
    "plt.show()"
   ]
  },
  {
   "cell_type": "code",
   "execution_count": null,
   "metadata": {},
   "outputs": [],
   "source": []
  }
 ],
 "metadata": {
  "kernelspec": {
   "display_name": "Python 3",
   "language": "python",
   "name": "python3"
  },
  "language_info": {
   "codemirror_mode": {
    "name": "ipython",
    "version": 3
   },
   "file_extension": ".py",
   "mimetype": "text/x-python",
   "name": "python",
   "nbconvert_exporter": "python",
   "pygments_lexer": "ipython3",
   "version": "3.8.5"
  }
 },
 "nbformat": 4,
 "nbformat_minor": 4
}
