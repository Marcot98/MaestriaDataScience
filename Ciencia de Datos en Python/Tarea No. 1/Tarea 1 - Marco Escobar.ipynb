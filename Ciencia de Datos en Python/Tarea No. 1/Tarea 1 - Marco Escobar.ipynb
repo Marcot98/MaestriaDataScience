{
 "cells": [
  {
   "cell_type": "markdown",
   "metadata": {},
   "source": [
    ">># **Ciencia de Datos en Python**\n",
    "### Hoja de Trabajo #1 - Jupyter Notebooks, MarkDown y Git\n",
    "###### *Marco Tulio Escobar Muñoz*"
   ]
  },
  {
   "cell_type": "markdown",
   "metadata": {},
   "source": [
    "GIT es un sistema de control de versiones de código abierto, que permite rastrear los cambios realizados en los archios.\n",
    "Un proyecto GIT consta de tres secciones principales:\n",
    "1. Directorio de trabajo.\n",
    "2. el área de preparación.\n",
    "3. Directorio Git.\n",
    "\n",
    "En el Directorio GIT es donde se agregan, borran y editan los archivos. Luego los cambios son preparados en el área de preparación. GIT puede tener una fuerte curva de aprendizaje, ya que se basa en línea de comandos para trabajar."
   ]
  },
  {
   "cell_type": "markdown",
   "metadata": {},
   "source": [
    "## *Ramas o Branch en GIT*\n",
    "\n",
    "El Master se la considera la rama principal y la raíz de la mayoría de las demás ramas. origin es simplemente el nombre predeterminado que recibe el repositorio remoto principal contra el que trabajamos.HEAD suele coincidir con el último commit de la rama en la que estés, ya que habitualmente estás trabajando en lo último"
   ]
  },
  {
   "cell_type": "markdown",
   "metadata": {},
   "source": [
    "![alt text](ramasGit.png \"Branch\")"
   ]
  },
  {
   "cell_type": "markdown",
   "metadata": {},
   "source": [
    "## _Comandos Básicos_"
   ]
  },
  {
   "cell_type": "markdown",
   "metadata": {},
   "source": [
    "Para poder utilizar GIT, realice una busqueda de comandos básicos, ya que este sistema de versionamiento es nueva para mi. Listo brevemente los comandos que me ha funcionado.\n",
    "\n",
    "- git init: Crear un repositorio local.\n",
    "- git help: lista de comandos más utilizados.\n",
    "- git add + path: agrega al repostorio los archivos que indiquemos.\n",
    "- git branch: muestra una lista de los branches que existen en nuestro repositorio.\n",
    "- git commit: hace commit a los archivos.\n",
    "- git status: Indica el estado del repositorio.\n",
    "- git clone: clona un proyecto de git.\n",
    "- git push: subir los archivos al repositorio remoto.\n",
    "- git pull: hace una actualización en nuestro branch local."
   ]
  },
  {
   "cell_type": "markdown",
   "metadata": {},
   "source": [
    "## *Pruebas de Comandos en GIT desde Jupyter*\n",
    "\n",
    "Utilizando magic cells desde Jupyter podemos ejecutar los comandos de GIT y ver su funcionamiento. Se realizarón algunas pruebas mostradas en el video del MIT."
   ]
  },
  {
   "cell_type": "code",
   "execution_count": 11,
   "metadata": {},
   "outputs": [
    {
     "data": {
      "text/plain": [
       "[]"
      ]
     },
     "execution_count": 11,
     "metadata": {},
     "output_type": "execute_result"
    }
   ],
   "source": [
    "%system mkdir demo"
   ]
  },
  {
   "cell_type": "code",
   "execution_count": 13,
   "metadata": {},
   "outputs": [
    {
     "data": {
      "text/plain": [
       "[]"
      ]
     },
     "execution_count": 13,
     "metadata": {},
     "output_type": "execute_result"
    }
   ],
   "source": [
    "%system cd demo"
   ]
  },
  {
   "cell_type": "code",
   "execution_count": 17,
   "metadata": {},
   "outputs": [
    {
     "data": {
      "text/plain": [
       "['Reinitialized existing Git repository in C:/Users/Tulio/Desktop/JupyterLab/.git/']"
      ]
     },
     "execution_count": 17,
     "metadata": {},
     "output_type": "execute_result"
    }
   ],
   "source": [
    "%system git init"
   ]
  },
  {
   "cell_type": "code",
   "execution_count": 6,
   "metadata": {},
   "outputs": [
    {
     "data": {
      "text/plain": [
       "['usage: git [--version] [--help] [-C <path>] [-c <name>=<value>]',\n",
       " '           [--exec-path[=<path>]] [--html-path] [--man-path] [--info-path]',\n",
       " '           [-p | --paginate | -P | --no-pager] [--no-replace-objects] [--bare]',\n",
       " '           [--git-dir=<path>] [--work-tree=<path>] [--namespace=<name>]',\n",
       " '           <command> [<args>]',\n",
       " '',\n",
       " 'These are common Git commands used in various situations:',\n",
       " '',\n",
       " 'start a working area (see also: git help tutorial)',\n",
       " '   clone             Clone a repository into a new directory',\n",
       " '   init              Create an empty Git repository or reinitialize an existing one',\n",
       " '',\n",
       " 'work on the current change (see also: git help everyday)',\n",
       " '   add               Add file contents to the index',\n",
       " '   mv                Move or rename a file, a directory, or a symlink',\n",
       " '   restore           Restore working tree files',\n",
       " '   rm                Remove files from the working tree and from the index',\n",
       " '   sparse-checkout   Initialize and modify the sparse-checkout',\n",
       " '',\n",
       " 'examine the history and state (see also: git help revisions)',\n",
       " '   bisect            Use binary search to find the commit that introduced a bug',\n",
       " '   diff              Show changes between commits, commit and working tree, etc',\n",
       " '   grep              Print lines matching a pattern',\n",
       " '   log               Show commit logs',\n",
       " '   show              Show various types of objects',\n",
       " '   status            Show the working tree status',\n",
       " '',\n",
       " 'grow, mark and tweak your common history',\n",
       " '   branch            List, create, or delete branches',\n",
       " '   commit            Record changes to the repository',\n",
       " '   merge             Join two or more development histories together',\n",
       " '   rebase            Reapply commits on top of another base tip',\n",
       " '   reset             Reset current HEAD to the specified state',\n",
       " '   switch            Switch branches',\n",
       " '   tag               Create, list, delete or verify a tag object signed with GPG',\n",
       " '',\n",
       " 'collaborate (see also: git help workflows)',\n",
       " '   fetch             Download objects and refs from another repository',\n",
       " '   pull              Fetch from and integrate with another repository or a local branch',\n",
       " '   push              Update remote refs along with associated objects',\n",
       " '',\n",
       " \"'git help -a' and 'git help -g' list available subcommands and some\",\n",
       " \"concept guides. See 'git help <command>' or 'git help <concept>'\",\n",
       " 'to read about a specific subcommand or concept.',\n",
       " \"See 'git help git' for an overview of the system.\"]"
      ]
     },
     "execution_count": 6,
     "metadata": {},
     "output_type": "execute_result"
    }
   ],
   "source": [
    "%system git help"
   ]
  },
  {
   "cell_type": "code",
   "execution_count": 7,
   "metadata": {},
   "outputs": [
    {
     "data": {
      "text/plain": [
       "['On branch master',\n",
       " '',\n",
       " 'No commits yet',\n",
       " '',\n",
       " 'Untracked files:',\n",
       " '  (use \"git add <file>...\" to include in what will be committed)',\n",
       " '\\t.ipynb_checkpoints/',\n",
       " '\\tTarea 1 - Marco Escobar.ipynb',\n",
       " '\\tclase02.ipynb',\n",
       " '',\n",
       " 'nothing added to commit but untracked files present (use \"git add\" to track)']"
      ]
     },
     "execution_count": 7,
     "metadata": {},
     "output_type": "execute_result"
    }
   ],
   "source": [
    "%system git status"
   ]
  },
  {
   "cell_type": "code",
   "execution_count": 18,
   "metadata": {},
   "outputs": [
    {
     "data": {
      "text/plain": [
       "[]"
      ]
     },
     "execution_count": 18,
     "metadata": {},
     "output_type": "execute_result"
    }
   ],
   "source": [
    "%system echo \"hello world\" > hello.txt"
   ]
  },
  {
   "cell_type": "code",
   "execution_count": 19,
   "metadata": {},
   "outputs": [
    {
     "data": {
      "text/plain": [
       "['On branch master',\n",
       " '',\n",
       " 'No commits yet',\n",
       " '',\n",
       " 'Untracked files:',\n",
       " '  (use \"git add <file>...\" to include in what will be committed)',\n",
       " '\\t.ipynb_checkpoints/',\n",
       " '\\tTarea 1 - Marco Escobar.ipynb',\n",
       " '\\tclase02.ipynb',\n",
       " '\\thello.txt',\n",
       " '',\n",
       " 'nothing added to commit but untracked files present (use \"git add\" to track)']"
      ]
     },
     "execution_count": 19,
     "metadata": {},
     "output_type": "execute_result"
    }
   ],
   "source": [
    "%system git status"
   ]
  },
  {
   "cell_type": "code",
   "execution_count": 20,
   "metadata": {},
   "outputs": [
    {
     "data": {
      "text/plain": [
       "[]"
      ]
     },
     "execution_count": 20,
     "metadata": {},
     "output_type": "execute_result"
    }
   ],
   "source": [
    "%system git add hello.txt"
   ]
  },
  {
   "cell_type": "code",
   "execution_count": 21,
   "metadata": {},
   "outputs": [
    {
     "data": {
      "text/plain": [
       "['On branch master',\n",
       " '',\n",
       " 'No commits yet',\n",
       " '',\n",
       " 'Changes to be committed:',\n",
       " '  (use \"git rm --cached <file>...\" to unstage)',\n",
       " '\\tnew file:   hello.txt',\n",
       " '',\n",
       " 'Untracked files:',\n",
       " '  (use \"git add <file>...\" to include in what will be committed)',\n",
       " '\\t.ipynb_checkpoints/',\n",
       " '\\tTarea 1 - Marco Escobar.ipynb',\n",
       " '\\tclase02.ipynb',\n",
       " '']"
      ]
     },
     "execution_count": 21,
     "metadata": {},
     "output_type": "execute_result"
    }
   ],
   "source": [
    "%system git status"
   ]
  },
  {
   "cell_type": "code",
   "execution_count": null,
   "metadata": {},
   "outputs": [],
   "source": [
    "%system git commit"
   ]
  },
  {
   "cell_type": "code",
   "execution_count": null,
   "metadata": {},
   "outputs": [],
   "source": [
    "%system git log"
   ]
  },
  {
   "cell_type": "markdown",
   "metadata": {},
   "source": [
    "## _Diferencia entre SVN y GIT_"
   ]
  },
  {
   "cell_type": "markdown",
   "metadata": {},
   "source": [
    "En mi experiencia de laboral, he utilizado mas SVN por la simplicidad de uso y capacitación en el trabajo; empezando usar Git, queria saber las diferencias entre ambos repositorios de open source; al paso que fui avanzado en la busqueda  de diferencia y comprobando estas diferencias, listo las diferencias que comprobe entre ambos repositorios. \n",
    "\n",
    "| |*SVN*|*Git*|\n",
    "|:-----:|:----:|----:|\n",
    "|*_Control de versiones_*  |Centralizada |Distribuida |\n",
    "|*_Repositorio_*  |Un repositorio central donde se generan copias de trabajo |Copias locales del repositorio en las que se trabaja directamente|\n",
    "|*_Autorización de acceso_*|Dependiendo de la ruta de acceso|Para la totalidad del directorio|\n",
    "|*_Seguimiento de cambios_*|Basado en archivos|Basado en contenido| \n",
    "|*_Historial de cambios_*|Solo en el repositorio completo, las copias de trabajo incluyen únicamente la versión más reciente|Tanto el repositorio como las copias de trabajo individuales incluyen el historial completo|\n",
    "|*_Conectividad de red_*|Con cada acceso|Solo necesario para la sincronización|"
   ]
  },
  {
   "cell_type": "markdown",
   "metadata": {},
   "source": [
    "## *Comentarios*\n",
    "\n",
    "GIT como un sistema de versionamiento, puede variar conforme a la necesisdad de la persona o empresa ante otros sistemas de versionamiento, ya que GIT puede ser dificil su uso por la memorización de los comandos para su funcionamiento, si comparamos contra SVN este último su sistema de uso es más fácil de aprender pero ante la comparativa de control y disponibilidad GIT es un sistema mejor empleado."
   ]
  },
  {
   "cell_type": "markdown",
   "metadata": {},
   "source": [
    "## *_Referencias_*\n",
    "Este ensayo, esta basado sobre:\n",
    "1. Lección del MIT, que explica GIT.\n",
    "https://missing.csail.mit.edu/2020/version-control/"
   ]
  }
 ],
 "metadata": {
  "kernelspec": {
   "display_name": "Python 3",
   "language": "python",
   "name": "python3"
  },
  "language_info": {
   "codemirror_mode": {
    "name": "ipython",
    "version": 3
   },
   "file_extension": ".py",
   "mimetype": "text/x-python",
   "name": "python",
   "nbconvert_exporter": "python",
   "pygments_lexer": "ipython3",
   "version": "3.8.5"
  }
 },
 "nbformat": 4,
 "nbformat_minor": 4
}
