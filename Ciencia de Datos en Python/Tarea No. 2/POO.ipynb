{
 "cells": [
  {
   "cell_type": "code",
   "execution_count": 1,
   "metadata": {},
   "outputs": [],
   "source": [
    "class Empleado:\n",
    "    pass"
   ]
  },
  {
   "cell_type": "markdown",
   "metadata": {},
   "source": [
    "### 1. Campos - Atributos\n",
    "### 2. Constructores: funcion que (instancia, crea, almacena en memoria) un objeto\n",
    "### 3. Metodos: funciones para gestionar mis objetos.\n",
    "### 4. Destructores: saca de memoria a un objeto."
   ]
  },
  {
   "cell_type": "code",
   "execution_count": 2,
   "metadata": {},
   "outputs": [],
   "source": [
    "preng1 = Empleado() #constructores"
   ]
  },
  {
   "cell_type": "code",
   "execution_count": 3,
   "metadata": {},
   "outputs": [
    {
     "data": {
      "text/plain": [
       "<__main__.Empleado at 0x1ed2fff6fd0>"
      ]
     },
     "execution_count": 3,
     "metadata": {},
     "output_type": "execute_result"
    }
   ],
   "source": [
    "preng1"
   ]
  },
  {
   "cell_type": "code",
   "execution_count": 4,
   "metadata": {},
   "outputs": [],
   "source": [
    "preng1.nombre = \"Preng\"\n",
    "preng1.apellido = \"Biba\"\n",
    "preng1.correo = \"123@as.com\"\n",
    "preng1.oficina = 310"
   ]
  },
  {
   "cell_type": "code",
   "execution_count": 5,
   "metadata": {},
   "outputs": [
    {
     "data": {
      "text/plain": [
       "<__main__.Empleado at 0x1ed2fff6fd0>"
      ]
     },
     "execution_count": 5,
     "metadata": {},
     "output_type": "execute_result"
    }
   ],
   "source": [
    "preng1"
   ]
  },
  {
   "cell_type": "code",
   "execution_count": 6,
   "metadata": {},
   "outputs": [],
   "source": [
    "jose = Empleado()"
   ]
  },
  {
   "cell_type": "code",
   "execution_count": 7,
   "metadata": {},
   "outputs": [
    {
     "data": {
      "text/plain": [
       "<__main__.Empleado at 0x1ed3000e5e0>"
      ]
     },
     "execution_count": 7,
     "metadata": {},
     "output_type": "execute_result"
    }
   ],
   "source": [
    "jose"
   ]
  },
  {
   "cell_type": "code",
   "execution_count": 28,
   "metadata": {},
   "outputs": [],
   "source": [
    "class Empleado_v2():\n",
    "    def __init__(self, nmb, apl, of):\n",
    "        self.nombre = nmb\n",
    "        self.apellido = apl\n",
    "        self.correo = \"{}.{}@galileo.edu\".format(self.nombre.lower(), self.apellido.lower())\n",
    "        self.oficina = of\n",
    "    \n",
    "    def nombreCompleto(self):\n",
    "        return \"{} {}\".format(self.nombre, self.apellido)"
   ]
  },
  {
   "cell_type": "code",
   "execution_count": 29,
   "metadata": {},
   "outputs": [],
   "source": [
    "preng = Empleado_v2('Preng','Biba',310)"
   ]
  },
  {
   "cell_type": "code",
   "execution_count": 12,
   "metadata": {},
   "outputs": [
    {
     "data": {
      "text/plain": [
       "{'nombre': 'Preng',\n",
       " 'apellido': 'Biba',\n",
       " 'correo': 'preng.biba@galileo.edu',\n",
       " 'oficina': 310}"
      ]
     },
     "execution_count": 12,
     "metadata": {},
     "output_type": "execute_result"
    }
   ],
   "source": [
    "preng.__dict__"
   ]
  },
  {
   "cell_type": "code",
   "execution_count": 15,
   "metadata": {},
   "outputs": [
    {
     "data": {
      "text/plain": [
       "'Preng'"
      ]
     },
     "execution_count": 15,
     "metadata": {},
     "output_type": "execute_result"
    }
   ],
   "source": [
    "preng.nombre"
   ]
  },
  {
   "cell_type": "code",
   "execution_count": 13,
   "metadata": {},
   "outputs": [
    {
     "data": {
      "text/plain": [
       "'Biba'"
      ]
     },
     "execution_count": 13,
     "metadata": {},
     "output_type": "execute_result"
    }
   ],
   "source": [
    "preng.apellido"
   ]
  },
  {
   "cell_type": "code",
   "execution_count": 14,
   "metadata": {},
   "outputs": [
    {
     "data": {
      "text/plain": [
       "'preng.biba@galileo.edu'"
      ]
     },
     "execution_count": 14,
     "metadata": {},
     "output_type": "execute_result"
    }
   ],
   "source": [
    "preng.correo"
   ]
  },
  {
   "cell_type": "code",
   "execution_count": 16,
   "metadata": {},
   "outputs": [
    {
     "data": {
      "text/plain": [
       "310"
      ]
     },
     "execution_count": 16,
     "metadata": {},
     "output_type": "execute_result"
    }
   ],
   "source": [
    "preng.oficina"
   ]
  },
  {
   "cell_type": "code",
   "execution_count": 17,
   "metadata": {},
   "outputs": [],
   "source": [
    "jose = Empleado_v2('Jose','Ramires',310)"
   ]
  },
  {
   "cell_type": "code",
   "execution_count": 19,
   "metadata": {},
   "outputs": [
    {
     "data": {
      "text/plain": [
       "{'nombre': 'Jose',\n",
       " 'apellido': 'Ramires',\n",
       " 'correo': 'jose.ramires@galileo.edu',\n",
       " 'oficina': 310}"
      ]
     },
     "execution_count": 19,
     "metadata": {},
     "output_type": "execute_result"
    }
   ],
   "source": [
    "jose.__dict__"
   ]
  },
  {
   "cell_type": "code",
   "execution_count": 30,
   "metadata": {},
   "outputs": [
    {
     "data": {
      "text/plain": [
       "'Preng Biba'"
      ]
     },
     "execution_count": 30,
     "metadata": {},
     "output_type": "execute_result"
    }
   ],
   "source": [
    "preng.nombreCompleto()"
   ]
  },
  {
   "cell_type": "code",
   "execution_count": 57,
   "metadata": {},
   "outputs": [],
   "source": [
    "class Empleado_v3():\n",
    "    incremento = 1.04 # variable de clase.\n",
    "    def __init__(self, nmb, apl, of,slr):\n",
    "        self.nombre = nmb\n",
    "        self.apellido = apl\n",
    "        self.correo = \"{}.{}@galileo.edu\".format(self.nombre.lower(), self.apellido.lower())\n",
    "        self.oficina = of\n",
    "        self.salario = slr\n",
    "    \n",
    "    #constructor2\n",
    "    @classmethod\n",
    "    def from_str(cls, strEmpleado):\n",
    "        nmb, ap, of, slr = strEmpleado.split(\"-\")\n",
    "        return cls(nmb, ap, int(of), float(slr))\n",
    "    \n",
    "    def nombreCompleto(self):\n",
    "        return \"{} {}\".format(self.nombre, self.apellido)\n",
    "    \n",
    "    def incrementoSalario(self):\n",
    "        self.salario = int(self.salario *Empleado_v3.incremento)\n",
    "    \n",
    "    @classmethod\n",
    "    def cambiarIncremento(cls,monto):\n",
    "        if((monto > 0) and (monto < 1.10)):\n",
    "            cls.incremento = monto\n",
    "        else:\n",
    "            print(\"Error en incremento, valor no es valido\")\n",
    "    \n",
    "    #metodo static: no depende ni de la clase ni de la instanacia\n",
    "    @staticmethod\n",
    "    def jornada(horas):\n",
    "        if(horas >=7):\n",
    "            print(\"Jornada completa\")\n",
    "        else:\n",
    "            print(\"Media jornada\")\n",
    "        \n",
    "    "
   ]
  },
  {
   "cell_type": "code",
   "execution_count": 32,
   "metadata": {},
   "outputs": [],
   "source": [
    "preng = Empleado_v3('Preng','Biba',310,2700)"
   ]
  },
  {
   "cell_type": "code",
   "execution_count": 33,
   "metadata": {},
   "outputs": [],
   "source": [
    "preng.incrementoSalario()"
   ]
  },
  {
   "cell_type": "code",
   "execution_count": 39,
   "metadata": {},
   "outputs": [
    {
     "data": {
      "text/plain": [
       "2808"
      ]
     },
     "execution_count": 39,
     "metadata": {},
     "output_type": "execute_result"
    }
   ],
   "source": [
    "preng.salario"
   ]
  },
  {
   "cell_type": "code",
   "execution_count": 36,
   "metadata": {},
   "outputs": [
    {
     "data": {
      "text/plain": [
       "{'nombre': 'Preng',\n",
       " 'apellido': 'Biba',\n",
       " 'correo': 'preng.biba@galileo.edu',\n",
       " 'oficina': 310,\n",
       " 'salario': 2808}"
      ]
     },
     "execution_count": 36,
     "metadata": {},
     "output_type": "execute_result"
    }
   ],
   "source": [
    "preng.__dict__"
   ]
  },
  {
   "cell_type": "code",
   "execution_count": 44,
   "metadata": {},
   "outputs": [
    {
     "data": {
      "text/plain": [
       "mappingproxy({'__module__': '__main__',\n",
       "              'incremento': 1.04,\n",
       "              '__init__': <function __main__.Empleado_v3.__init__(self, nmb, apl, of, slr)>,\n",
       "              'nombreCompleto': <function __main__.Empleado_v3.nombreCompleto(self)>,\n",
       "              'incrementoSalario': <function __main__.Empleado_v3.incrementoSalario(self)>,\n",
       "              '__dict__': <attribute '__dict__' of 'Empleado_v3' objects>,\n",
       "              '__weakref__': <attribute '__weakref__' of 'Empleado_v3' objects>,\n",
       "              '__doc__': None})"
      ]
     },
     "execution_count": 44,
     "metadata": {},
     "output_type": "execute_result"
    }
   ],
   "source": [
    "Empleado_v3.__dict__ "
   ]
  },
  {
   "cell_type": "code",
   "execution_count": 40,
   "metadata": {},
   "outputs": [],
   "source": [
    "preng.incremento = 1.05"
   ]
  },
  {
   "cell_type": "code",
   "execution_count": 41,
   "metadata": {},
   "outputs": [],
   "source": [
    "preng.incrementoSalario()"
   ]
  },
  {
   "cell_type": "code",
   "execution_count": 42,
   "metadata": {},
   "outputs": [
    {
     "data": {
      "text/plain": [
       "2920"
      ]
     },
     "execution_count": 42,
     "metadata": {},
     "output_type": "execute_result"
    }
   ],
   "source": [
    "preng.salario"
   ]
  },
  {
   "cell_type": "code",
   "execution_count": 48,
   "metadata": {},
   "outputs": [],
   "source": [
    "Empleado_v3.cambiarIncremento(1.08)"
   ]
  },
  {
   "cell_type": "code",
   "execution_count": 49,
   "metadata": {},
   "outputs": [],
   "source": [
    "preng.incrementoSalario()"
   ]
  },
  {
   "cell_type": "code",
   "execution_count": 50,
   "metadata": {},
   "outputs": [
    {
     "data": {
      "text/plain": [
       "3036"
      ]
     },
     "execution_count": 50,
     "metadata": {},
     "output_type": "execute_result"
    }
   ],
   "source": [
    "preng.salario"
   ]
  },
  {
   "cell_type": "code",
   "execution_count": 54,
   "metadata": {},
   "outputs": [],
   "source": [
    "preng = Empleado_v3.from_str(\"Preng-Biba-310-2700\")"
   ]
  },
  {
   "cell_type": "code",
   "execution_count": 55,
   "metadata": {},
   "outputs": [
    {
     "data": {
      "text/plain": [
       "{'nombre': 'Preng',\n",
       " 'apellido': 'Biba',\n",
       " 'correo': 'preng.biba@galileo.edu',\n",
       " 'oficina': 310,\n",
       " 'salario': 2700.0}"
      ]
     },
     "execution_count": 55,
     "metadata": {},
     "output_type": "execute_result"
    }
   ],
   "source": [
    "preng.__dict__"
   ]
  },
  {
   "cell_type": "code",
   "execution_count": null,
   "metadata": {},
   "outputs": [],
   "source": []
  }
 ],
 "metadata": {
  "kernelspec": {
   "display_name": "Python 3",
   "language": "python",
   "name": "python3"
  },
  "language_info": {
   "codemirror_mode": {
    "name": "ipython",
    "version": 3
   },
   "file_extension": ".py",
   "mimetype": "text/x-python",
   "name": "python",
   "nbconvert_exporter": "python",
   "pygments_lexer": "ipython3",
   "version": "3.8.5"
  }
 },
 "nbformat": 4,
 "nbformat_minor": 4
}
