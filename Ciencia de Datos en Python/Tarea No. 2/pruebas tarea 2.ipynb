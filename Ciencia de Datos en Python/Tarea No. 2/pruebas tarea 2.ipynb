{
 "cells": [
  {
   "cell_type": "code",
   "execution_count": 96,
   "metadata": {},
   "outputs": [
    {
     "name": "stdin",
     "output_type": "stream",
     "text": [
      "Ingrese una lista de tuplas:  [(),(),('X',),('a','b'),('a','b','c'),('d')]\n"
     ]
    },
    {
     "name": "stdout",
     "output_type": "stream",
     "text": [
      "[\"[(),(),('X',),('a','b'),('a','b','c'),('d')]\"]\n",
      "<class 'str'>\n",
      "[\"[(),(),('X',),('a','b'),('a','b','c'),('d')]\"]\n",
      "cantidad:  1\n",
      "la nueva tupla es: ['[', '(', ')', ',', '(', ')', ',', '(', \"'\", 'X', \"'\", ',', ')', ',', '(', \"'\", 'a', \"'\", ',', \"'\", 'b', \"'\", ')', ',', '(', \"'\", 'a', \"'\", ',', \"'\", 'b', \"'\", ',', \"'\", 'c', \"'\", ')', ',', '(', \"'\", 'd', \"'\", ')', ']']\n",
      "cantidad nueva:  44\n"
     ]
    }
   ],
   "source": [
    "tupla = input('Ingrese una lista de tuplas: ')\n",
    "#tupla = [(),(),('X',),('a','b'),('a','b','c'),('d')]\n",
    "def Convert(string): \n",
    "    string = string.\n",
    "    li = list(string.split(\" \")) \n",
    "    return li \n",
    "\n",
    "print(Convert(tupla)) \n",
    "li2 = Convert(tupla)\n",
    "print(type(tupla))\n",
    "print(li2)\n",
    "print('cantidad: ', len(li2))\n",
    "\n",
    "tupla = [t for t in tupla if t]\n",
    "print(f'la nueva tupla es: {tupla}')\n",
    "print('cantidad nueva: ', len(tupla))"
   ]
  },
  {
   "cell_type": "code",
   "execution_count": 105,
   "metadata": {},
   "outputs": [
    {
     "name": "stdin",
     "output_type": "stream",
     "text": [
      "Ingrese una lista de tuplas:  [(),(),('X',),('a','b'),('a','b','c'),('d')]\n"
     ]
    },
    {
     "name": "stdout",
     "output_type": "stream",
     "text": [
      "<class 'str'>\n",
      "[(),(),('X',),('a','b'),('a','b','c'),('d')\n",
      "cantidad:  43\n",
      "la nueva tupla es: ['[', '(', ')', ',', '(', ')', ',', '(', \"'\", 'X', \"'\", ',', ')', ',', '(', \"'\", 'a', \"'\", ',', \"'\", 'b', \"'\", ')', ',', '(', \"'\", 'a', \"'\", ',', \"'\", 'b', \"'\", ',', \"'\", 'c', \"'\", ')', ',', '(', \"'\", 'd', \"'\", ')']\n",
      "cantidad nueva:  43\n"
     ]
    }
   ],
   "source": [
    "tupla = input('Ingrese una lista de tuplas: ')\n",
    "#tupla = [(),(),('X',),('a','b'),('a','b','c'),('d')]\n",
    "tupla = tupla.replace(' ', '')\n",
    "tupla = tupla.replace(']', '')\n",
    "print(type(tupla))\n",
    "print(tupla)\n",
    "tupla = list(tupla)\n",
    "print('cantidad: ', len(tupla))\n",
    "\n",
    "tupla = [t for t in tupla if t]\n",
    "print(f'la nueva tupla es: {tupla}')\n",
    "print('cantidad nueva: ', len(tupla))"
   ]
  },
  {
   "cell_type": "code",
   "execution_count": 93,
   "metadata": {},
   "outputs": [
    {
     "name": "stdin",
     "output_type": "stream",
     "text": [
      "Enter number of elements :  5\n",
      " 5\n",
      " 5\n",
      " 5\n",
      " 5\n",
      " 5\n"
     ]
    },
    {
     "name": "stdout",
     "output_type": "stream",
     "text": [
      "[5, 5, 5, 5, 5]\n"
     ]
    }
   ],
   "source": [
    "\n",
    "# creating an empty list \n",
    "lst = [] \n",
    "  \n",
    "# number of elemetns as input \n",
    "n = int(input(\"Enter number of elements : \")) \n",
    "  \n",
    "# iterating till the range \n",
    "for i in range(0, n): \n",
    "    ele = int(input()) \n",
    "  \n",
    "    lst.append(ele) # adding the element \n",
    "      \n",
    "print(lst) \n"
   ]
  },
  {
   "cell_type": "code",
   "execution_count": 95,
   "metadata": {},
   "outputs": [
    {
     "name": "stdout",
     "output_type": "stream",
     "text": [
      "[\"[(),(),('X',),('a','b'),('a','b','c'),('d')]\"]\n"
     ]
    }
   ],
   "source": [
    "\n",
    "# Python code to convert string to list \n",
    "  \n",
    "def Convert(string): \n",
    "    li = list(string.split(\" \")) \n",
    "    return li \n",
    "  \n",
    "# Driver code     \n",
    "str1 = \"[(),(),('X',),('a','b'),('a','b','c'),('d')]\"\n",
    "print(Convert(str1)) \n"
   ]
  },
  {
   "cell_type": "code",
   "execution_count": 98,
   "metadata": {},
   "outputs": [
    {
     "name": "stdin",
     "output_type": "stream",
     "text": [
      "Ingrese una lista de tuplas:  [(),(),('X',),('a','b'),('a','b','c'),('d')]\n"
     ]
    },
    {
     "name": "stdout",
     "output_type": "stream",
     "text": [
      "[(),(),('X',),('a','b'),('a','b','c'),('d')]\n"
     ]
    }
   ],
   "source": [
    "tupla = input('Ingrese una lista de tuplas: ')\n",
    "print(tupla.replace('[]', ''))\n",
    "#print(f'List of Characters ={list(tupla.strip())}')"
   ]
  },
  {
   "cell_type": "code",
   "execution_count": null,
   "metadata": {},
   "outputs": [],
   "source": [
    "def promedio(valores):\n",
    "    if isinstance(valores, (list,tuple)):\n",
    "        acumulador = 0\n",
    "        for v in valores:\n",
    "            acumulador += v\n",
    "        return acumulador\n",
    "    else:\n",
    "        raise ValueError('Ha pasado un argumento que ni es lista ni tupla.')\n",
    "\n",
    "tupla = ((10, 10, 10, 12), (30, 45, 56, 45), (81, 80, 39, 32))\n",
    "try:\n",
    "    resultado = promedio(tupla)\n",
    "    print('El resultado del promedio es {} es igual a {}'.format(tupla, resultado))\n",
    "except ValueError as e:    \n",
    "    print('ERROR: ', e)"
   ]
  },
  {
   "cell_type": "code",
   "execution_count": 141,
   "metadata": {},
   "outputs": [
    {
     "name": "stdout",
     "output_type": "stream",
     "text": [
      "Valor de la tupla (10.5, 44.0, 58.0)\n"
     ]
    }
   ],
   "source": [
    "def promedio(tupla):\n",
    "    a=0\n",
    "    final = list()\n",
    "    for i in (tupla):\n",
    "        result = sum(tupla[a])/len(tupla[a])\n",
    "        final.append(result)\n",
    "        a+=1\n",
    "    b = tuple(final)\n",
    "    return b\n",
    "\n",
    "tupla = ((10, 10, 10, 12), (30, 45, 56, 45), (81, 80, 39, 32))\n",
    "b = promedio(tupla)\n",
    "print('Valor de la tupla {}'. format(b))"
   ]
  },
  {
   "cell_type": "code",
   "execution_count": 121,
   "metadata": {},
   "outputs": [
    {
     "data": {
      "text/plain": [
       "(10, 10, 10, 12)"
      ]
     },
     "execution_count": 121,
     "metadata": {},
     "output_type": "execute_result"
    }
   ],
   "source": [
    "tupla[0]"
   ]
  },
  {
   "cell_type": "code",
   "execution_count": 108,
   "metadata": {},
   "outputs": [
    {
     "data": {
      "text/plain": [
       "176"
      ]
     },
     "execution_count": 108,
     "metadata": {},
     "output_type": "execute_result"
    }
   ],
   "source": [
    "sum(tupla[1])"
   ]
  },
  {
   "cell_type": "code",
   "execution_count": 116,
   "metadata": {},
   "outputs": [
    {
     "data": {
      "text/plain": [
       "3"
      ]
     },
     "execution_count": 116,
     "metadata": {},
     "output_type": "execute_result"
    }
   ],
   "source": [
    "len(tupla)"
   ]
  },
  {
   "cell_type": "code",
   "execution_count": 110,
   "metadata": {},
   "outputs": [
    {
     "data": {
      "text/plain": [
       "44.0"
      ]
     },
     "execution_count": 110,
     "metadata": {},
     "output_type": "execute_result"
    }
   ],
   "source": [
    "sum(tupla[1])/len(tupla[1])"
   ]
  },
  {
   "cell_type": "code",
   "execution_count": 147,
   "metadata": {},
   "outputs": [
    {
     "name": "stdout",
     "output_type": "stream",
     "text": [
      "*\n",
      "**\n",
      "***\n",
      "****\n"
     ]
    }
   ],
   "source": [
    "numero = 4 #int(input(\"Ingrese un número: \"))\n",
    "signo = '*' #input(\"Ingrese un signo: \")\n",
    "\n",
    "for n in range(1, numero+1):\n",
    "    for x in range(n):\n",
    "        print(signo, end='')\n",
    "    print()     \n",
    "    "
   ]
  },
  {
   "cell_type": "code",
   "execution_count": 164,
   "metadata": {},
   "outputs": [
    {
     "name": "stdin",
     "output_type": "stream",
     "text": [
      "Ingrese un número:  9\n",
      "Ingrese un signo:  /\n"
     ]
    },
    {
     "name": "stdout",
     "output_type": "stream",
     "text": [
      "/\n",
      "//\n",
      "///\n",
      "////\n",
      "/////\n",
      "//////\n",
      "///////\n",
      "////////\n",
      "/////////\n",
      "\n",
      "\n",
      "/////////\n",
      "////////\n",
      "///////\n",
      "//////\n",
      "/////\n",
      "////\n",
      "///\n",
      "//\n",
      "/\n",
      "\n",
      "\n",
      "         \n",
      "\n",
      "        /\n",
      "\n",
      "       //\n",
      "\n",
      "      ///\n",
      "\n",
      "     ////\n",
      "\n",
      "    /////\n",
      "\n",
      "   //////\n",
      "\n",
      "  ///////\n",
      "\n",
      " ////////\n",
      "\n",
      "/////////\n",
      "\n",
      "/////////\n",
      " ////////\n",
      "  ///////\n",
      "   //////\n",
      "    /////\n",
      "     ////\n",
      "      ///\n",
      "       //\n",
      "        /\n"
     ]
    }
   ],
   "source": [
    "def triangulo(x,y):\n",
    "    for i in range(0,x,1):\n",
    "        for j in range(0,i+1,1):\n",
    "            print(y,end=\"\")\n",
    "        print(\"\")\n",
    "    print(\"\\n\")\n",
    "    \n",
    "    for i in range(x,0,-1):\n",
    "        for j in range(0,i,1):\n",
    "            print(y,end=\"\")\n",
    "        print(\"\")    \n",
    "    print(\"\\n\")\n",
    "    \n",
    "    for i in range(x,-1,-1):\n",
    "        for j in range(i):\n",
    "            print(\" \", end=\"\")\n",
    "        for k in range(i,x):\n",
    "            print(y,end=\"\")\n",
    "        print(\"\\n\")\n",
    "    \n",
    "    for i in range(x-1,-1,-1):\n",
    "        for j in range(x - i -1):\n",
    "            print(\" \", end=\"\")\n",
    "        for k in range(i+1):\n",
    "            print(y, end=\"\")\n",
    "        print(\"\")    \n",
    "\n",
    "numero =int(input(\"Ingrese un número: \"))\n",
    "signo = input(\"Ingrese un signo: \")\n",
    "triangulo(numero,signo)\n"
   ]
  },
  {
   "cell_type": "code",
   "execution_count": null,
   "metadata": {},
   "outputs": [],
   "source": []
  }
 ],
 "metadata": {
  "kernelspec": {
   "display_name": "Python 3",
   "language": "python",
   "name": "python3"
  },
  "language_info": {
   "codemirror_mode": {
    "name": "ipython",
    "version": 3
   },
   "file_extension": ".py",
   "mimetype": "text/x-python",
   "name": "python",
   "nbconvert_exporter": "python",
   "pygments_lexer": "ipython3",
   "version": "3.8.5"
  }
 },
 "nbformat": 4,
 "nbformat_minor": 4
}
