{
 "cells": [
  {
   "cell_type": "markdown",
   "metadata": {},
   "source": [
    ">># **Ciencia de Datos en Python**\n",
    "### Hoja de Trabajo #2 - Sintaxis, Listas y Tuplas\n",
    "###### *Marco Tulio Escobar Muñoz*"
   ]
  },
  {
   "cell_type": "markdown",
   "metadata": {},
   "source": [
    "## Part #1 (Programación y Sintaxis)"
   ]
  },
  {
   "cell_type": "markdown",
   "metadata": {},
   "source": [
    "1. Haga un programa en Python que reciba de parámetro un número de segundos y que despliegue en pantalla, las horas, minutos y segundos que representan. \n",
    "\n",
    "* Si el número de segundos recibidos fuera: 2743 entonces su programa debería desplegar: Horas: 0, Minutos: 45 , Segundos: 43\n",
    "* Si el número de segundos recibidos fuera 5871: Horas: 1, Minutos: 37, Segundos: 51\n",
    "\n",
    "   Recuerde manejar excepciones y errores que considere necesarios."
   ]
  },
  {
   "cell_type": "code",
   "execution_count": 17,
   "metadata": {},
   "outputs": [
    {
     "name": "stdin",
     "output_type": "stream",
     "text": [
      "Ingrese la cantidad en segundos:  5871\n"
     ]
    },
    {
     "name": "stdout",
     "output_type": "stream",
     "text": [
      "Horas: 1, Minutos: 37, Segundos: 51\n",
      "bloque terminado\n"
     ]
    }
   ],
   "source": [
    "try:\n",
    "    parametro = int(input('Ingrese la cantidad en segundos: '))\n",
    "    hora  = parametro // (60 * 60)\n",
    "    parametro = parametro % (60 * 60)\n",
    "    mint = parametro // 60\n",
    "    seg = parametro % 60\n",
    "    print('Horas: {}, Minutos: {}, Segundos: {}'.format(hora,mint,seg))\n",
    "except Exception as e:\n",
    "    print(e)\n",
    "finally:\n",
    "    print(\"bloque terminado\")"
   ]
  },
  {
   "cell_type": "markdown",
   "metadata": {},
   "source": [
    "2. Haga una función en Python que dado un número entre 1 y 20. Y un carácter cualquiera despliegue cuatro patrones triangulares.\n",
    "   Por ejemplo si el usuario ingresara el número 4 y el símbolo * el programa deberá desplegar lo siguiente:"
   ]
  },
  {
   "cell_type": "markdown",
   "metadata": {},
   "source": [
    "![alt text](parte1-2.png \"Imagen\")"
   ]
  },
  {
   "cell_type": "code",
   "execution_count": 4,
   "metadata": {},
   "outputs": [
    {
     "name": "stdin",
     "output_type": "stream",
     "text": [
      "Ingrese un número:  4\n",
      "Ingrese un signo:  *\n"
     ]
    },
    {
     "name": "stdout",
     "output_type": "stream",
     "text": [
      "*\n",
      "**\n",
      "***\n",
      "****\n",
      "\n",
      "\n",
      "****\n",
      "***\n",
      "**\n",
      "*\n",
      "\n",
      "\n",
      "    \n",
      "\n",
      "   *\n",
      "\n",
      "  **\n",
      "\n",
      " ***\n",
      "\n",
      "****\n",
      "\n",
      "****\n",
      " ***\n",
      "  **\n",
      "   *\n"
     ]
    }
   ],
   "source": [
    "def triangulo(x,y):\n",
    "    for i in range(0,x,1):\n",
    "        for j in range(0,i+1,1):\n",
    "            print(y,end=\"\")\n",
    "        print(\"\")\n",
    "    print(\"\\n\")\n",
    "    \n",
    "    for i in range(x,0,-1):\n",
    "        for j in range(0,i,1):\n",
    "            print(y,end=\"\")\n",
    "        print(\"\")    \n",
    "    print(\"\\n\")\n",
    "    \n",
    "    for i in range(x,-1,-1):\n",
    "        for j in range(i):\n",
    "            print(\" \", end=\"\")\n",
    "        for k in range(i,x):\n",
    "            print(y,end=\"\")\n",
    "        print(\"\\n\")\n",
    "    \n",
    "    for i in range(x-1,-1,-1):\n",
    "        for j in range(x - i -1):\n",
    "            print(\" \", end=\"\")\n",
    "        for k in range(i+1):\n",
    "            print(y, end=\"\")\n",
    "        print(\"\")    \n",
    "\n",
    "numero =int(input(\"Ingrese un número: \"))\n",
    "signo = input(\"Ingrese un signo: \")\n",
    "triangulo(numero,signo)"
   ]
  },
  {
   "cell_type": "markdown",
   "metadata": {},
   "source": [
    "3. Haga un programa en Python que la fecha de nacimiento de una persona (puede ingresar por separado cada valor, es decir pedir primer día, luego mes y luego año), despliegue la edad de la persona en años, meses y días. Su resultado puede ser aproximado."
   ]
  },
  {
   "cell_type": "code",
   "execution_count": 20,
   "metadata": {},
   "outputs": [
    {
     "name": "stdin",
     "output_type": "stream",
     "text": [
      "Ingrese día de nacimiento:  28\n",
      "Ingrese el número de mes de nacimiento:  5\n",
      "Ingrese el año de nacimiento:  1996\n"
     ]
    },
    {
     "name": "stdout",
     "output_type": "stream",
     "text": [
      "Su edad es: 24 años.\n"
     ]
    }
   ],
   "source": [
    "from datetime import date\n",
    "\n",
    "def edad_anos(fecha):\n",
    "    fecha_act = date.today()\n",
    "    result = fecha_act.year - fecha_nac.year\n",
    "    result -= ((fecha_act.month, fecha_act.day) < (fecha_nac.month, fecha_nac.day))\n",
    "    return result\n",
    "\n",
    "day = int(input('Ingrese día de nacimiento: '))\n",
    "mont = int(input('Ingrese el número de mes de nacimiento: '))\n",
    "year = int(input('Ingrese el año de nacimiento: '))\n",
    "fecha_nac = date(year,mont,day)\n",
    "edad = edad_anos(fecha_nac)\n",
    "print(f'Su edad es: {edad} años.')"
   ]
  },
  {
   "cell_type": "markdown",
   "metadata": {},
   "source": [
    "## Part #2 (Estructura de Datos)"
   ]
  },
  {
   "cell_type": "markdown",
   "metadata": {},
   "source": [
    "1. Escriba una función en Python que dada una tupla de elementos (números o letras) esta se convierta a un string. Tomar nota del siguiente ejemplo:\n",
    "    * Si la entrada fuera (10,20,40,5,70)\n",
    "    * La salida debería ser: 102040570"
   ]
  },
  {
   "cell_type": "code",
   "execution_count": 2,
   "metadata": {},
   "outputs": [
    {
     "name": "stdin",
     "output_type": "stream",
     "text": [
      "Ingrese una tupla de elementos:  (10,20,40,5,70)\n"
     ]
    },
    {
     "name": "stdout",
     "output_type": "stream",
     "text": [
      "El resultado es el siguiente: 102040570 \n"
     ]
    }
   ],
   "source": [
    "tupla = tuple(input(\"Ingrese una tupla de elementos: \"))\n",
    "tupla = (10,20,40,5,70)\n",
    "concat = ''.join(map(str,tupla))\n",
    "print(f'El resultado es el siguiente: {concat} ')"
   ]
  },
  {
   "cell_type": "markdown",
   "metadata": {},
   "source": [
    "2. Cree un programa en Python que dada una lista de tuplas, elimine las tuplas que están vacías. Tomar nota del siguiente ejemplo:\n",
    "    * Si la lista fuera: [(),(),('X',),('a','b'),('a','b','c'),('d')]\n",
    "    * El resultado debería ser: [('X'),('a','b'),('a','b','c'),'d']"
   ]
  },
  {
   "cell_type": "code",
   "execution_count": 33,
   "metadata": {},
   "outputs": [
    {
     "name": "stdout",
     "output_type": "stream",
     "text": [
      "cantidad:  6\n",
      "la nueva tupla es: [('X',), ('a', 'b'), ('a', 'b', 'c'), 'd']\n",
      "cantidad nueva:  4\n"
     ]
    }
   ],
   "source": [
    "tupla = [(),(),('X',),('a','b'),('a','b','c'),('d')]\n",
    "print('cantidad: ', len(tupla))\n",
    "\n",
    "tupla = [t for t in tupla if t]\n",
    "print(f'la nueva tupla es: {tupla}')\n",
    "print('cantidad nueva: ', len(tupla))"
   ]
  },
  {
   "cell_type": "markdown",
   "metadata": {},
   "source": [
    "3. Cree una función en Python que dada una tupla de tuplas con numeros, produzca una tupla con el promedio de cada tupla individual. Tomar nota del siguiente ejemplo:\n",
    "    * Si la tupla de entrada fuera: ((10, 10, 10, 12), (30, 45, 56, 45), (81, 80, 39, 32))\n",
    "    * El resultado debería ser: (10.5, 44, 58)"
   ]
  },
  {
   "cell_type": "code",
   "execution_count": 3,
   "metadata": {},
   "outputs": [
    {
     "name": "stdout",
     "output_type": "stream",
     "text": [
      "Valor de la tupla (10.5, 44.0, 58.0)\n"
     ]
    }
   ],
   "source": [
    "def promedio(tupla):\n",
    "    a=0\n",
    "    final = list()\n",
    "    for i in (tupla):\n",
    "        result = sum(tupla[a])/len(tupla[a])\n",
    "        final.append(result)\n",
    "        a+=1\n",
    "    b = tuple(final)\n",
    "    return b\n",
    "\n",
    "tupla = ((10, 10, 10, 12), (30, 45, 56, 45), (81, 80, 39, 32))\n",
    "b = promedio(tupla)\n",
    "print('Valor de la tupla {}'. format(b))"
   ]
  }
 ],
 "metadata": {
  "kernelspec": {
   "display_name": "Python 3",
   "language": "python",
   "name": "python3"
  },
  "language_info": {
   "codemirror_mode": {
    "name": "ipython",
    "version": 3
   },
   "file_extension": ".py",
   "mimetype": "text/x-python",
   "name": "python",
   "nbconvert_exporter": "python",
   "pygments_lexer": "ipython3",
   "version": "3.8.5"
  }
 },
 "nbformat": 4,
 "nbformat_minor": 4
}
